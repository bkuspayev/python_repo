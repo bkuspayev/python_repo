{
 "cells": [
  {
   "cell_type": "code",
   "execution_count": 1,
   "metadata": {
    "collapsed": true
   },
   "outputs": [],
   "source": [
    "import pandas as pd\n",
    "import ast"
   ]
  },
  {
   "cell_type": "code",
   "execution_count": 2,
   "outputs": [],
   "source": [
    "stuard = pd.read_csv('hh_resumes.csv', sep=';')"
   ],
   "metadata": {
    "collapsed": false,
    "pycharm": {
     "name": "#%%\n"
    }
   }
  },
  {
   "cell_type": "code",
   "execution_count": 3,
   "outputs": [
    {
     "data": {
      "text/plain": "                                               title   age   gender  \\\n0                               Менеджер по проектам  37.0  Женщина   \n1                           Региональный управляющий  31.0  Женщина   \n2                                      Бортпроводник  27.0  Женщина   \n3                                      Бортпроводник   NaN  Женщина   \n4  Специалист по производственной документации (А...  40.0  Женщина   \n\n         experience                            last_job_title  \\\n0  15 лет 7 месяцев              Администратор, офис-менеджер   \n1   9 лет 9 месяцев                          Директор филиала   \n2             7 лет                             Бортпроводник   \n3  4 года 8 месяцев                             Бортпроводник   \n4   16 лет 2 месяца  Специалист Сервис центра и администрации   \n\n             last_job_company                    last_job_period   birthdate  \\\n0  Caspian Energy Corporation           Июнь 2021 — Октябрь 2021  1984-02-08   \n1               Americana LLC   Январь 2017 — по настоящее время  1990-06-23   \n2              AIR ASTANA, АО          Сентябрь 2019 — Июнь 2021  1994-09-19   \n3              AIR ASTANA, АО          Август 2018 — Август 2020         NaN   \n4              AIR ASTANA, АО  Октябрь 2014 — по настоящее время  1981-07-16   \n\n         city              relocate  ...  \\\n0      Алматы             м. Москва  ...   \n1  Нур-Султан  не готова к переезду  ...   \n2      Алматы     готова к переезду  ...   \n3      Алматы  не готова к переезду  ...   \n4  Нур-Султан  не готова к переезду  ...   \n\n                                               about  \\\n0  Очень хорошо владею английским языком, умею уб...   \n1  С 2017 года увлечённо изучаю внутренний потенц...   \n2  Открывать для себя новые ощущения и эмоции пры...   \n3  Коммуникабельность, ответственность, пунктуаль...   \n4                     ответственная, комуникабельная   \n\n                                           education  \\\n0  2006; Казахский университет международных отно...   \n1  2012; КазУМОиМЯ(иняз); Два иностраных языка, б...   \n2  2016; Казахский национальный университет имени...   \n3  2019; Евразийский национальный университет име...   \n4  2003; Карагандинский государственный университ...   \n\n                                           languages             citizenship  \\\n0  Казахский — Родной\\nАнглийский — C1 — Продвину...  Гражданство: Казахстан   \n1  Казахский — Родной\\nАнглийский — C2 — В соверш...  Гражданство: Казахстан   \n2  Казахский — Родной\\nАнглийский — C2 — В соверш...  Гражданство: Казахстан   \n3  Казахский — Родной\\nАнглийский — C1 — Продвину...  Гражданство: Казахстан   \n4      Казахский — Родной\\nАнглийский — B1 — Средний  Гражданство: Казахстан   \n\n                   work_permission  \\\n0  Разрешение на работу: Казахстан   \n1  Разрешение на работу: Казахстан   \n2  Разрешение на работу: Казахстан   \n3  Разрешение на работу: Казахстан   \n4  Разрешение на работу: Казахстан   \n\n                                         travel_time  \\\n0  Желательное время в пути до работы: не имеет з...   \n1  Желательное время в пути до работы: не имеет з...   \n2  Желательное время в пути до работы: не имеет з...   \n3  Желательное время в пути до работы: не более часа   \n4  Желательное время в пути до работы: не имеет з...   \n\n               resume_updated                 last_online  \\\n0  2021-10-16 03:59:00.000000  2021-10-26 15:11:00.000000   \n1  2021-08-19 15:20:00.000000  2021-10-26 14:47:00.000000   \n2  2021-10-11 13:45:00.000000  2021-10-26 15:14:00.000000   \n3  2021-06-23 20:25:00.000000  2021-10-26 13:31:00.000000   \n4  2019-06-21 10:22:00.000000  2021-10-26 15:02:00.000000   \n\n                                                 url  \\\n0  https://hh.kz/resume/f503ec6800061ba92a00572d4...   \n1  https://hh.kz/resume/18b143640000be654500572d4...   \n2  https://hh.kz/resume/31d195620002e0a24200572d4...   \n3  https://hh.kz/resume/3e9237bc0003a6acbe00572d4...   \n4  https://hh.kz/resume/f4d0c08a000715eed300572d4...   \n\n                                       search_query  \n0  Бортпроводник airastana; Бортпроводник qazaq air  \n1                           Бортпроводник airastana  \n2                           Бортпроводник airastana  \n3                           Бортпроводник airastana  \n4                           Бортпроводник airastana  \n\n[5 rows x 27 columns]",
      "text/html": "<div>\n<style scoped>\n    .dataframe tbody tr th:only-of-type {\n        vertical-align: middle;\n    }\n\n    .dataframe tbody tr th {\n        vertical-align: top;\n    }\n\n    .dataframe thead th {\n        text-align: right;\n    }\n</style>\n<table border=\"1\" class=\"dataframe\">\n  <thead>\n    <tr style=\"text-align: right;\">\n      <th></th>\n      <th>title</th>\n      <th>age</th>\n      <th>gender</th>\n      <th>experience</th>\n      <th>last_job_title</th>\n      <th>last_job_company</th>\n      <th>last_job_period</th>\n      <th>birthdate</th>\n      <th>city</th>\n      <th>relocate</th>\n      <th>...</th>\n      <th>about</th>\n      <th>education</th>\n      <th>languages</th>\n      <th>citizenship</th>\n      <th>work_permission</th>\n      <th>travel_time</th>\n      <th>resume_updated</th>\n      <th>last_online</th>\n      <th>url</th>\n      <th>search_query</th>\n    </tr>\n  </thead>\n  <tbody>\n    <tr>\n      <th>0</th>\n      <td>Менеджер по проектам</td>\n      <td>37.0</td>\n      <td>Женщина</td>\n      <td>15 лет 7 месяцев</td>\n      <td>Администратор, офис-менеджер</td>\n      <td>Caspian Energy Corporation</td>\n      <td>Июнь 2021 — Октябрь 2021</td>\n      <td>1984-02-08</td>\n      <td>Алматы</td>\n      <td>м. Москва</td>\n      <td>...</td>\n      <td>Очень хорошо владею английским языком, умею уб...</td>\n      <td>2006; Казахский университет международных отно...</td>\n      <td>Казахский — Родной\\nАнглийский — C1 — Продвину...</td>\n      <td>Гражданство: Казахстан</td>\n      <td>Разрешение на работу: Казахстан</td>\n      <td>Желательное время в пути до работы: не имеет з...</td>\n      <td>2021-10-16 03:59:00.000000</td>\n      <td>2021-10-26 15:11:00.000000</td>\n      <td>https://hh.kz/resume/f503ec6800061ba92a00572d4...</td>\n      <td>Бортпроводник airastana; Бортпроводник qazaq air</td>\n    </tr>\n    <tr>\n      <th>1</th>\n      <td>Региональный управляющий</td>\n      <td>31.0</td>\n      <td>Женщина</td>\n      <td>9 лет 9 месяцев</td>\n      <td>Директор филиала</td>\n      <td>Americana LLC</td>\n      <td>Январь 2017 — по настоящее время</td>\n      <td>1990-06-23</td>\n      <td>Нур-Султан</td>\n      <td>не готова к переезду</td>\n      <td>...</td>\n      <td>С 2017 года увлечённо изучаю внутренний потенц...</td>\n      <td>2012; КазУМОиМЯ(иняз); Два иностраных языка, б...</td>\n      <td>Казахский — Родной\\nАнглийский — C2 — В соверш...</td>\n      <td>Гражданство: Казахстан</td>\n      <td>Разрешение на работу: Казахстан</td>\n      <td>Желательное время в пути до работы: не имеет з...</td>\n      <td>2021-08-19 15:20:00.000000</td>\n      <td>2021-10-26 14:47:00.000000</td>\n      <td>https://hh.kz/resume/18b143640000be654500572d4...</td>\n      <td>Бортпроводник airastana</td>\n    </tr>\n    <tr>\n      <th>2</th>\n      <td>Бортпроводник</td>\n      <td>27.0</td>\n      <td>Женщина</td>\n      <td>7 лет</td>\n      <td>Бортпроводник</td>\n      <td>AIR ASTANA, АО</td>\n      <td>Сентябрь 2019 — Июнь 2021</td>\n      <td>1994-09-19</td>\n      <td>Алматы</td>\n      <td>готова к переезду</td>\n      <td>...</td>\n      <td>Открывать для себя новые ощущения и эмоции пры...</td>\n      <td>2016; Казахский национальный университет имени...</td>\n      <td>Казахский — Родной\\nАнглийский — C2 — В соверш...</td>\n      <td>Гражданство: Казахстан</td>\n      <td>Разрешение на работу: Казахстан</td>\n      <td>Желательное время в пути до работы: не имеет з...</td>\n      <td>2021-10-11 13:45:00.000000</td>\n      <td>2021-10-26 15:14:00.000000</td>\n      <td>https://hh.kz/resume/31d195620002e0a24200572d4...</td>\n      <td>Бортпроводник airastana</td>\n    </tr>\n    <tr>\n      <th>3</th>\n      <td>Бортпроводник</td>\n      <td>NaN</td>\n      <td>Женщина</td>\n      <td>4 года 8 месяцев</td>\n      <td>Бортпроводник</td>\n      <td>AIR ASTANA, АО</td>\n      <td>Август 2018 — Август 2020</td>\n      <td>NaN</td>\n      <td>Алматы</td>\n      <td>не готова к переезду</td>\n      <td>...</td>\n      <td>Коммуникабельность, ответственность, пунктуаль...</td>\n      <td>2019; Евразийский национальный университет име...</td>\n      <td>Казахский — Родной\\nАнглийский — C1 — Продвину...</td>\n      <td>Гражданство: Казахстан</td>\n      <td>Разрешение на работу: Казахстан</td>\n      <td>Желательное время в пути до работы: не более часа</td>\n      <td>2021-06-23 20:25:00.000000</td>\n      <td>2021-10-26 13:31:00.000000</td>\n      <td>https://hh.kz/resume/3e9237bc0003a6acbe00572d4...</td>\n      <td>Бортпроводник airastana</td>\n    </tr>\n    <tr>\n      <th>4</th>\n      <td>Специалист по производственной документации (А...</td>\n      <td>40.0</td>\n      <td>Женщина</td>\n      <td>16 лет 2 месяца</td>\n      <td>Специалист Сервис центра и администрации</td>\n      <td>AIR ASTANA, АО</td>\n      <td>Октябрь 2014 — по настоящее время</td>\n      <td>1981-07-16</td>\n      <td>Нур-Султан</td>\n      <td>не готова к переезду</td>\n      <td>...</td>\n      <td>ответственная, комуникабельная</td>\n      <td>2003; Карагандинский государственный университ...</td>\n      <td>Казахский — Родной\\nАнглийский — B1 — Средний</td>\n      <td>Гражданство: Казахстан</td>\n      <td>Разрешение на работу: Казахстан</td>\n      <td>Желательное время в пути до работы: не имеет з...</td>\n      <td>2019-06-21 10:22:00.000000</td>\n      <td>2021-10-26 15:02:00.000000</td>\n      <td>https://hh.kz/resume/f4d0c08a000715eed300572d4...</td>\n      <td>Бортпроводник airastana</td>\n    </tr>\n  </tbody>\n</table>\n<p>5 rows × 27 columns</p>\n</div>"
     },
     "execution_count": 3,
     "metadata": {},
     "output_type": "execute_result"
    }
   ],
   "source": [
    "stuard.head()"
   ],
   "metadata": {
    "collapsed": false,
    "pycharm": {
     "name": "#%%\n"
    }
   }
  },
  {
   "cell_type": "code",
   "execution_count": 4,
   "outputs": [],
   "source": [
    "exp = stuard.query('title == \"Бортпроводник\"').work_exp"
   ],
   "metadata": {
    "collapsed": false,
    "pycharm": {
     "name": "#%%\n"
    }
   }
  },
  {
   "cell_type": "code",
   "execution_count": 5,
   "outputs": [],
   "source": [
    "exp_d = []\n",
    "for i in exp:\n",
    "    exp_d.append(ast.literal_eval(i[1:-1]))"
   ],
   "metadata": {
    "collapsed": false,
    "pycharm": {
     "name": "#%%\n"
    }
   }
  },
  {
   "cell_type": "code",
   "execution_count": 6,
   "outputs": [
    {
     "data": {
      "text/plain": "'1 год 10 месяцев'"
     },
     "execution_count": 6,
     "metadata": {},
     "output_type": "execute_result"
    }
   ],
   "source": [
    "exp_d[0][0]['time']"
   ],
   "metadata": {
    "collapsed": false,
    "pycharm": {
     "name": "#%%\n"
    }
   }
  },
  {
   "cell_type": "code",
   "execution_count": null,
   "outputs": [],
   "source": [],
   "metadata": {
    "collapsed": false,
    "pycharm": {
     "name": "#%%\n"
    }
   }
  }
 ],
 "metadata": {
  "kernelspec": {
   "display_name": "Python 3",
   "language": "python",
   "name": "python3"
  },
  "language_info": {
   "codemirror_mode": {
    "name": "ipython",
    "version": 2
   },
   "file_extension": ".py",
   "mimetype": "text/x-python",
   "name": "python",
   "nbconvert_exporter": "python",
   "pygments_lexer": "ipython2",
   "version": "2.7.6"
  }
 },
 "nbformat": 4,
 "nbformat_minor": 0
}