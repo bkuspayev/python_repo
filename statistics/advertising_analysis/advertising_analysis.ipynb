{
 "cells": [
  {
   "cell_type": "code",
   "execution_count": 40,
   "metadata": {
    "collapsed": true
   },
   "outputs": [],
   "source": [
    "import pandas as pd\n",
    "import seaborn as sns\n",
    "import matplotlib.pyplot as plt\n",
    "import numpy as np\n",
    "import scipy.stats as ss"
   ]
  },
  {
   "cell_type": "markdown",
   "source": [
    "<ol><li>Загрузите данные, проверьте число наблюдений и столбцов, типы данных, наличие пропущенных значений, какие уникальные значения встречаются.</li>\n",
    "<li>Постройте график распределения числа показов (Impressions) для каждой рекламы, прологарифмировав значения.</li>\n",
    "<li>Создайте новую колонку c CTR. Посмотрите на описательные статистики и распределение.</li>\n",
    "<li>Проанализируйте CTR с разбивкой по рекламной кампании.</li>\n",
    "<li>Посчитайте стоимость за клик пользователя по объявлению (CPC). Изучите полученные значения, используя меры центральной тенденции и меры изменчивости.</li>\n",
    "<li>Визуализируйте CPC с разбивкой по полу пользователей, которым были показаны объявления.</li>\n",
    "<li>Посчитайте конверсию из клика в покупку.</li></ol>"
   ],
   "metadata": {
    "collapsed": false
   }
  },
  {
   "cell_type": "markdown",
   "source": [
    "<h4>Описание данных</h4>\n",
    "<li><b>ad_id</b> - идентификатор объявления (рекламы)</li>\n",
    "<li><b>xyz_campaign_id</b> – идентификатор рекламной кампании в базе компании X</li>\n",
    "<li><b>fb_campaign_id</b> – идентификатор кампании в Facebook</li>\n",
    "<li><b>age – возрастная</b> группа, которой показывалась реклама</li>\n",
    "<li><b>gender</b> – пол тех, кому показывалась реклама</li>\n",
    "<li><b>interest</b> –код, указывающий категорию, к которой относится интерес пользователя (соответствие число – интерес)</li>\n",
    "<li><b>impressions</b> – число показов</li>\n",
    "<li><b>clicks</b> – число кликов</li>\n",
    "<li><b>spent –</b> сумма, которую компания потратила на показ объявления </li>\n",
    "<li><b>total_conversion</b> – количество людей, которые заинтересовались продуктом после просмотра рекламы</li>\n",
    "<li><b>approved_conversion</b> – количество людей, которые купили продукт после просмотра рекламы</li>"
   ],
   "metadata": {
    "collapsed": false,
    "pycharm": {
     "name": "#%% md\n"
    }
   }
  },
  {
   "cell_type": "markdown",
   "source": [
    "<i><font color=\"teal\">Загрузите данные, проверьте число наблюдений и столбцов, типы данных, наличие пропущенных значений, какие уникальные значения встречаются.</font></i>"
   ],
   "metadata": {
    "collapsed": false
   }
  },
  {
   "cell_type": "code",
   "execution_count": 41,
   "outputs": [],
   "source": [
    "ad_data = pd.read_csv('conversion.csv')"
   ],
   "metadata": {
    "collapsed": false,
    "pycharm": {
     "name": "#%%\n"
    }
   }
  },
  {
   "cell_type": "code",
   "execution_count": 42,
   "outputs": [
    {
     "data": {
      "text/plain": "    ad_id  xyz_campaign_id  fb_campaign_id    age gender  interest  \\\n0  708746              916          103916  30-34      M        15   \n1  708749              916          103917  30-34      M        16   \n2  708771              916          103920  30-34      M        20   \n3  708815              916          103928  30-34      M        28   \n4  708818              916          103928  30-34      M        28   \n\n   Impressions  Clicks  Spent  Total_Conversion  Approved_Conversion  \n0         7350       1   1.43                 2                    1  \n1        17861       2   1.82                 2                    0  \n2          693       0   0.00                 1                    0  \n3         4259       1   1.25                 1                    0  \n4         4133       1   1.29                 1                    1  ",
      "text/html": "<div>\n<style scoped>\n    .dataframe tbody tr th:only-of-type {\n        vertical-align: middle;\n    }\n\n    .dataframe tbody tr th {\n        vertical-align: top;\n    }\n\n    .dataframe thead th {\n        text-align: right;\n    }\n</style>\n<table border=\"1\" class=\"dataframe\">\n  <thead>\n    <tr style=\"text-align: right;\">\n      <th></th>\n      <th>ad_id</th>\n      <th>xyz_campaign_id</th>\n      <th>fb_campaign_id</th>\n      <th>age</th>\n      <th>gender</th>\n      <th>interest</th>\n      <th>Impressions</th>\n      <th>Clicks</th>\n      <th>Spent</th>\n      <th>Total_Conversion</th>\n      <th>Approved_Conversion</th>\n    </tr>\n  </thead>\n  <tbody>\n    <tr>\n      <th>0</th>\n      <td>708746</td>\n      <td>916</td>\n      <td>103916</td>\n      <td>30-34</td>\n      <td>M</td>\n      <td>15</td>\n      <td>7350</td>\n      <td>1</td>\n      <td>1.43</td>\n      <td>2</td>\n      <td>1</td>\n    </tr>\n    <tr>\n      <th>1</th>\n      <td>708749</td>\n      <td>916</td>\n      <td>103917</td>\n      <td>30-34</td>\n      <td>M</td>\n      <td>16</td>\n      <td>17861</td>\n      <td>2</td>\n      <td>1.82</td>\n      <td>2</td>\n      <td>0</td>\n    </tr>\n    <tr>\n      <th>2</th>\n      <td>708771</td>\n      <td>916</td>\n      <td>103920</td>\n      <td>30-34</td>\n      <td>M</td>\n      <td>20</td>\n      <td>693</td>\n      <td>0</td>\n      <td>0.00</td>\n      <td>1</td>\n      <td>0</td>\n    </tr>\n    <tr>\n      <th>3</th>\n      <td>708815</td>\n      <td>916</td>\n      <td>103928</td>\n      <td>30-34</td>\n      <td>M</td>\n      <td>28</td>\n      <td>4259</td>\n      <td>1</td>\n      <td>1.25</td>\n      <td>1</td>\n      <td>0</td>\n    </tr>\n    <tr>\n      <th>4</th>\n      <td>708818</td>\n      <td>916</td>\n      <td>103928</td>\n      <td>30-34</td>\n      <td>M</td>\n      <td>28</td>\n      <td>4133</td>\n      <td>1</td>\n      <td>1.29</td>\n      <td>1</td>\n      <td>1</td>\n    </tr>\n  </tbody>\n</table>\n</div>"
     },
     "execution_count": 42,
     "metadata": {},
     "output_type": "execute_result"
    }
   ],
   "source": [
    "ad_data.head()"
   ],
   "metadata": {
    "collapsed": false,
    "pycharm": {
     "name": "#%%\n"
    }
   }
  },
  {
   "cell_type": "code",
   "execution_count": 43,
   "outputs": [
    {
     "name": "stdout",
     "output_type": "stream",
     "text": [
      "<class 'pandas.core.frame.DataFrame'>\n",
      "RangeIndex: 1143 entries, 0 to 1142\n",
      "Data columns (total 11 columns):\n",
      " #   Column               Non-Null Count  Dtype  \n",
      "---  ------               --------------  -----  \n",
      " 0   ad_id                1143 non-null   int64  \n",
      " 1   xyz_campaign_id      1143 non-null   int64  \n",
      " 2   fb_campaign_id       1143 non-null   int64  \n",
      " 3   age                  1143 non-null   object \n",
      " 4   gender               1143 non-null   object \n",
      " 5   interest             1143 non-null   int64  \n",
      " 6   Impressions          1143 non-null   int64  \n",
      " 7   Clicks               1143 non-null   int64  \n",
      " 8   Spent                1143 non-null   float64\n",
      " 9   Total_Conversion     1143 non-null   int64  \n",
      " 10  Approved_Conversion  1143 non-null   int64  \n",
      "dtypes: float64(1), int64(8), object(2)\n",
      "memory usage: 98.4+ KB\n"
     ]
    }
   ],
   "source": [
    "ad_data.info()"
   ],
   "metadata": {
    "collapsed": false,
    "pycharm": {
     "name": "#%%\n"
    }
   }
  },
  {
   "cell_type": "code",
   "execution_count": 44,
   "outputs": [
    {
     "data": {
      "text/plain": "ad_id                  1143\nxyz_campaign_id           3\nfb_campaign_id          691\nage                       4\ngender                    2\ninterest                 40\nImpressions            1130\nClicks                  183\nSpent                   869\nTotal_Conversion         32\nApproved_Conversion      16\ndtype: int64"
     },
     "execution_count": 44,
     "metadata": {},
     "output_type": "execute_result"
    }
   ],
   "source": [
    "ad_data.nunique()"
   ],
   "metadata": {
    "collapsed": false,
    "pycharm": {
     "name": "#%%\n"
    }
   }
  },
  {
   "cell_type": "markdown",
   "source": [
    "<i><font color=\"teal\">Постройте график распределения числа показов (Impressions – сколько раз пользователи увидели данное объявление) для каждой рекламной кампании в Facebook, прологарифмировав значения.</font></i>"
   ],
   "metadata": {
    "collapsed": false,
    "pycharm": {
     "name": "#%% md\n"
    }
   }
  },
  {
   "cell_type": "code",
   "execution_count": 45,
   "outputs": [],
   "source": [
    "ad_data_by_fb_camp_id = ad_data.groupby('fb_campaign_id', as_index=False) \\\n",
    "                               .agg({'Impressions': 'sum'}) \\\n",
    "                               .rename(columns={'Impressions': 'imp_count'})"
   ],
   "metadata": {
    "collapsed": false,
    "pycharm": {
     "name": "#%%\n"
    }
   }
  },
  {
   "cell_type": "code",
   "execution_count": 46,
   "outputs": [
    {
     "data": {
      "text/plain": "<Figure size 1440x720 with 1 Axes>",
      "image/png": "[encoded data removed]"
     },
     "metadata": {
      "needs_background": "light"
     },
     "output_type": "display_data"
    }
   ],
   "source": [
    "plt.figure(figsize=(20,10))\n",
    "ax = sns.distplot(np.log(ad_data_by_fb_camp_id.imp_count), kde=False)"
   ],
   "metadata": {
    "collapsed": false,
    "pycharm": {
     "name": "#%%\n"
    }
   }
  },
  {
   "cell_type": "markdown",
   "source": [
    "<i><font color=\"teal\">Теперь посчитаем ещё несколько полезных метрик. Первая – CTR (click-through rate), которая показывает кликабельность, т.е. отношение числа кликов к количеству показов. Создайте новую колонку, затем посмотрите на описательные статистики.</font></i>"
   ],
   "metadata": {
    "collapsed": false
   }
  },
  {
   "cell_type": "code",
   "execution_count": 47,
   "outputs": [],
   "source": [
    "ad_data['ctr'] = ad_data.Clicks / ad_data.Impressions"
   ],
   "metadata": {
    "collapsed": false,
    "pycharm": {
     "name": "#%%\n"
    }
   }
  },
  {
   "cell_type": "code",
   "execution_count": 48,
   "outputs": [
    {
     "data": {
      "text/plain": "count    1143.000000\nmean        0.000164\nstd         0.000115\nmin         0.000000\n25%         0.000100\n50%         0.000160\n75%         0.000234\nmax         0.001059\nName: ctr, dtype: float64"
     },
     "execution_count": 48,
     "metadata": {},
     "output_type": "execute_result"
    }
   ],
   "source": [
    "ad_data.ctr.describe()"
   ],
   "metadata": {
    "collapsed": false,
    "pycharm": {
     "name": "#%%\n"
    }
   }
  },
  {
   "cell_type": "code",
   "execution_count": 49,
   "outputs": [
    {
     "data": {
      "text/plain": "      ad_id  xyz_campaign_id  fb_campaign_id    age gender  interest  \\\n150  738637              936          109857  45-49      F        24   \n440  950224              936          123464  40-44      M        20   \n505  951779              936          123723  45-49      F        27   \n476  951202              936          123627  45-49      F        26   \n448  950537              936          123516  40-44      M        36   \n\n     Impressions  Clicks  Spent  Total_Conversion  Approved_Conversion  \\\n150          944       1   1.42                 1                    0   \n440         2367       2   2.84                 1                    1   \n505         3277       2   2.68                 1                    0   \n476         5307       3   4.29                 2                    1   \n448         1884       1   1.41                 1                    0   \n\n          ctr  \n150  0.001059  \n440  0.000845  \n505  0.000610  \n476  0.000565  \n448  0.000531  ",
      "text/html": "<div>\n<style scoped>\n    .dataframe tbody tr th:only-of-type {\n        vertical-align: middle;\n    }\n\n    .dataframe tbody tr th {\n        vertical-align: top;\n    }\n\n    .dataframe thead th {\n        text-align: right;\n    }\n</style>\n<table border=\"1\" class=\"dataframe\">\n  <thead>\n    <tr style=\"text-align: right;\">\n      <th></th>\n      <th>ad_id</th>\n      <th>xyz_campaign_id</th>\n      <th>fb_campaign_id</th>\n      <th>age</th>\n      <th>gender</th>\n      <th>interest</th>\n      <th>Impressions</th>\n      <th>Clicks</th>\n      <th>Spent</th>\n      <th>Total_Conversion</th>\n      <th>Approved_Conversion</th>\n      <th>ctr</th>\n    </tr>\n  </thead>\n  <tbody>\n    <tr>\n      <th>150</th>\n      <td>738637</td>\n      <td>936</td>\n      <td>109857</td>\n      <td>45-49</td>\n      <td>F</td>\n      <td>24</td>\n      <td>944</td>\n      <td>1</td>\n      <td>1.42</td>\n      <td>1</td>\n      <td>0</td>\n      <td>0.001059</td>\n    </tr>\n    <tr>\n      <th>440</th>\n      <td>950224</td>\n      <td>936</td>\n      <td>123464</td>\n      <td>40-44</td>\n      <td>M</td>\n      <td>20</td>\n      <td>2367</td>\n      <td>2</td>\n      <td>2.84</td>\n      <td>1</td>\n      <td>1</td>\n      <td>0.000845</td>\n    </tr>\n    <tr>\n      <th>505</th>\n      <td>951779</td>\n      <td>936</td>\n      <td>123723</td>\n      <td>45-49</td>\n      <td>F</td>\n      <td>27</td>\n      <td>3277</td>\n      <td>2</td>\n      <td>2.68</td>\n      <td>1</td>\n      <td>0</td>\n      <td>0.000610</td>\n    </tr>\n    <tr>\n      <th>476</th>\n      <td>951202</td>\n      <td>936</td>\n      <td>123627</td>\n      <td>45-49</td>\n      <td>F</td>\n      <td>26</td>\n      <td>5307</td>\n      <td>3</td>\n      <td>4.29</td>\n      <td>2</td>\n      <td>1</td>\n      <td>0.000565</td>\n    </tr>\n    <tr>\n      <th>448</th>\n      <td>950537</td>\n      <td>936</td>\n      <td>123516</td>\n      <td>40-44</td>\n      <td>M</td>\n      <td>36</td>\n      <td>1884</td>\n      <td>1</td>\n      <td>1.41</td>\n      <td>1</td>\n      <td>0</td>\n      <td>0.000531</td>\n    </tr>\n  </tbody>\n</table>\n</div>"
     },
     "execution_count": 49,
     "metadata": {},
     "output_type": "execute_result"
    }
   ],
   "source": [
    "ad_data.sort_values('ctr', ascending=False).head()"
   ],
   "metadata": {
    "collapsed": false,
    "pycharm": {
     "name": "#%%\n"
    }
   }
  },
  {
   "cell_type": "markdown",
   "source": [
    "<i><font color=\"teal\">Визуализируйте CTR с разбивкой по номеру рекламной кампании (xyz_campaign_id).</font></i>"
   ],
   "metadata": {
    "collapsed": false
   }
  },
  {
   "cell_type": "code",
   "execution_count": 50,
   "outputs": [
    {
     "data": {
      "text/plain": "<matplotlib.axes._subplots.AxesSubplot at 0x22f156b0ac0>"
     },
     "execution_count": 50,
     "metadata": {},
     "output_type": "execute_result"
    },
    {
     "data": {
      "text/plain": "<Figure size 1440x720 with 1 Axes>",
      "image/png": "[encoded data removed]"
     },
     "metadata": {
      "needs_background": "light"
     },
     "output_type": "display_data"
    }
   ],
   "source": [
    "plt.figure(figsize=(20,10))\n",
    "sns.distplot(ad_data.query('xyz_campaign_id == 916').ctr, bins=20)"
   ],
   "metadata": {
    "collapsed": false,
    "pycharm": {
     "name": "#%%\n"
    }
   }
  },
  {
   "cell_type": "markdown",
   "source": [
    "<i><font color=\"teal\">CPC (cost-per-click) – стоимость за клик пользователя по объявлению. Рассчитывается путём деления суммы потраченных денег на общее число кликов.\n",
    "Выведите описательные статистики для новой переменной, посмотрите на форму распределения.</font></i>"
   ],
   "metadata": {
    "collapsed": false
   }
  },
  {
   "cell_type": "code",
   "execution_count": 51,
   "outputs": [],
   "source": [
    "ad_data_cpc = ad_data.groupby('ad_id').agg({'Spent': 'sum'}).Spent / ad_data.groupby('ad_id').agg({'Clicks': 'sum'}).Clicks"
   ],
   "metadata": {
    "collapsed": false,
    "pycharm": {
     "name": "#%%\n"
    }
   }
  },
  {
   "cell_type": "code",
   "execution_count": 52,
   "outputs": [
    {
     "data": {
      "text/plain": "0.25436369905"
     },
     "execution_count": 52,
     "metadata": {},
     "output_type": "execute_result"
    }
   ],
   "source": [
    "ss.iqr(ad_data_cpc, nan_policy='omit')"
   ],
   "metadata": {
    "collapsed": false,
    "pycharm": {
     "name": "#%%\n"
    }
   }
  },
  {
   "cell_type": "code",
   "execution_count": 53,
   "outputs": [
    {
     "data": {
      "text/plain": "<matplotlib.axes._subplots.AxesSubplot at 0x22f160e4f70>"
     },
     "execution_count": 53,
     "metadata": {},
     "output_type": "execute_result"
    },
    {
     "data": {
      "text/plain": "<Figure size 1080x720 with 1 Axes>",
      "image/png": "[encoded data removed]"
     },
     "metadata": {
      "needs_background": "light"
     },
     "output_type": "display_data"
    }
   ],
   "source": [
    "plt.figure(figsize=(15,10))\n",
    "sns.distplot(ad_data_cpc.dropna(), kde=False)"
   ],
   "metadata": {
    "collapsed": false,
    "pycharm": {
     "name": "#%%\n"
    }
   }
  },
  {
   "cell_type": "code",
   "execution_count": 54,
   "outputs": [
    {
     "data": {
      "text/plain": "    ad_id  xyz_campaign_id  fb_campaign_id    age gender  interest  \\\n0  708746              916          103916  30-34      M        15   \n1  708749              916          103917  30-34      M        16   \n2  708771              916          103920  30-34      M        20   \n3  708815              916          103928  30-34      M        28   \n4  708818              916          103928  30-34      M        28   \n\n   Impressions  Clicks  Spent  Total_Conversion  Approved_Conversion       ctr  \n0         7350       1   1.43                 2                    1  0.000136  \n1        17861       2   1.82                 2                    0  0.000112  \n2          693       0   0.00                 1                    0  0.000000  \n3         4259       1   1.25                 1                    0  0.000235  \n4         4133       1   1.29                 1                    1  0.000242  ",
      "text/html": "<div>\n<style scoped>\n    .dataframe tbody tr th:only-of-type {\n        vertical-align: middle;\n    }\n\n    .dataframe tbody tr th {\n        vertical-align: top;\n    }\n\n    .dataframe thead th {\n        text-align: right;\n    }\n</style>\n<table border=\"1\" class=\"dataframe\">\n  <thead>\n    <tr style=\"text-align: right;\">\n      <th></th>\n      <th>ad_id</th>\n      <th>xyz_campaign_id</th>\n      <th>fb_campaign_id</th>\n      <th>age</th>\n      <th>gender</th>\n      <th>interest</th>\n      <th>Impressions</th>\n      <th>Clicks</th>\n      <th>Spent</th>\n      <th>Total_Conversion</th>\n      <th>Approved_Conversion</th>\n      <th>ctr</th>\n    </tr>\n  </thead>\n  <tbody>\n    <tr>\n      <th>0</th>\n      <td>708746</td>\n      <td>916</td>\n      <td>103916</td>\n      <td>30-34</td>\n      <td>M</td>\n      <td>15</td>\n      <td>7350</td>\n      <td>1</td>\n      <td>1.43</td>\n      <td>2</td>\n      <td>1</td>\n      <td>0.000136</td>\n    </tr>\n    <tr>\n      <th>1</th>\n      <td>708749</td>\n      <td>916</td>\n      <td>103917</td>\n      <td>30-34</td>\n      <td>M</td>\n      <td>16</td>\n      <td>17861</td>\n      <td>2</td>\n      <td>1.82</td>\n      <td>2</td>\n      <td>0</td>\n      <td>0.000112</td>\n    </tr>\n    <tr>\n      <th>2</th>\n      <td>708771</td>\n      <td>916</td>\n      <td>103920</td>\n      <td>30-34</td>\n      <td>M</td>\n      <td>20</td>\n      <td>693</td>\n      <td>0</td>\n      <td>0.00</td>\n      <td>1</td>\n      <td>0</td>\n      <td>0.000000</td>\n    </tr>\n    <tr>\n      <th>3</th>\n      <td>708815</td>\n      <td>916</td>\n      <td>103928</td>\n      <td>30-34</td>\n      <td>M</td>\n      <td>28</td>\n      <td>4259</td>\n      <td>1</td>\n      <td>1.25</td>\n      <td>1</td>\n      <td>0</td>\n      <td>0.000235</td>\n    </tr>\n    <tr>\n      <th>4</th>\n      <td>708818</td>\n      <td>916</td>\n      <td>103928</td>\n      <td>30-34</td>\n      <td>M</td>\n      <td>28</td>\n      <td>4133</td>\n      <td>1</td>\n      <td>1.29</td>\n      <td>1</td>\n      <td>1</td>\n      <td>0.000242</td>\n    </tr>\n  </tbody>\n</table>\n</div>"
     },
     "execution_count": 54,
     "metadata": {},
     "output_type": "execute_result"
    }
   ],
   "source": [
    "ad_data.head()"
   ],
   "metadata": {
    "collapsed": false,
    "pycharm": {
     "name": "#%%\n"
    }
   }
  },
  {
   "cell_type": "markdown",
   "source": [
    "<i><font color=\"teal\">Визуализируйте CPC с разбивкой по полу пользователей, которым были показаны объявления. </font></i>"
   ],
   "metadata": {
    "collapsed": false
   }
  },
  {
   "cell_type": "code",
   "execution_count": 56,
   "outputs": [],
   "source": [
    "ad_data_cpc_gender = ad_data.groupby(['ad_id', 'gender'], as_index=False).agg({'Spent': 'sum'})"
   ],
   "metadata": {
    "collapsed": false,
    "pycharm": {
     "name": "#%%\n"
    }
   }
  },
  {
   "cell_type": "code",
   "execution_count": 57,
   "outputs": [],
   "source": [
    "ad_data_cpc_gender['cpc'] = ad_data_cpc_gender.Spent / ad_data.groupby(['ad_id', 'gender'], as_index=False).agg({'Clicks': 'sum'}).Clicks"
   ],
   "metadata": {
    "collapsed": false,
    "pycharm": {
     "name": "#%%\n"
    }
   }
  },
  {
   "cell_type": "code",
   "execution_count": 58,
   "outputs": [
    {
     "data": {
      "text/plain": "    ad_id gender  Spent   cpc\n0  708746      M   1.43  1.43\n1  708749      M   1.82  0.91\n2  708771      M   0.00   NaN\n3  708815      M   1.25  1.25\n4  708818      M   1.29  1.29",
      "text/html": "<div>\n<style scoped>\n    .dataframe tbody tr th:only-of-type {\n        vertical-align: middle;\n    }\n\n    .dataframe tbody tr th {\n        vertical-align: top;\n    }\n\n    .dataframe thead th {\n        text-align: right;\n    }\n</style>\n<table border=\"1\" class=\"dataframe\">\n  <thead>\n    <tr style=\"text-align: right;\">\n      <th></th>\n      <th>ad_id</th>\n      <th>gender</th>\n      <th>Spent</th>\n      <th>cpc</th>\n    </tr>\n  </thead>\n  <tbody>\n    <tr>\n      <th>0</th>\n      <td>708746</td>\n      <td>M</td>\n      <td>1.43</td>\n      <td>1.43</td>\n    </tr>\n    <tr>\n      <th>1</th>\n      <td>708749</td>\n      <td>M</td>\n      <td>1.82</td>\n      <td>0.91</td>\n    </tr>\n    <tr>\n      <th>2</th>\n      <td>708771</td>\n      <td>M</td>\n      <td>0.00</td>\n      <td>NaN</td>\n    </tr>\n    <tr>\n      <th>3</th>\n      <td>708815</td>\n      <td>M</td>\n      <td>1.25</td>\n      <td>1.25</td>\n    </tr>\n    <tr>\n      <th>4</th>\n      <td>708818</td>\n      <td>M</td>\n      <td>1.29</td>\n      <td>1.29</td>\n    </tr>\n  </tbody>\n</table>\n</div>"
     },
     "execution_count": 58,
     "metadata": {},
     "output_type": "execute_result"
    }
   ],
   "source": [
    "ad_data_cpc_gender.head()"
   ],
   "metadata": {
    "collapsed": false,
    "pycharm": {
     "name": "#%%\n"
    }
   }
  },
  {
   "cell_type": "code",
   "execution_count": 61,
   "outputs": [
    {
     "data": {
      "text/plain": "<matplotlib.axes._subplots.AxesSubplot at 0x22f15be3f40>"
     },
     "execution_count": 61,
     "metadata": {},
     "output_type": "execute_result"
    },
    {
     "data": {
      "text/plain": "<Figure size 1080x720 with 1 Axes>",
      "image/png": "[encoded data removed]"
     },
     "metadata": {
      "needs_background": "light"
     },
     "output_type": "display_data"
    }
   ],
   "source": [
    "plt.figure(figsize=(15,10))\n",
    "sns.distplot(ad_data_cpc_gender.dropna().query('gender == \"M\"').cpc)\n",
    "sns.distplot(ad_data_cpc_gender.dropna().query('gender == \"F\"').cpc)"
   ],
   "metadata": {
    "collapsed": false,
    "pycharm": {
     "name": "#%%\n"
    }
   }
  },
  {
   "cell_type": "markdown",
   "source": [
    "<i><font color=\"teal\">Конверсия (conversion rate) – отношение числа пользователей, совершивших целевое действие на определенном этапе, к общему числу тех, кто дошел до данного этапа.\n",
    "Посчитайте конверсию из клика в покупку.</font></i>"
   ],
   "metadata": {
    "collapsed": false
   }
  },
  {
   "cell_type": "code",
   "execution_count": 70,
   "outputs": [],
   "source": [
    "ad_data_cr = ad_data.groupby('ad_id', as_index=False).agg({'Approved_Conversion': 'sum'})"
   ],
   "metadata": {
    "collapsed": false,
    "pycharm": {
     "name": "#%%\n"
    }
   }
  },
  {
   "cell_type": "code",
   "execution_count": 71,
   "outputs": [],
   "source": [
    "ad_data_cr['cr'] = ad_data_cr.Approved_Conversion / ad_data.groupby('ad_id', as_index=False).agg({'Clicks': 'sum'}).Clicks"
   ],
   "metadata": {
    "collapsed": false,
    "pycharm": {
     "name": "#%%\n"
    }
   }
  },
  {
   "cell_type": "code",
   "execution_count": 73,
   "outputs": [],
   "source": [
    "ad_data_cr['clicks'] = ad_data.groupby('ad_id', as_index=False).agg({'Clicks': 'sum'}).Clicks"
   ],
   "metadata": {
    "collapsed": false,
    "pycharm": {
     "name": "#%%\n"
    }
   }
  },
  {
   "cell_type": "code",
   "execution_count": 74,
   "outputs": [
    {
     "data": {
      "text/plain": "       ad_id  Approved_Conversion        cr  clicks\n860  1121814                   13  0.030879     421",
      "text/html": "<div>\n<style scoped>\n    .dataframe tbody tr th:only-of-type {\n        vertical-align: middle;\n    }\n\n    .dataframe tbody tr th {\n        vertical-align: top;\n    }\n\n    .dataframe thead th {\n        text-align: right;\n    }\n</style>\n<table border=\"1\" class=\"dataframe\">\n  <thead>\n    <tr style=\"text-align: right;\">\n      <th></th>\n      <th>ad_id</th>\n      <th>Approved_Conversion</th>\n      <th>cr</th>\n      <th>clicks</th>\n    </tr>\n  </thead>\n  <tbody>\n    <tr>\n      <th>860</th>\n      <td>1121814</td>\n      <td>13</td>\n      <td>0.030879</td>\n      <td>421</td>\n    </tr>\n  </tbody>\n</table>\n</div>"
     },
     "execution_count": 74,
     "metadata": {},
     "output_type": "execute_result"
    }
   ],
   "source": [
    "ad_data_cr.query('ad_id == 1121814')"
   ],
   "metadata": {
    "collapsed": false,
    "pycharm": {
     "name": "#%%\n"
    }
   }
  },
  {
   "cell_type": "code",
   "execution_count": null,
   "outputs": [],
   "source": [],
   "metadata": {
    "collapsed": false,
    "pycharm": {
     "name": "#%%\n"
    }
   }
  }
 ],
 "metadata": {
  "kernelspec": {
   "display_name": "Python 3",
   "language": "python",
   "name": "python3"
  },
  "language_info": {
   "codemirror_mode": {
    "name": "ipython",
    "version": 2
   },
   "file_extension": ".py",
   "mimetype": "text/x-python",
   "name": "python",
   "nbconvert_exporter": "python",
   "pygments_lexer": "ipython2",
   "version": "2.7.6"
  }
 },
 "nbformat": 4,
 "nbformat_minor": 0
}