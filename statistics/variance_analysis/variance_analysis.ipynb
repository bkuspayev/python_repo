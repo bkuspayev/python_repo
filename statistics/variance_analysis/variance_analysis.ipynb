{
 "cells": [
  {
   "cell_type": "markdown",
   "metadata": {
    "collapsed": true,
    "pycharm": {
     "name": "#%% md\n"
    }
   },
   "source": [
    "На этот раз ситуация следующая: вы работаете в приложении по доставке готовых продуктов. К вам пришел коллега с результатами двух тестов:\n",
    "\n",
    "<li>В первом тестировали разрешение фотографий блюд в приложении: пользователям показывались либо прямоугольные, либо новые квадратные</li>\n",
    "<li>Во втором: была обновлена кнопка заказа, и часть юзеров видела старый вариант, а часть – новый</li>\n",
    "\n",
    "<p>Коллега пришел к вам с просьбой: он посмотрел на графики и предположил, что среди групп могут встретиться различия. Ваша задача – помочь ему проверить гипотезы, сделать соответствующие выводы на основе статистических тестов и принять решения.</p>"
   ]
  },
  {
   "cell_type": "markdown",
   "source": [
    "<h4>Задания:</h4>\n",
    "<ol>\n",
    "<li>Выберите метод, который предположительно подойдет в первом вопросе.</li>\n",
    "<li>Проверьте, являются ли дисперсии внутри групп гомогенными.</li>\n",
    "<li>Проведите тест на нормальность распределения.</li>\n",
    "<li>Сравните средние в представленных группах.</li>\n",
    "<li>Используйте критерий Тьюки и определите, между какими группами есть статистически значимые различия. </li>\n",
    "<li>Примите решение: какие картинки в итоге будем использовать?</li>\n",
    "<li>Выберите метод для второго теста.</li>\n",
    "<li>Визуализируйте распределение events для контрольной и тестовой групп. </li>\n",
    "<li>Посмотрите на описательные статистики events в разбивке по группе и по сегменту пользователя. </li>\n",
    "<li>Выберите формулу для модели, проведите тест.</li>\n",
    "</ol>"
   ],
   "metadata": {
    "collapsed": false,
    "pycharm": {
     "name": "#%% md\n"
    }
   }
  },
  {
   "cell_type": "markdown",
   "source": [
    "<h4>Описание данных</h4>\n",
    "\n",
    "<p>5_task_1:</p>\n",
    "\n",
    "<li>id – id клиента в эксперименте</li>\n",
    "<li>group – в каком разрешении показывались картинки (A – прямоугольные 16:9, B – квадратные, C – прямоугольные 12:4)</li>\n",
    "<li>events – сколько блюд суммарно было заказано за период</li>\n",
    "\n",
    "<p>5_task_2:</p>\n",
    "\n",
    "<li>id – id клиента в эксперименте</li>\n",
    "<li>segment – сегмент (high/low)</li>\n",
    "<li>group – вид кнопки (control – старая версия, test – новая версия)</li>\n",
    "<li>events – сколько блюд суммарно было заказано за период</li>\n"
   ],
   "metadata": {
    "collapsed": false,
    "pycharm": {
     "name": "#%% md\n"
    }
   }
  },
  {
   "cell_type": "code",
   "execution_count": 63,
   "outputs": [],
   "source": [
    "import pandas as pd\n",
    "import numpy as np\n",
    "from scipy.stats import ttest_ind\n",
    "from scipy.stats import levene\n",
    "from scipy.stats import shapiro\n",
    "from scipy.stats import f_oneway\n",
    "from statsmodels.stats.multicomp import pairwise_tukeyhsd\n",
    "from statsmodels.formula.api import ols\n",
    "from statsmodels.stats.anova import anova_lm\n",
    "import matplotlib.pyplot as plt\n",
    "import seaborn as sns"
   ],
   "metadata": {
    "collapsed": false,
    "pycharm": {
     "name": "#%%\n"
    }
   }
  },
  {
   "cell_type": "code",
   "execution_count": 3,
   "outputs": [],
   "source": [
    "exp_img_shape = pd.read_csv('5_task_1.csv')"
   ],
   "metadata": {
    "collapsed": false,
    "pycharm": {
     "name": "#%%\n"
    }
   }
  },
  {
   "cell_type": "code",
   "execution_count": 4,
   "outputs": [
    {
     "data": {
      "text/plain": "      id group  events\n0  16046     A      14\n1  18712     A      41\n2   3268     A      30\n3  22633     A      37\n4  28071     A      38",
      "text/html": "<div>\n<style scoped>\n    .dataframe tbody tr th:only-of-type {\n        vertical-align: middle;\n    }\n\n    .dataframe tbody tr th {\n        vertical-align: top;\n    }\n\n    .dataframe thead th {\n        text-align: right;\n    }\n</style>\n<table border=\"1\" class=\"dataframe\">\n  <thead>\n    <tr style=\"text-align: right;\">\n      <th></th>\n      <th>id</th>\n      <th>group</th>\n      <th>events</th>\n    </tr>\n  </thead>\n  <tbody>\n    <tr>\n      <th>0</th>\n      <td>16046</td>\n      <td>A</td>\n      <td>14</td>\n    </tr>\n    <tr>\n      <th>1</th>\n      <td>18712</td>\n      <td>A</td>\n      <td>41</td>\n    </tr>\n    <tr>\n      <th>2</th>\n      <td>3268</td>\n      <td>A</td>\n      <td>30</td>\n    </tr>\n    <tr>\n      <th>3</th>\n      <td>22633</td>\n      <td>A</td>\n      <td>37</td>\n    </tr>\n    <tr>\n      <th>4</th>\n      <td>28071</td>\n      <td>A</td>\n      <td>38</td>\n    </tr>\n  </tbody>\n</table>\n</div>"
     },
     "execution_count": 4,
     "metadata": {},
     "output_type": "execute_result"
    }
   ],
   "source": [
    "exp_img_shape.head()"
   ],
   "metadata": {
    "collapsed": false,
    "pycharm": {
     "name": "#%%\n"
    }
   }
  },
  {
   "cell_type": "code",
   "execution_count": 5,
   "outputs": [
    {
     "name": "stdout",
     "output_type": "stream",
     "text": [
      "<class 'pandas.core.frame.DataFrame'>\n",
      "RangeIndex: 30000 entries, 0 to 29999\n",
      "Data columns (total 3 columns):\n",
      " #   Column  Non-Null Count  Dtype \n",
      "---  ------  --------------  ----- \n",
      " 0   id      30000 non-null  int64 \n",
      " 1   group   30000 non-null  object\n",
      " 2   events  30000 non-null  int64 \n",
      "dtypes: int64(2), object(1)\n",
      "memory usage: 703.2+ KB\n"
     ]
    }
   ],
   "source": [
    "exp_img_shape.info()"
   ],
   "metadata": {
    "collapsed": false,
    "pycharm": {
     "name": "#%%\n"
    }
   }
  },
  {
   "cell_type": "code",
   "execution_count": 11,
   "outputs": [
    {
     "data": {
      "text/plain": "array(['A', 'B', 'C'], dtype=object)"
     },
     "execution_count": 11,
     "metadata": {},
     "output_type": "execute_result"
    }
   ],
   "source": [
    "exp_img_shape.group.unique()"
   ],
   "metadata": {
    "collapsed": false,
    "pycharm": {
     "name": "#%%\n"
    }
   }
  },
  {
   "cell_type": "code",
   "execution_count": 16,
   "outputs": [],
   "source": [
    "exp_img_shape_group_a = exp_img_shape[exp_img_shape.group == 'A']\n",
    "exp_img_shape_group_b = exp_img_shape[exp_img_shape.group == 'B']\n",
    "exp_img_shape_group_c = exp_img_shape[exp_img_shape.group == 'C']"
   ],
   "metadata": {
    "collapsed": false,
    "pycharm": {
     "name": "#%%\n"
    }
   }
  },
  {
   "cell_type": "code",
   "execution_count": 17,
   "outputs": [
    {
     "data": {
      "text/plain": "<matplotlib.axes._subplots.AxesSubplot at 0x1eb0f4749a0>"
     },
     "execution_count": 17,
     "metadata": {},
     "output_type": "execute_result"
    },
    {
     "data": {
      "text/plain": "<Figure size 1080x504 with 1 Axes>",
      "image/png": "[encoded data removed]"
     },
     "metadata": {
      "needs_background": "light"
     },
     "output_type": "display_data"
    }
   ],
   "source": [
    "plt.figure(figsize=(15,7))\n",
    "sns.distplot(exp_img_shape_group_a.events)"
   ],
   "metadata": {
    "collapsed": false,
    "pycharm": {
     "name": "#%%\n"
    }
   }
  },
  {
   "cell_type": "code",
   "execution_count": 18,
   "outputs": [
    {
     "data": {
      "text/plain": "<matplotlib.axes._subplots.AxesSubplot at 0x1eb0f7a8520>"
     },
     "execution_count": 18,
     "metadata": {},
     "output_type": "execute_result"
    },
    {
     "data": {
      "text/plain": "<Figure size 1080x504 with 1 Axes>",
      "image/png": "[encoded data removed]"
     },
     "metadata": {
      "needs_background": "light"
     },
     "output_type": "display_data"
    }
   ],
   "source": [
    "plt.figure(figsize=(15,7))\n",
    "sns.distplot(exp_img_shape_group_b.events)"
   ],
   "metadata": {
    "collapsed": false,
    "pycharm": {
     "name": "#%%\n"
    }
   }
  },
  {
   "cell_type": "code",
   "execution_count": 19,
   "outputs": [
    {
     "data": {
      "text/plain": "<matplotlib.axes._subplots.AxesSubplot at 0x1eb0f11cf70>"
     },
     "execution_count": 19,
     "metadata": {},
     "output_type": "execute_result"
    },
    {
     "data": {
      "text/plain": "<Figure size 1080x504 with 1 Axes>",
      "image/png": "[encoded data removed]"
     },
     "metadata": {
      "needs_background": "light"
     },
     "output_type": "display_data"
    }
   ],
   "source": [
    "plt.figure(figsize=(15,7))\n",
    "sns.distplot(exp_img_shape_group_c.events)"
   ],
   "metadata": {
    "collapsed": false,
    "pycharm": {
     "name": "#%%\n"
    }
   }
  },
  {
   "cell_type": "code",
   "execution_count": 21,
   "outputs": [
    {
     "data": {
      "text/plain": "LeveneResult(statistic=2.2622596339318037, pvalue=0.1041327199523974)"
     },
     "execution_count": 21,
     "metadata": {},
     "output_type": "execute_result"
    }
   ],
   "source": [
    "levene(exp_img_shape_group_a.events, exp_img_shape_group_b.events, exp_img_shape_group_c.events) #pvalue > 0.05 не отклоняем нулевую гипотезу о гомогенности дисперсий"
   ],
   "metadata": {
    "collapsed": false,
    "pycharm": {
     "name": "#%%\n"
    }
   }
  },
  {
   "cell_type": "code",
   "execution_count": 23,
   "outputs": [],
   "source": [
    "exp_img_shape_group_a_sample = exp_img_shape_group_a.events.sample(1000, random_state=17)\n",
    "exp_img_shape_group_b_sample = exp_img_shape_group_b.events.sample(1000, random_state=17)\n",
    "exp_img_shape_group_c_sample = exp_img_shape_group_c.events.sample(1000, random_state=17)"
   ],
   "metadata": {
    "collapsed": false,
    "pycharm": {
     "name": "#%%\n"
    }
   }
  },
  {
   "cell_type": "code",
   "execution_count": 25,
   "outputs": [
    {
     "data": {
      "text/plain": "ShapiroResult(statistic=0.9973153471946716, pvalue=0.09609563648700714)"
     },
     "execution_count": 25,
     "metadata": {},
     "output_type": "execute_result"
    }
   ],
   "source": [
    "shapiro(exp_img_shape_group_a_sample)# данные в тестовой группе A распределены нормально p > 0.05"
   ],
   "metadata": {
    "collapsed": false,
    "pycharm": {
     "name": "#%%\n"
    }
   }
  },
  {
   "cell_type": "code",
   "execution_count": 26,
   "outputs": [
    {
     "data": {
      "text/plain": "ShapiroResult(statistic=0.9980798363685608, pvalue=0.31768906116485596)"
     },
     "execution_count": 26,
     "metadata": {},
     "output_type": "execute_result"
    }
   ],
   "source": [
    "shapiro(exp_img_shape_group_b_sample) # данные в тестовой группе B распределены нормально p > 0.05"
   ],
   "metadata": {
    "collapsed": false,
    "pycharm": {
     "name": "#%%\n"
    }
   }
  },
  {
   "cell_type": "code",
   "execution_count": 27,
   "outputs": [
    {
     "data": {
      "text/plain": "ShapiroResult(statistic=0.9981185793876648, pvalue=0.3359004259109497)"
     },
     "execution_count": 27,
     "metadata": {},
     "output_type": "execute_result"
    }
   ],
   "source": [
    "shapiro(exp_img_shape_group_c_sample) # данные в тестовой группе C распределены нормально p > 0.05"
   ],
   "metadata": {
    "collapsed": false,
    "pycharm": {
     "name": "#%%\n"
    }
   }
  },
  {
   "cell_type": "code",
   "execution_count": 31,
   "outputs": [
    {
     "data": {
      "text/plain": "F_onewayResult(statistic=2886.166657438961, pvalue=0.0)"
     },
     "execution_count": 31,
     "metadata": {},
     "output_type": "execute_result"
    }
   ],
   "source": [
    "f_oneway(exp_img_shape_group_a.events, exp_img_shape_group_b.events, exp_img_shape_group_c.events)"
   ],
   "metadata": {
    "collapsed": false,
    "pycharm": {
     "name": "#%%\n"
    }
   }
  },
  {
   "cell_type": "code",
   "execution_count": 34,
   "outputs": [
    {
     "data": {
      "text/plain": "<class 'statsmodels.iolib.table.SimpleTable'>",
      "text/html": "<table class=\"simpletable\">\n<caption>Multiple Comparison of Means - Tukey HSD, FWER=0.05</caption>\n<tr>\n  <th>group1</th> <th>group2</th> <th>meandiff</th> <th>p-adj</th>   <th>lower</th>   <th>upper</th>  <th>reject</th>\n</tr>\n<tr>\n     <td>A</td>      <td>B</td>     <td>8.034</td>  <td>0.001</td>  <td>7.7038</td>  <td>8.3642</td>   <td>True</td> \n</tr>\n<tr>\n     <td>A</td>      <td>C</td>    <td>-2.1093</td> <td>0.001</td>  <td>-2.4395</td> <td>-1.7791</td>  <td>True</td> \n</tr>\n<tr>\n     <td>B</td>      <td>C</td>   <td>-10.1433</td> <td>0.001</td> <td>-10.4735</td> <td>-9.8131</td>  <td>True</td> \n</tr>\n</table>"
     },
     "execution_count": 34,
     "metadata": {},
     "output_type": "execute_result"
    }
   ],
   "source": [
    "pairwise_tukeyhsd(exp_img_shape.events, exp_img_shape.group).summary()"
   ],
   "metadata": {
    "collapsed": false,
    "pycharm": {
     "name": "#%%\n"
    }
   }
  },
  {
   "cell_type": "code",
   "execution_count": 36,
   "outputs": [
    {
     "name": "stdout",
     "output_type": "stream",
     "text": [
      "29.58 30.0\n"
     ]
    }
   ],
   "source": [
    "print(round(exp_img_shape_group_a.events.mean(), 2), round(exp_img_shape_group_a.events.median(), 2))"
   ],
   "metadata": {
    "collapsed": false,
    "pycharm": {
     "name": "#%%\n"
    }
   }
  },
  {
   "cell_type": "code",
   "execution_count": 37,
   "outputs": [
    {
     "name": "stdout",
     "output_type": "stream",
     "text": [
      "37.61 38.0\n"
     ]
    }
   ],
   "source": [
    "print(round(exp_img_shape_group_b.events.mean(), 2), round(exp_img_shape_group_b.events.median(), 2))"
   ],
   "metadata": {
    "collapsed": false,
    "pycharm": {
     "name": "#%%\n"
    }
   }
  },
  {
   "cell_type": "code",
   "execution_count": 38,
   "outputs": [
    {
     "name": "stdout",
     "output_type": "stream",
     "text": [
      "27.47 27.0\n"
     ]
    }
   ],
   "source": [
    "print(round(exp_img_shape_group_c.events.mean(), 2), round(exp_img_shape_group_c.events.median(), 2))"
   ],
   "metadata": {
    "collapsed": false,
    "pycharm": {
     "name": "#%%\n"
    }
   }
  },
  {
   "cell_type": "markdown",
   "source": [
    "<b>Вывод:</b> есть основание полагать, что использование квадратных картинок увеличивает среднее количество заказанных блюд"
   ],
   "metadata": {
    "collapsed": false,
    "pycharm": {
     "name": "#%% md\n"
    }
   }
  },
  {
   "cell_type": "code",
   "execution_count": 40,
   "outputs": [],
   "source": [
    "exp_order_button = pd.read_csv('5_task_2.csv')"
   ],
   "metadata": {
    "collapsed": false,
    "pycharm": {
     "name": "#%%\n"
    }
   }
  },
  {
   "cell_type": "code",
   "execution_count": 41,
   "outputs": [
    {
     "data": {
      "text/plain": "      id group segment  events\n0  83440  test    high    78.0\n1  96723  test    high    71.0\n2  68719  test    high    80.0\n3  50399  test    high    80.0\n4  95613  test    high    78.0",
      "text/html": "<div>\n<style scoped>\n    .dataframe tbody tr th:only-of-type {\n        vertical-align: middle;\n    }\n\n    .dataframe tbody tr th {\n        vertical-align: top;\n    }\n\n    .dataframe thead th {\n        text-align: right;\n    }\n</style>\n<table border=\"1\" class=\"dataframe\">\n  <thead>\n    <tr style=\"text-align: right;\">\n      <th></th>\n      <th>id</th>\n      <th>group</th>\n      <th>segment</th>\n      <th>events</th>\n    </tr>\n  </thead>\n  <tbody>\n    <tr>\n      <th>0</th>\n      <td>83440</td>\n      <td>test</td>\n      <td>high</td>\n      <td>78.0</td>\n    </tr>\n    <tr>\n      <th>1</th>\n      <td>96723</td>\n      <td>test</td>\n      <td>high</td>\n      <td>71.0</td>\n    </tr>\n    <tr>\n      <th>2</th>\n      <td>68719</td>\n      <td>test</td>\n      <td>high</td>\n      <td>80.0</td>\n    </tr>\n    <tr>\n      <th>3</th>\n      <td>50399</td>\n      <td>test</td>\n      <td>high</td>\n      <td>80.0</td>\n    </tr>\n    <tr>\n      <th>4</th>\n      <td>95613</td>\n      <td>test</td>\n      <td>high</td>\n      <td>78.0</td>\n    </tr>\n  </tbody>\n</table>\n</div>"
     },
     "execution_count": 41,
     "metadata": {},
     "output_type": "execute_result"
    }
   ],
   "source": [
    "exp_order_button.head()"
   ],
   "metadata": {
    "collapsed": false,
    "pycharm": {
     "name": "#%%\n"
    }
   }
  },
  {
   "cell_type": "code",
   "execution_count": 43,
   "outputs": [
    {
     "data": {
      "text/plain": "array(['test', 'control'], dtype=object)"
     },
     "execution_count": 43,
     "metadata": {},
     "output_type": "execute_result"
    }
   ],
   "source": [
    "exp_order_button.group.unique()"
   ],
   "metadata": {
    "collapsed": false,
    "pycharm": {
     "name": "#%%\n"
    }
   }
  },
  {
   "cell_type": "code",
   "execution_count": 42,
   "outputs": [
    {
     "name": "stdout",
     "output_type": "stream",
     "text": [
      "<class 'pandas.core.frame.DataFrame'>\n",
      "RangeIndex: 100000 entries, 0 to 99999\n",
      "Data columns (total 4 columns):\n",
      " #   Column   Non-Null Count   Dtype  \n",
      "---  ------   --------------   -----  \n",
      " 0   id       100000 non-null  int64  \n",
      " 1   group    100000 non-null  object \n",
      " 2   segment  100000 non-null  object \n",
      " 3   events   100000 non-null  float64\n",
      "dtypes: float64(1), int64(1), object(2)\n",
      "memory usage: 3.1+ MB\n"
     ]
    }
   ],
   "source": [
    "exp_order_button.info()"
   ],
   "metadata": {
    "collapsed": false,
    "pycharm": {
     "name": "#%%\n"
    }
   }
  },
  {
   "cell_type": "code",
   "execution_count": 44,
   "outputs": [],
   "source": [
    "exp_order_button_group_test = exp_order_button[exp_order_button.group == 'test']\n",
    "exp_order_button_group_control = exp_order_button[exp_order_button.group == 'control']"
   ],
   "metadata": {
    "collapsed": false,
    "pycharm": {
     "name": "#%%\n"
    }
   }
  },
  {
   "cell_type": "code",
   "execution_count": 47,
   "outputs": [
    {
     "data": {
      "text/plain": "<matplotlib.axes._subplots.AxesSubplot at 0x1eb103f0c10>"
     },
     "execution_count": 47,
     "metadata": {},
     "output_type": "execute_result"
    },
    {
     "data": {
      "text/plain": "<Figure size 1080x504 with 1 Axes>",
      "image/png": "[encoded data removed]"
     },
     "metadata": {
      "needs_background": "light"
     },
     "output_type": "display_data"
    }
   ],
   "source": [
    "plt.figure(figsize=(15,7))\n",
    "sns.distplot(exp_order_button_group_test.events, kde=False)"
   ],
   "metadata": {
    "collapsed": false,
    "pycharm": {
     "name": "#%%\n"
    }
   }
  },
  {
   "cell_type": "code",
   "execution_count": 48,
   "outputs": [
    {
     "data": {
      "text/plain": "<matplotlib.axes._subplots.AxesSubplot at 0x1eb104be0d0>"
     },
     "execution_count": 48,
     "metadata": {},
     "output_type": "execute_result"
    },
    {
     "data": {
      "text/plain": "<Figure size 1080x504 with 1 Axes>",
      "image/png": "[encoded data removed]"
     },
     "metadata": {
      "needs_background": "light"
     },
     "output_type": "display_data"
    }
   ],
   "source": [
    "plt.figure(figsize=(15,7))\n",
    "sns.distplot(exp_order_button_group_control.events, kde=False)"
   ],
   "metadata": {
    "collapsed": false,
    "pycharm": {
     "name": "#%%\n"
    }
   }
  },
  {
   "cell_type": "code",
   "execution_count": 55,
   "outputs": [
    {
     "data": {
      "text/plain": "           count       mean       std   min   25%   50%   75%    max\nsegment                                                             \nhigh     10000.0  69.938500  8.403974  40.0  64.0  70.0  76.0  102.0\nlow      40000.0  33.025925  5.720845  13.0  29.0  33.0  37.0   59.0",
      "text/html": "<div>\n<style scoped>\n    .dataframe tbody tr th:only-of-type {\n        vertical-align: middle;\n    }\n\n    .dataframe tbody tr th {\n        vertical-align: top;\n    }\n\n    .dataframe thead th {\n        text-align: right;\n    }\n</style>\n<table border=\"1\" class=\"dataframe\">\n  <thead>\n    <tr style=\"text-align: right;\">\n      <th></th>\n      <th>count</th>\n      <th>mean</th>\n      <th>std</th>\n      <th>min</th>\n      <th>25%</th>\n      <th>50%</th>\n      <th>75%</th>\n      <th>max</th>\n    </tr>\n    <tr>\n      <th>segment</th>\n      <th></th>\n      <th></th>\n      <th></th>\n      <th></th>\n      <th></th>\n      <th></th>\n      <th></th>\n      <th></th>\n    </tr>\n  </thead>\n  <tbody>\n    <tr>\n      <th>high</th>\n      <td>10000.0</td>\n      <td>69.938500</td>\n      <td>8.403974</td>\n      <td>40.0</td>\n      <td>64.0</td>\n      <td>70.0</td>\n      <td>76.0</td>\n      <td>102.0</td>\n    </tr>\n    <tr>\n      <th>low</th>\n      <td>40000.0</td>\n      <td>33.025925</td>\n      <td>5.720845</td>\n      <td>13.0</td>\n      <td>29.0</td>\n      <td>33.0</td>\n      <td>37.0</td>\n      <td>59.0</td>\n    </tr>\n  </tbody>\n</table>\n</div>"
     },
     "execution_count": 55,
     "metadata": {},
     "output_type": "execute_result"
    }
   ],
   "source": [
    "exp_order_button_group_test.groupby('segment').events.describe()"
   ],
   "metadata": {
    "collapsed": false,
    "pycharm": {
     "name": "#%%\n"
    }
   }
  },
  {
   "cell_type": "code",
   "execution_count": 56,
   "outputs": [
    {
     "data": {
      "text/plain": "           count       mean       std   min   25%   50%   75%   max\nsegment                                                            \nhigh     10000.0  59.970800  7.805347  31.0  55.0  60.0  65.0  89.0\nlow      40000.0  20.031575  4.473576   4.0  17.0  20.0  23.0  41.0",
      "text/html": "<div>\n<style scoped>\n    .dataframe tbody tr th:only-of-type {\n        vertical-align: middle;\n    }\n\n    .dataframe tbody tr th {\n        vertical-align: top;\n    }\n\n    .dataframe thead th {\n        text-align: right;\n    }\n</style>\n<table border=\"1\" class=\"dataframe\">\n  <thead>\n    <tr style=\"text-align: right;\">\n      <th></th>\n      <th>count</th>\n      <th>mean</th>\n      <th>std</th>\n      <th>min</th>\n      <th>25%</th>\n      <th>50%</th>\n      <th>75%</th>\n      <th>max</th>\n    </tr>\n    <tr>\n      <th>segment</th>\n      <th></th>\n      <th></th>\n      <th></th>\n      <th></th>\n      <th></th>\n      <th></th>\n      <th></th>\n      <th></th>\n    </tr>\n  </thead>\n  <tbody>\n    <tr>\n      <th>high</th>\n      <td>10000.0</td>\n      <td>59.970800</td>\n      <td>7.805347</td>\n      <td>31.0</td>\n      <td>55.0</td>\n      <td>60.0</td>\n      <td>65.0</td>\n      <td>89.0</td>\n    </tr>\n    <tr>\n      <th>low</th>\n      <td>40000.0</td>\n      <td>20.031575</td>\n      <td>4.473576</td>\n      <td>4.0</td>\n      <td>17.0</td>\n      <td>20.0</td>\n      <td>23.0</td>\n      <td>41.0</td>\n    </tr>\n  </tbody>\n</table>\n</div>"
     },
     "execution_count": 56,
     "metadata": {},
     "output_type": "execute_result"
    }
   ],
   "source": [
    "exp_order_button_group_control.groupby('segment').events.describe()"
   ],
   "metadata": {
    "collapsed": false,
    "pycharm": {
     "name": "#%%\n"
    }
   }
  },
  {
   "cell_type": "code",
   "execution_count": 58,
   "outputs": [
    {
     "data": {
      "text/plain": "                   count       mean       std   min   25%   50%   75%    max\ngroup   segment                                                             \ncontrol high     10000.0  59.970800  7.805347  31.0  55.0  60.0  65.0   89.0\n        low      40000.0  20.031575  4.473576   4.0  17.0  20.0  23.0   41.0\ntest    high     10000.0  69.938500  8.403974  40.0  64.0  70.0  76.0  102.0\n        low      40000.0  33.025925  5.720845  13.0  29.0  33.0  37.0   59.0",
      "text/html": "<div>\n<style scoped>\n    .dataframe tbody tr th:only-of-type {\n        vertical-align: middle;\n    }\n\n    .dataframe tbody tr th {\n        vertical-align: top;\n    }\n\n    .dataframe thead th {\n        text-align: right;\n    }\n</style>\n<table border=\"1\" class=\"dataframe\">\n  <thead>\n    <tr style=\"text-align: right;\">\n      <th></th>\n      <th></th>\n      <th>count</th>\n      <th>mean</th>\n      <th>std</th>\n      <th>min</th>\n      <th>25%</th>\n      <th>50%</th>\n      <th>75%</th>\n      <th>max</th>\n    </tr>\n    <tr>\n      <th>group</th>\n      <th>segment</th>\n      <th></th>\n      <th></th>\n      <th></th>\n      <th></th>\n      <th></th>\n      <th></th>\n      <th></th>\n      <th></th>\n    </tr>\n  </thead>\n  <tbody>\n    <tr>\n      <th rowspan=\"2\" valign=\"top\">control</th>\n      <th>high</th>\n      <td>10000.0</td>\n      <td>59.970800</td>\n      <td>7.805347</td>\n      <td>31.0</td>\n      <td>55.0</td>\n      <td>60.0</td>\n      <td>65.0</td>\n      <td>89.0</td>\n    </tr>\n    <tr>\n      <th>low</th>\n      <td>40000.0</td>\n      <td>20.031575</td>\n      <td>4.473576</td>\n      <td>4.0</td>\n      <td>17.0</td>\n      <td>20.0</td>\n      <td>23.0</td>\n      <td>41.0</td>\n    </tr>\n    <tr>\n      <th rowspan=\"2\" valign=\"top\">test</th>\n      <th>high</th>\n      <td>10000.0</td>\n      <td>69.938500</td>\n      <td>8.403974</td>\n      <td>40.0</td>\n      <td>64.0</td>\n      <td>70.0</td>\n      <td>76.0</td>\n      <td>102.0</td>\n    </tr>\n    <tr>\n      <th>low</th>\n      <td>40000.0</td>\n      <td>33.025925</td>\n      <td>5.720845</td>\n      <td>13.0</td>\n      <td>29.0</td>\n      <td>33.0</td>\n      <td>37.0</td>\n      <td>59.0</td>\n    </tr>\n  </tbody>\n</table>\n</div>"
     },
     "execution_count": 58,
     "metadata": {},
     "output_type": "execute_result"
    }
   ],
   "source": [
    "exp_order_button.groupby(['group' ,'segment']).events.describe()"
   ],
   "metadata": {
    "collapsed": false,
    "pycharm": {
     "name": "#%%\n"
    }
   }
  },
  {
   "cell_type": "code",
   "execution_count": 59,
   "outputs": [],
   "source": [
    "exp_order_button['combination'] = exp_order_button.group + ' / ' + exp_order_button.segment"
   ],
   "metadata": {
    "collapsed": false,
    "pycharm": {
     "name": "#%%\n"
    }
   }
  },
  {
   "cell_type": "code",
   "execution_count": 61,
   "outputs": [
    {
     "data": {
      "text/plain": "          id    group segment  events    combination\n0      83440     test    high    78.0    test / high\n1      96723     test    high    71.0    test / high\n2      68719     test    high    80.0    test / high\n3      50399     test    high    80.0    test / high\n4      95613     test    high    78.0    test / high\n...      ...      ...     ...     ...            ...\n99995  60695  control     low    15.0  control / low\n99996   5934  control     low    16.0  control / low\n99997  30046  control     low    22.0  control / low\n99998  26474  control     low    21.0  control / low\n99999  42649  control     low    23.0  control / low\n\n[100000 rows x 5 columns]",
      "text/html": "<div>\n<style scoped>\n    .dataframe tbody tr th:only-of-type {\n        vertical-align: middle;\n    }\n\n    .dataframe tbody tr th {\n        vertical-align: top;\n    }\n\n    .dataframe thead th {\n        text-align: right;\n    }\n</style>\n<table border=\"1\" class=\"dataframe\">\n  <thead>\n    <tr style=\"text-align: right;\">\n      <th></th>\n      <th>id</th>\n      <th>group</th>\n      <th>segment</th>\n      <th>events</th>\n      <th>combination</th>\n    </tr>\n  </thead>\n  <tbody>\n    <tr>\n      <th>0</th>\n      <td>83440</td>\n      <td>test</td>\n      <td>high</td>\n      <td>78.0</td>\n      <td>test / high</td>\n    </tr>\n    <tr>\n      <th>1</th>\n      <td>96723</td>\n      <td>test</td>\n      <td>high</td>\n      <td>71.0</td>\n      <td>test / high</td>\n    </tr>\n    <tr>\n      <th>2</th>\n      <td>68719</td>\n      <td>test</td>\n      <td>high</td>\n      <td>80.0</td>\n      <td>test / high</td>\n    </tr>\n    <tr>\n      <th>3</th>\n      <td>50399</td>\n      <td>test</td>\n      <td>high</td>\n      <td>80.0</td>\n      <td>test / high</td>\n    </tr>\n    <tr>\n      <th>4</th>\n      <td>95613</td>\n      <td>test</td>\n      <td>high</td>\n      <td>78.0</td>\n      <td>test / high</td>\n    </tr>\n    <tr>\n      <th>...</th>\n      <td>...</td>\n      <td>...</td>\n      <td>...</td>\n      <td>...</td>\n      <td>...</td>\n    </tr>\n    <tr>\n      <th>99995</th>\n      <td>60695</td>\n      <td>control</td>\n      <td>low</td>\n      <td>15.0</td>\n      <td>control / low</td>\n    </tr>\n    <tr>\n      <th>99996</th>\n      <td>5934</td>\n      <td>control</td>\n      <td>low</td>\n      <td>16.0</td>\n      <td>control / low</td>\n    </tr>\n    <tr>\n      <th>99997</th>\n      <td>30046</td>\n      <td>control</td>\n      <td>low</td>\n      <td>22.0</td>\n      <td>control / low</td>\n    </tr>\n    <tr>\n      <th>99998</th>\n      <td>26474</td>\n      <td>control</td>\n      <td>low</td>\n      <td>21.0</td>\n      <td>control / low</td>\n    </tr>\n    <tr>\n      <th>99999</th>\n      <td>42649</td>\n      <td>control</td>\n      <td>low</td>\n      <td>23.0</td>\n      <td>control / low</td>\n    </tr>\n  </tbody>\n</table>\n<p>100000 rows × 5 columns</p>\n</div>"
     },
     "execution_count": 61,
     "metadata": {},
     "output_type": "execute_result"
    }
   ],
   "source": [
    "exp_order_button"
   ],
   "metadata": {
    "collapsed": false,
    "pycharm": {
     "name": "#%%\n"
    }
   }
  },
  {
   "cell_type": "code",
   "execution_count": 68,
   "outputs": [],
   "source": [
    "formula = 'events ~ segment + group + segment:group'\n",
    "model = ols(formula, exp_order_button).fit()\n",
    "aov_table = anova_lm(model, typ=2)"
   ],
   "metadata": {
    "collapsed": false,
    "pycharm": {
     "name": "#%%\n"
    }
   }
  },
  {
   "cell_type": "code",
   "execution_count": 69,
   "outputs": [
    {
     "data": {
      "text/plain": "                     sum_sq       df              F         PR(>F)\nsegment        2.362480e+07      1.0  689756.377485   0.000000e+00\ngroup          3.837195e+06      1.0  112031.864119   0.000000e+00\nsegment:group  3.664244e+04      1.0    1069.823273  2.060261e-233\nResidual       3.424956e+06  99996.0            NaN            NaN",
      "text/html": "<div>\n<style scoped>\n    .dataframe tbody tr th:only-of-type {\n        vertical-align: middle;\n    }\n\n    .dataframe tbody tr th {\n        vertical-align: top;\n    }\n\n    .dataframe thead th {\n        text-align: right;\n    }\n</style>\n<table border=\"1\" class=\"dataframe\">\n  <thead>\n    <tr style=\"text-align: right;\">\n      <th></th>\n      <th>sum_sq</th>\n      <th>df</th>\n      <th>F</th>\n      <th>PR(&gt;F)</th>\n    </tr>\n  </thead>\n  <tbody>\n    <tr>\n      <th>segment</th>\n      <td>2.362480e+07</td>\n      <td>1.0</td>\n      <td>689756.377485</td>\n      <td>0.000000e+00</td>\n    </tr>\n    <tr>\n      <th>group</th>\n      <td>3.837195e+06</td>\n      <td>1.0</td>\n      <td>112031.864119</td>\n      <td>0.000000e+00</td>\n    </tr>\n    <tr>\n      <th>segment:group</th>\n      <td>3.664244e+04</td>\n      <td>1.0</td>\n      <td>1069.823273</td>\n      <td>2.060261e-233</td>\n    </tr>\n    <tr>\n      <th>Residual</th>\n      <td>3.424956e+06</td>\n      <td>99996.0</td>\n      <td>NaN</td>\n      <td>NaN</td>\n    </tr>\n  </tbody>\n</table>\n</div>"
     },
     "execution_count": 69,
     "metadata": {},
     "output_type": "execute_result"
    }
   ],
   "source": [
    "aov_table"
   ],
   "metadata": {
    "collapsed": false,
    "pycharm": {
     "name": "#%%\n"
    }
   }
  },
  {
   "cell_type": "code",
   "execution_count": 70,
   "outputs": [
    {
     "data": {
      "text/plain": "<class 'statsmodels.iolib.table.SimpleTable'>",
      "text/html": "<table class=\"simpletable\">\n<caption>Multiple Comparison of Means - Tukey HSD, FWER=0.05</caption>\n<tr>\n      <th>group1</th>        <th>group2</th>     <th>meandiff</th> <th>p-adj</th>   <th>lower</th>    <th>upper</th>  <th>reject</th>\n</tr>\n<tr>\n  <td>control / high</td> <td>control / low</td> <td>-39.9392</td> <td>0.001</td> <td>-40.1073</td> <td>-39.7711</td>  <td>True</td> \n</tr>\n<tr>\n  <td>control / high</td>  <td>test / high</td>   <td>9.9677</td>  <td>0.001</td>  <td>9.7551</td>   <td>10.1803</td>  <td>True</td> \n</tr>\n<tr>\n  <td>control / high</td>  <td>test / low</td>   <td>-26.9449</td> <td>0.001</td>  <td>-27.113</td> <td>-26.7768</td>  <td>True</td> \n</tr>\n<tr>\n   <td>control / low</td>  <td>test / high</td>   <td>49.9069</td> <td>0.001</td>  <td>49.7388</td>  <td>50.075</td>   <td>True</td> \n</tr>\n<tr>\n   <td>control / low</td>  <td>test / low</td>    <td>12.9944</td> <td>0.001</td>  <td>12.888</td>   <td>13.1007</td>  <td>True</td> \n</tr>\n<tr>\n    <td>test / high</td>   <td>test / low</td>   <td>-36.9126</td> <td>0.001</td> <td>-37.0807</td> <td>-36.7445</td>  <td>True</td> \n</tr>\n</table>"
     },
     "execution_count": 70,
     "metadata": {},
     "output_type": "execute_result"
    }
   ],
   "source": [
    "pairwise_tukeyhsd(exp_order_button.events,  exp_order_button.combination).summary()"
   ],
   "metadata": {
    "collapsed": false,
    "pycharm": {
     "name": "#%%\n"
    }
   }
  },
  {
   "cell_type": "code",
   "execution_count": 74,
   "outputs": [
    {
     "data": {
      "text/plain": "<matplotlib.axes._subplots.AxesSubplot at 0x1eb11559130>"
     },
     "execution_count": 74,
     "metadata": {},
     "output_type": "execute_result"
    },
    {
     "data": {
      "text/plain": "<Figure size 432x288 with 1 Axes>",
      "image/png": "[encoded data removed]"
     },
     "metadata": {
      "needs_background": "light"
     },
     "output_type": "display_data"
    }
   ],
   "source": [
    "sns.pointplot(x='group', y='events', data=exp_order_button, hue='segment')"
   ],
   "metadata": {
    "collapsed": false,
    "pycharm": {
     "name": "#%%\n"
    }
   }
  },
  {
   "cell_type": "code",
   "execution_count": null,
   "outputs": [],
   "source": [],
   "metadata": {
    "collapsed": false,
    "pycharm": {
     "name": "#%%\n"
    }
   }
  }
 ],
 "metadata": {
  "kernelspec": {
   "display_name": "Python 3",
   "language": "python",
   "name": "python3"
  },
  "language_info": {
   "codemirror_mode": {
    "name": "ipython",
    "version": 2
   },
   "file_extension": ".py",
   "mimetype": "text/x-python",
   "name": "python",
   "nbconvert_exporter": "python",
   "pygments_lexer": "ipython2",
   "version": "2.7.6"
  }
 },
 "nbformat": 4,
 "nbformat_minor": 0
}