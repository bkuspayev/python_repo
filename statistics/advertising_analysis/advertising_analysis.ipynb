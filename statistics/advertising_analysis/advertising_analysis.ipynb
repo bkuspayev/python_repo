{
 "cells": [
  {
   "cell_type": "code",
   "execution_count": 1,
   "metadata": {
    "collapsed": true
   },
   "outputs": [],
   "source": [
    "import pandas as pd\n",
    "import seaborn as sns\n",
    "import matplotlib.pyplot as plt"
   ]
  },
  {
   "cell_type": "markdown",
   "source": [
    "<ol><li>Загрузите данные, проверьте число наблюдений и столбцов, типы данных, наличие пропущенных значений, какие уникальные значения встречаются.</li>\n",
    "<li>Постройте график распределения числа показов (Impressions) для каждой рекламы, прологарифмировав значения.</li>\n",
    "<li>Создайте новую колонку c CTR. Посмотрите на описательные статистики и распределение.</li>\n",
    "<li>Проанализируйте CTR с разбивкой по рекламной кампании.</li>\n",
    "<li>Посчитайте стоимость за клик пользователя по объявлению (CPC). Изучите полученные значения, используя меры центральной тенденции и меры изменчивости.</li>\n",
    "<li>Визуализируйте CPC с разбивкой по полу пользователей, которым были показаны объявления.</li>\n",
    "<li>Посчитайте конверсию из клика в покупку.</li></ol>"
   ],
   "metadata": {
    "collapsed": false
   }
  },
  {
   "cell_type": "markdown",
   "source": [
    "<h4>Описание данных</h4>\n",
    "<li><b>ad_id</b> - идентификатор объявления (рекламы)</li>\n",
    "<li><b>xyz_campaign_id</b> – идентификатор рекламной кампании в базе компании X</li>\n",
    "<li><b>fb_campaign_id</b> – идентификатор кампании в Facebook</li>\n",
    "<li><b>age – возрастная</b> группа, которой показывалась реклама</li>\n",
    "<li><b>gender</b> – пол тех, кому показывалась реклама</li>\n",
    "<li><b>interest</b> –код, указывающий категорию, к которой относится интерес пользователя (соответствие число – интерес)</li>\n",
    "<li><b>impressions</b> – число показов</li>\n",
    "<li><b>clicks</b> – число кликов</li>\n",
    "<li><b>spent –</b> сумма, которую компания потратила на показ объявления </li>\n",
    "<li><b>total_conversion</b> – количество людей, которые заинтересовались продуктом после просмотра рекламы</li>\n",
    "<li><b>approved_conversion</b> – количество людей, которые купили продукт после просмотра рекламы</li>"
   ],
   "metadata": {
    "collapsed": false,
    "pycharm": {
     "name": "#%% md\n"
    }
   }
  },
  {
   "cell_type": "code",
   "execution_count": 2,
   "outputs": [],
   "source": [
    "ad_data = pd.read_csv('conversion.csv')"
   ],
   "metadata": {
    "collapsed": false,
    "pycharm": {
     "name": "#%%\n"
    }
   }
  },
  {
   "cell_type": "code",
   "execution_count": 3,
   "outputs": [
    {
     "data": {
      "text/plain": "    ad_id  xyz_campaign_id  fb_campaign_id    age gender  interest  \\\n0  708746              916          103916  30-34      M        15   \n1  708749              916          103917  30-34      M        16   \n2  708771              916          103920  30-34      M        20   \n3  708815              916          103928  30-34      M        28   \n4  708818              916          103928  30-34      M        28   \n\n   Impressions  Clicks  Spent  Total_Conversion  Approved_Conversion  \n0         7350       1   1.43                 2                    1  \n1        17861       2   1.82                 2                    0  \n2          693       0   0.00                 1                    0  \n3         4259       1   1.25                 1                    0  \n4         4133       1   1.29                 1                    1  ",
      "text/html": "<div>\n<style scoped>\n    .dataframe tbody tr th:only-of-type {\n        vertical-align: middle;\n    }\n\n    .dataframe tbody tr th {\n        vertical-align: top;\n    }\n\n    .dataframe thead th {\n        text-align: right;\n    }\n</style>\n<table border=\"1\" class=\"dataframe\">\n  <thead>\n    <tr style=\"text-align: right;\">\n      <th></th>\n      <th>ad_id</th>\n      <th>xyz_campaign_id</th>\n      <th>fb_campaign_id</th>\n      <th>age</th>\n      <th>gender</th>\n      <th>interest</th>\n      <th>Impressions</th>\n      <th>Clicks</th>\n      <th>Spent</th>\n      <th>Total_Conversion</th>\n      <th>Approved_Conversion</th>\n    </tr>\n  </thead>\n  <tbody>\n    <tr>\n      <th>0</th>\n      <td>708746</td>\n      <td>916</td>\n      <td>103916</td>\n      <td>30-34</td>\n      <td>M</td>\n      <td>15</td>\n      <td>7350</td>\n      <td>1</td>\n      <td>1.43</td>\n      <td>2</td>\n      <td>1</td>\n    </tr>\n    <tr>\n      <th>1</th>\n      <td>708749</td>\n      <td>916</td>\n      <td>103917</td>\n      <td>30-34</td>\n      <td>M</td>\n      <td>16</td>\n      <td>17861</td>\n      <td>2</td>\n      <td>1.82</td>\n      <td>2</td>\n      <td>0</td>\n    </tr>\n    <tr>\n      <th>2</th>\n      <td>708771</td>\n      <td>916</td>\n      <td>103920</td>\n      <td>30-34</td>\n      <td>M</td>\n      <td>20</td>\n      <td>693</td>\n      <td>0</td>\n      <td>0.00</td>\n      <td>1</td>\n      <td>0</td>\n    </tr>\n    <tr>\n      <th>3</th>\n      <td>708815</td>\n      <td>916</td>\n      <td>103928</td>\n      <td>30-34</td>\n      <td>M</td>\n      <td>28</td>\n      <td>4259</td>\n      <td>1</td>\n      <td>1.25</td>\n      <td>1</td>\n      <td>0</td>\n    </tr>\n    <tr>\n      <th>4</th>\n      <td>708818</td>\n      <td>916</td>\n      <td>103928</td>\n      <td>30-34</td>\n      <td>M</td>\n      <td>28</td>\n      <td>4133</td>\n      <td>1</td>\n      <td>1.29</td>\n      <td>1</td>\n      <td>1</td>\n    </tr>\n  </tbody>\n</table>\n</div>"
     },
     "execution_count": 3,
     "metadata": {},
     "output_type": "execute_result"
    }
   ],
   "source": [
    "ad_data.head()"
   ],
   "metadata": {
    "collapsed": false,
    "pycharm": {
     "name": "#%%\n"
    }
   }
  },
  {
   "cell_type": "code",
   "execution_count": 4,
   "outputs": [
    {
     "name": "stdout",
     "output_type": "stream",
     "text": [
      "<class 'pandas.core.frame.DataFrame'>\n",
      "RangeIndex: 1143 entries, 0 to 1142\n",
      "Data columns (total 11 columns):\n",
      " #   Column               Non-Null Count  Dtype  \n",
      "---  ------               --------------  -----  \n",
      " 0   ad_id                1143 non-null   int64  \n",
      " 1   xyz_campaign_id      1143 non-null   int64  \n",
      " 2   fb_campaign_id       1143 non-null   int64  \n",
      " 3   age                  1143 non-null   object \n",
      " 4   gender               1143 non-null   object \n",
      " 5   interest             1143 non-null   int64  \n",
      " 6   Impressions          1143 non-null   int64  \n",
      " 7   Clicks               1143 non-null   int64  \n",
      " 8   Spent                1143 non-null   float64\n",
      " 9   Total_Conversion     1143 non-null   int64  \n",
      " 10  Approved_Conversion  1143 non-null   int64  \n",
      "dtypes: float64(1), int64(8), object(2)\n",
      "memory usage: 98.4+ KB\n"
     ]
    }
   ],
   "source": [
    "ad_data.info()"
   ],
   "metadata": {
    "collapsed": false,
    "pycharm": {
     "name": "#%%\n"
    }
   }
  },
  {
   "cell_type": "code",
   "execution_count": null,
   "outputs": [],
   "source": [],
   "metadata": {
    "collapsed": false,
    "pycharm": {
     "name": "#%%\n"
    }
   }
  }
 ],
 "metadata": {
  "kernelspec": {
   "display_name": "Python 3",
   "language": "python",
   "name": "python3"
  },
  "language_info": {
   "codemirror_mode": {
    "name": "ipython",
    "version": 2
   },
   "file_extension": ".py",
   "mimetype": "text/x-python",
   "name": "python",
   "nbconvert_exporter": "python",
   "pygments_lexer": "ipython2",
   "version": "2.7.6"
  }
 },
 "nbformat": 4,
 "nbformat_minor": 0
}