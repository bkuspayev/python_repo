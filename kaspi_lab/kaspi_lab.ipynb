{
 "cells": [
  {
   "cell_type": "code",
   "execution_count": 1,
   "metadata": {
    "collapsed": true
   },
   "outputs": [],
   "source": [
    "import pandas as pd\n",
    "import numpy as np"
   ]
  },
  {
   "cell_type": "code",
   "execution_count": 2,
   "outputs": [],
   "source": [
    "df_data = pd.read_csv('indexData.csv')"
   ],
   "metadata": {
    "collapsed": false,
    "pycharm": {
     "name": "#%%\n"
    }
   }
  },
  {
   "cell_type": "code",
   "execution_count": 6,
   "outputs": [
    {
     "name": "stdout",
     "output_type": "stream",
     "text": [
      "<class 'pandas.core.frame.DataFrame'>\n",
      "RangeIndex: 112457 entries, 0 to 112456\n",
      "Data columns (total 8 columns):\n",
      " #   Column     Non-Null Count   Dtype  \n",
      "---  ------     --------------   -----  \n",
      " 0   Index      112457 non-null  object \n",
      " 1   Date       112457 non-null  object \n",
      " 2   Open       110253 non-null  float64\n",
      " 3   High       110253 non-null  float64\n",
      " 4   Low        110253 non-null  float64\n",
      " 5   Close      110253 non-null  float64\n",
      " 6   Adj Close  110253 non-null  float64\n",
      " 7   Volume     110253 non-null  float64\n",
      "dtypes: float64(6), object(2)\n",
      "memory usage: 6.9+ MB\n"
     ]
    }
   ],
   "source": [
    "df_data.info()"
   ],
   "metadata": {
    "collapsed": false,
    "pycharm": {
     "name": "#%%\n"
    }
   }
  },
  {
   "cell_type": "code",
   "execution_count": 3,
   "outputs": [],
   "source": [
    "df_info = pd.read_csv('indexInfo.csv')"
   ],
   "metadata": {
    "collapsed": false,
    "pycharm": {
     "name": "#%%\n"
    }
   }
  },
  {
   "cell_type": "code",
   "execution_count": 7,
   "outputs": [
    {
     "name": "stdout",
     "output_type": "stream",
     "text": [
      "<class 'pandas.core.frame.DataFrame'>\n",
      "RangeIndex: 14 entries, 0 to 13\n",
      "Data columns (total 4 columns):\n",
      " #   Column    Non-Null Count  Dtype \n",
      "---  ------    --------------  ----- \n",
      " 0   Region    14 non-null     object\n",
      " 1   Exchange  14 non-null     object\n",
      " 2   Index     14 non-null     object\n",
      " 3   Currency  14 non-null     object\n",
      "dtypes: object(4)\n",
      "memory usage: 576.0+ bytes\n"
     ]
    }
   ],
   "source": [
    "df_info.info()"
   ],
   "metadata": {
    "collapsed": false,
    "pycharm": {
     "name": "#%%\n"
    }
   }
  },
  {
   "cell_type": "code",
   "execution_count": 4,
   "outputs": [],
   "source": [
    "df_processed = pd.read_csv('indexProcessed.csv')"
   ],
   "metadata": {
    "collapsed": false,
    "pycharm": {
     "name": "#%%\n"
    }
   }
  },
  {
   "cell_type": "code",
   "execution_count": 8,
   "outputs": [
    {
     "name": "stdout",
     "output_type": "stream",
     "text": [
      "<class 'pandas.core.frame.DataFrame'>\n",
      "RangeIndex: 104224 entries, 0 to 104223\n",
      "Data columns (total 9 columns):\n",
      " #   Column     Non-Null Count   Dtype  \n",
      "---  ------     --------------   -----  \n",
      " 0   Index      104224 non-null  object \n",
      " 1   Date       104224 non-null  object \n",
      " 2   Open       104224 non-null  float64\n",
      " 3   High       104224 non-null  float64\n",
      " 4   Low        104224 non-null  float64\n",
      " 5   Close      104224 non-null  float64\n",
      " 6   Adj Close  104224 non-null  float64\n",
      " 7   Volume     104224 non-null  float64\n",
      " 8   CloseUSD   104224 non-null  float64\n",
      "dtypes: float64(7), object(2)\n",
      "memory usage: 7.2+ MB\n"
     ]
    }
   ],
   "source": [
    "df_processed.info()"
   ],
   "metadata": {
    "collapsed": false,
    "pycharm": {
     "name": "#%%\n"
    }
   }
  },
  {
   "cell_type": "code",
   "execution_count": 17,
   "outputs": [],
   "source": [
    "columns = list(df_processed.columns)"
   ],
   "metadata": {
    "collapsed": false,
    "pycharm": {
     "name": "#%%\n"
    }
   }
  },
  {
   "cell_type": "code",
   "execution_count": 18,
   "outputs": [],
   "source": [
    "df_processed_nocusd = df_processed[columns[:-1]]"
   ],
   "metadata": {
    "collapsed": false,
    "pycharm": {
     "name": "#%%\n"
    }
   }
  },
  {
   "cell_type": "code",
   "execution_count": 19,
   "outputs": [
    {
     "data": {
      "text/plain": "          Index        Date          Open          High           Low  \\\n0           HSI  1986-12-31   2568.300049   2568.300049   2568.300049   \n1           HSI  1987-01-02   2540.100098   2540.100098   2540.100098   \n2           HSI  1987-01-05   2552.399902   2552.399902   2552.399902   \n3           HSI  1987-01-06   2583.899902   2583.899902   2583.899902   \n4           HSI  1987-01-07   2607.100098   2607.100098   2607.100098   \n...         ...         ...           ...           ...           ...   \n104219  J203.JO  2021-05-25  66054.921880  66812.453130  66022.976560   \n104220  J203.JO  2021-05-26  66076.679690  66446.367190  66030.351560   \n104221  J203.JO  2021-05-27  66108.226560  66940.250000  66102.546880   \n104222  J203.JO  2021-05-28  66940.250000  67726.562500  66794.609380   \n104223  J203.JO  2021-05-31  67554.859380  68140.851560  67554.859380   \n\n               Close     Adj Close  Volume  \n0        2568.300049   2568.300049     0.0  \n1        2540.100098   2540.100098     0.0  \n2        2552.399902   2552.399902     0.0  \n3        2583.899902   2583.899902     0.0  \n4        2607.100098   2607.100098     0.0  \n...              ...           ...     ...  \n104219  66076.679690  66076.679690     0.0  \n104220  66108.226560  66108.226560     0.0  \n104221  66940.250000  66940.250000     0.0  \n104222  67554.859380  67554.859380     0.0  \n104223  67964.039060  67964.039060     0.0  \n\n[104224 rows x 8 columns]",
      "text/html": "<div>\n<style scoped>\n    .dataframe tbody tr th:only-of-type {\n        vertical-align: middle;\n    }\n\n    .dataframe tbody tr th {\n        vertical-align: top;\n    }\n\n    .dataframe thead th {\n        text-align: right;\n    }\n</style>\n<table border=\"1\" class=\"dataframe\">\n  <thead>\n    <tr style=\"text-align: right;\">\n      <th></th>\n      <th>Index</th>\n      <th>Date</th>\n      <th>Open</th>\n      <th>High</th>\n      <th>Low</th>\n      <th>Close</th>\n      <th>Adj Close</th>\n      <th>Volume</th>\n    </tr>\n  </thead>\n  <tbody>\n    <tr>\n      <th>0</th>\n      <td>HSI</td>\n      <td>1986-12-31</td>\n      <td>2568.300049</td>\n      <td>2568.300049</td>\n      <td>2568.300049</td>\n      <td>2568.300049</td>\n      <td>2568.300049</td>\n      <td>0.0</td>\n    </tr>\n    <tr>\n      <th>1</th>\n      <td>HSI</td>\n      <td>1987-01-02</td>\n      <td>2540.100098</td>\n      <td>2540.100098</td>\n      <td>2540.100098</td>\n      <td>2540.100098</td>\n      <td>2540.100098</td>\n      <td>0.0</td>\n    </tr>\n    <tr>\n      <th>2</th>\n      <td>HSI</td>\n      <td>1987-01-05</td>\n      <td>2552.399902</td>\n      <td>2552.399902</td>\n      <td>2552.399902</td>\n      <td>2552.399902</td>\n      <td>2552.399902</td>\n      <td>0.0</td>\n    </tr>\n    <tr>\n      <th>3</th>\n      <td>HSI</td>\n      <td>1987-01-06</td>\n      <td>2583.899902</td>\n      <td>2583.899902</td>\n      <td>2583.899902</td>\n      <td>2583.899902</td>\n      <td>2583.899902</td>\n      <td>0.0</td>\n    </tr>\n    <tr>\n      <th>4</th>\n      <td>HSI</td>\n      <td>1987-01-07</td>\n      <td>2607.100098</td>\n      <td>2607.100098</td>\n      <td>2607.100098</td>\n      <td>2607.100098</td>\n      <td>2607.100098</td>\n      <td>0.0</td>\n    </tr>\n    <tr>\n      <th>...</th>\n      <td>...</td>\n      <td>...</td>\n      <td>...</td>\n      <td>...</td>\n      <td>...</td>\n      <td>...</td>\n      <td>...</td>\n      <td>...</td>\n    </tr>\n    <tr>\n      <th>104219</th>\n      <td>J203.JO</td>\n      <td>2021-05-25</td>\n      <td>66054.921880</td>\n      <td>66812.453130</td>\n      <td>66022.976560</td>\n      <td>66076.679690</td>\n      <td>66076.679690</td>\n      <td>0.0</td>\n    </tr>\n    <tr>\n      <th>104220</th>\n      <td>J203.JO</td>\n      <td>2021-05-26</td>\n      <td>66076.679690</td>\n      <td>66446.367190</td>\n      <td>66030.351560</td>\n      <td>66108.226560</td>\n      <td>66108.226560</td>\n      <td>0.0</td>\n    </tr>\n    <tr>\n      <th>104221</th>\n      <td>J203.JO</td>\n      <td>2021-05-27</td>\n      <td>66108.226560</td>\n      <td>66940.250000</td>\n      <td>66102.546880</td>\n      <td>66940.250000</td>\n      <td>66940.250000</td>\n      <td>0.0</td>\n    </tr>\n    <tr>\n      <th>104222</th>\n      <td>J203.JO</td>\n      <td>2021-05-28</td>\n      <td>66940.250000</td>\n      <td>67726.562500</td>\n      <td>66794.609380</td>\n      <td>67554.859380</td>\n      <td>67554.859380</td>\n      <td>0.0</td>\n    </tr>\n    <tr>\n      <th>104223</th>\n      <td>J203.JO</td>\n      <td>2021-05-31</td>\n      <td>67554.859380</td>\n      <td>68140.851560</td>\n      <td>67554.859380</td>\n      <td>67964.039060</td>\n      <td>67964.039060</td>\n      <td>0.0</td>\n    </tr>\n  </tbody>\n</table>\n<p>104224 rows × 8 columns</p>\n</div>"
     },
     "execution_count": 19,
     "metadata": {},
     "output_type": "execute_result"
    }
   ],
   "source": [
    "df_processed_nocusd"
   ],
   "metadata": {
    "collapsed": false,
    "pycharm": {
     "name": "#%%\n"
    }
   }
  },
  {
   "cell_type": "code",
   "execution_count": 21,
   "outputs": [],
   "source": [
    "df_not_processed = pd.concat([df_data,df_processed_nocusd]).drop_duplicates(keep=False)"
   ],
   "metadata": {
    "collapsed": false,
    "pycharm": {
     "name": "#%%\n"
    }
   }
  },
  {
   "cell_type": "code",
   "execution_count": 22,
   "outputs": [
    {
     "data": {
      "text/plain": "       Index        Date  Open  High  Low  Close  Adj Close  Volume\n289      NYA  1967-02-23   NaN   NaN  NaN    NaN        NaN     NaN\n26639    HSI  1987-01-01   NaN   NaN  NaN    NaN        NaN     NaN\n26659    HSI  1987-01-29   NaN   NaN  NaN    NaN        NaN     NaN\n26660    HSI  1987-01-30   NaN   NaN  NaN    NaN        NaN     NaN\n26706    HSI  1987-04-06   NaN   NaN  NaN    NaN        NaN     NaN\n...      ...         ...   ...   ...  ...    ...        ...     ...\n108316  N100  2005-03-28   NaN   NaN  NaN    NaN        NaN     NaN\n108511  N100  2005-12-26   NaN   NaN  NaN    NaN        NaN     NaN\n110051  N100  2012-01-02   NaN   NaN  NaN    NaN        NaN     NaN\n110643  N100  2014-05-01   NaN   NaN  NaN    NaN        NaN     NaN\n112090  N100  2019-12-25   NaN   NaN  NaN    NaN        NaN     NaN\n\n[8233 rows x 8 columns]",
      "text/html": "<div>\n<style scoped>\n    .dataframe tbody tr th:only-of-type {\n        vertical-align: middle;\n    }\n\n    .dataframe tbody tr th {\n        vertical-align: top;\n    }\n\n    .dataframe thead th {\n        text-align: right;\n    }\n</style>\n<table border=\"1\" class=\"dataframe\">\n  <thead>\n    <tr style=\"text-align: right;\">\n      <th></th>\n      <th>Index</th>\n      <th>Date</th>\n      <th>Open</th>\n      <th>High</th>\n      <th>Low</th>\n      <th>Close</th>\n      <th>Adj Close</th>\n      <th>Volume</th>\n    </tr>\n  </thead>\n  <tbody>\n    <tr>\n      <th>289</th>\n      <td>NYA</td>\n      <td>1967-02-23</td>\n      <td>NaN</td>\n      <td>NaN</td>\n      <td>NaN</td>\n      <td>NaN</td>\n      <td>NaN</td>\n      <td>NaN</td>\n    </tr>\n    <tr>\n      <th>26639</th>\n      <td>HSI</td>\n      <td>1987-01-01</td>\n      <td>NaN</td>\n      <td>NaN</td>\n      <td>NaN</td>\n      <td>NaN</td>\n      <td>NaN</td>\n      <td>NaN</td>\n    </tr>\n    <tr>\n      <th>26659</th>\n      <td>HSI</td>\n      <td>1987-01-29</td>\n      <td>NaN</td>\n      <td>NaN</td>\n      <td>NaN</td>\n      <td>NaN</td>\n      <td>NaN</td>\n      <td>NaN</td>\n    </tr>\n    <tr>\n      <th>26660</th>\n      <td>HSI</td>\n      <td>1987-01-30</td>\n      <td>NaN</td>\n      <td>NaN</td>\n      <td>NaN</td>\n      <td>NaN</td>\n      <td>NaN</td>\n      <td>NaN</td>\n    </tr>\n    <tr>\n      <th>26706</th>\n      <td>HSI</td>\n      <td>1987-04-06</td>\n      <td>NaN</td>\n      <td>NaN</td>\n      <td>NaN</td>\n      <td>NaN</td>\n      <td>NaN</td>\n      <td>NaN</td>\n    </tr>\n    <tr>\n      <th>...</th>\n      <td>...</td>\n      <td>...</td>\n      <td>...</td>\n      <td>...</td>\n      <td>...</td>\n      <td>...</td>\n      <td>...</td>\n      <td>...</td>\n    </tr>\n    <tr>\n      <th>108316</th>\n      <td>N100</td>\n      <td>2005-03-28</td>\n      <td>NaN</td>\n      <td>NaN</td>\n      <td>NaN</td>\n      <td>NaN</td>\n      <td>NaN</td>\n      <td>NaN</td>\n    </tr>\n    <tr>\n      <th>108511</th>\n      <td>N100</td>\n      <td>2005-12-26</td>\n      <td>NaN</td>\n      <td>NaN</td>\n      <td>NaN</td>\n      <td>NaN</td>\n      <td>NaN</td>\n      <td>NaN</td>\n    </tr>\n    <tr>\n      <th>110051</th>\n      <td>N100</td>\n      <td>2012-01-02</td>\n      <td>NaN</td>\n      <td>NaN</td>\n      <td>NaN</td>\n      <td>NaN</td>\n      <td>NaN</td>\n      <td>NaN</td>\n    </tr>\n    <tr>\n      <th>110643</th>\n      <td>N100</td>\n      <td>2014-05-01</td>\n      <td>NaN</td>\n      <td>NaN</td>\n      <td>NaN</td>\n      <td>NaN</td>\n      <td>NaN</td>\n      <td>NaN</td>\n    </tr>\n    <tr>\n      <th>112090</th>\n      <td>N100</td>\n      <td>2019-12-25</td>\n      <td>NaN</td>\n      <td>NaN</td>\n      <td>NaN</td>\n      <td>NaN</td>\n      <td>NaN</td>\n      <td>NaN</td>\n    </tr>\n  </tbody>\n</table>\n<p>8233 rows × 8 columns</p>\n</div>"
     },
     "execution_count": 22,
     "metadata": {},
     "output_type": "execute_result"
    }
   ],
   "source": [
    "df_not_processed"
   ],
   "metadata": {
    "collapsed": false,
    "pycharm": {
     "name": "#%%\n"
    }
   }
  },
  {
   "cell_type": "code",
   "execution_count": 23,
   "outputs": [],
   "source": [
    "df_not_processed_no_na = df_not_processed.dropna()"
   ],
   "metadata": {
    "collapsed": false,
    "pycharm": {
     "name": "#%%\n"
    }
   }
  },
  {
   "cell_type": "code",
   "execution_count": 24,
   "outputs": [
    {
     "data": {
      "text/plain": "      Index        Date         Open         High          Low        Close  \\\n70042  KS11  1996-12-11   705.989990   709.479980   704.429993   704.679993   \n70043  KS11  1996-12-12   705.109985   706.010010   688.739990   689.380005   \n70044  KS11  1996-12-13   690.440002   695.719971   677.640015   689.070007   \n70045  KS11  1996-12-16   686.969971   686.969971   667.710022   673.919983   \n70046  KS11  1996-12-17   675.349976   680.090027   660.390015   663.349976   \n...     ...         ...          ...          ...          ...          ...   \n76218  KS11  2021-05-26  3171.909912  3183.969971  3160.300049  3168.429932   \n76219  KS11  2021-05-27  3170.840088  3173.860107  3142.370117  3165.510010   \n76220  KS11  2021-05-28  3172.090088  3198.659912  3171.850098  3188.729980   \n76221  KS11  2021-05-31  3192.060059  3204.290039  3179.870117  3203.919922   \n76222  KS11  2021-06-01  3207.120117  3233.169922  3199.179932  3221.870117   \n\n         Adj Close     Volume  \n70042   704.679993    28000.0  \n70043   689.380005    25900.0  \n70044   689.070007    26500.0  \n70045   673.919983    22800.0  \n70046   663.349976    31600.0  \n...            ...        ...  \n76218  3168.429932  1269000.0  \n76219  3165.510010  1081100.0  \n76220  3188.729980   966000.0  \n76221  3203.919922  1123100.0  \n76222  3221.870117  1472570.0  \n\n[6029 rows x 8 columns]",
      "text/html": "<div>\n<style scoped>\n    .dataframe tbody tr th:only-of-type {\n        vertical-align: middle;\n    }\n\n    .dataframe tbody tr th {\n        vertical-align: top;\n    }\n\n    .dataframe thead th {\n        text-align: right;\n    }\n</style>\n<table border=\"1\" class=\"dataframe\">\n  <thead>\n    <tr style=\"text-align: right;\">\n      <th></th>\n      <th>Index</th>\n      <th>Date</th>\n      <th>Open</th>\n      <th>High</th>\n      <th>Low</th>\n      <th>Close</th>\n      <th>Adj Close</th>\n      <th>Volume</th>\n    </tr>\n  </thead>\n  <tbody>\n    <tr>\n      <th>70042</th>\n      <td>KS11</td>\n      <td>1996-12-11</td>\n      <td>705.989990</td>\n      <td>709.479980</td>\n      <td>704.429993</td>\n      <td>704.679993</td>\n      <td>704.679993</td>\n      <td>28000.0</td>\n    </tr>\n    <tr>\n      <th>70043</th>\n      <td>KS11</td>\n      <td>1996-12-12</td>\n      <td>705.109985</td>\n      <td>706.010010</td>\n      <td>688.739990</td>\n      <td>689.380005</td>\n      <td>689.380005</td>\n      <td>25900.0</td>\n    </tr>\n    <tr>\n      <th>70044</th>\n      <td>KS11</td>\n      <td>1996-12-13</td>\n      <td>690.440002</td>\n      <td>695.719971</td>\n      <td>677.640015</td>\n      <td>689.070007</td>\n      <td>689.070007</td>\n      <td>26500.0</td>\n    </tr>\n    <tr>\n      <th>70045</th>\n      <td>KS11</td>\n      <td>1996-12-16</td>\n      <td>686.969971</td>\n      <td>686.969971</td>\n      <td>667.710022</td>\n      <td>673.919983</td>\n      <td>673.919983</td>\n      <td>22800.0</td>\n    </tr>\n    <tr>\n      <th>70046</th>\n      <td>KS11</td>\n      <td>1996-12-17</td>\n      <td>675.349976</td>\n      <td>680.090027</td>\n      <td>660.390015</td>\n      <td>663.349976</td>\n      <td>663.349976</td>\n      <td>31600.0</td>\n    </tr>\n    <tr>\n      <th>...</th>\n      <td>...</td>\n      <td>...</td>\n      <td>...</td>\n      <td>...</td>\n      <td>...</td>\n      <td>...</td>\n      <td>...</td>\n      <td>...</td>\n    </tr>\n    <tr>\n      <th>76218</th>\n      <td>KS11</td>\n      <td>2021-05-26</td>\n      <td>3171.909912</td>\n      <td>3183.969971</td>\n      <td>3160.300049</td>\n      <td>3168.429932</td>\n      <td>3168.429932</td>\n      <td>1269000.0</td>\n    </tr>\n    <tr>\n      <th>76219</th>\n      <td>KS11</td>\n      <td>2021-05-27</td>\n      <td>3170.840088</td>\n      <td>3173.860107</td>\n      <td>3142.370117</td>\n      <td>3165.510010</td>\n      <td>3165.510010</td>\n      <td>1081100.0</td>\n    </tr>\n    <tr>\n      <th>76220</th>\n      <td>KS11</td>\n      <td>2021-05-28</td>\n      <td>3172.090088</td>\n      <td>3198.659912</td>\n      <td>3171.850098</td>\n      <td>3188.729980</td>\n      <td>3188.729980</td>\n      <td>966000.0</td>\n    </tr>\n    <tr>\n      <th>76221</th>\n      <td>KS11</td>\n      <td>2021-05-31</td>\n      <td>3192.060059</td>\n      <td>3204.290039</td>\n      <td>3179.870117</td>\n      <td>3203.919922</td>\n      <td>3203.919922</td>\n      <td>1123100.0</td>\n    </tr>\n    <tr>\n      <th>76222</th>\n      <td>KS11</td>\n      <td>2021-06-01</td>\n      <td>3207.120117</td>\n      <td>3233.169922</td>\n      <td>3199.179932</td>\n      <td>3221.870117</td>\n      <td>3221.870117</td>\n      <td>1472570.0</td>\n    </tr>\n  </tbody>\n</table>\n<p>6029 rows × 8 columns</p>\n</div>"
     },
     "execution_count": 24,
     "metadata": {},
     "output_type": "execute_result"
    }
   ],
   "source": [
    "df_not_processed_no_na"
   ],
   "metadata": {
    "collapsed": false,
    "pycharm": {
     "name": "#%%\n"
    }
   }
  },
  {
   "cell_type": "code",
   "execution_count": null,
   "outputs": [],
   "source": [],
   "metadata": {
    "collapsed": false,
    "pycharm": {
     "name": "#%%\n"
    }
   }
  }
 ],
 "metadata": {
  "kernelspec": {
   "display_name": "Python 3",
   "language": "python",
   "name": "python3"
  },
  "language_info": {
   "codemirror_mode": {
    "name": "ipython",
    "version": 2
   },
   "file_extension": ".py",
   "mimetype": "text/x-python",
   "name": "python",
   "nbconvert_exporter": "python",
   "pygments_lexer": "ipython2",
   "version": "2.7.6"
  }
 },
 "nbformat": 4,
 "nbformat_minor": 0
}