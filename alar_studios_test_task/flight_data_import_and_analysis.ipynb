{
 "cells": [
  {
   "cell_type": "code",
   "execution_count": 1,
   "metadata": {
    "collapsed": true
   },
   "outputs": [],
   "source": [
    "import pandas as pd\n",
    "import requests"
   ]
  },
  {
   "cell_type": "code",
   "execution_count": 3,
   "outputs": [],
   "source": [
    "r = requests.get('https://www.alarstudios.com/test/auth.cgi?username=test&password=123')"
   ],
   "metadata": {
    "collapsed": false,
    "pycharm": {
     "name": "#%%\n"
    }
   }
  },
  {
   "cell_type": "code",
   "execution_count": 4,
   "outputs": [
    {
     "data": {
      "text/plain": "'{\"status\":\"ok\",\"code\":\"3432360179\"}\\n'"
     },
     "execution_count": 4,
     "metadata": {},
     "output_type": "execute_result"
    }
   ],
   "source": [
    "r.text"
   ],
   "metadata": {
    "collapsed": false,
    "pycharm": {
     "name": "#%%\n"
    }
   }
  },
  {
   "cell_type": "code",
   "execution_count": 5,
   "outputs": [
    {
     "data": {
      "text/plain": "'3432360179'"
     },
     "execution_count": 5,
     "metadata": {},
     "output_type": "execute_result"
    }
   ],
   "source": [
    "r.json()['code']"
   ],
   "metadata": {
    "collapsed": false,
    "pycharm": {
     "name": "#%%\n"
    }
   }
  },
  {
   "cell_type": "code",
   "execution_count": 63,
   "outputs": [],
   "source": [
    "rr = requests.get('http://www.alarstudios.com/test/data.cgi?p=372&code=3929677389')"
   ],
   "metadata": {
    "collapsed": false,
    "pycharm": {
     "name": "#%%\n"
    }
   }
  },
  {
   "cell_type": "code",
   "execution_count": 64,
   "outputs": [
    {
     "data": {
      "text/plain": "[]"
     },
     "execution_count": 64,
     "metadata": {},
     "output_type": "execute_result"
    }
   ],
   "source": [
    "rr.json().get(\"data\")"
   ],
   "metadata": {
    "collapsed": false,
    "pycharm": {
     "name": "#%%\n"
    }
   }
  },
  {
   "cell_type": "code",
   "execution_count": 70,
   "outputs": [
    {
     "name": "stdout",
     "output_type": "stream",
     "text": [
      "JSONDecodeError 10\n",
      "JSONDecodeError 10\n",
      "JSONDecodeError 10\n",
      "JSONDecodeError 10\n",
      "JSONDecodeError 10\n",
      "JSONDecodeError 10\n",
      "JSONDecodeError 10\n",
      "JSONDecodeError 10\n",
      "JSONDecodeError 10\n",
      "JSONDecodeError 10\n",
      "JSONDecodeError 10\n",
      "JSONDecodeError 10\n"
     ]
    },
    {
     "ename": "KeyboardInterrupt",
     "evalue": "",
     "output_type": "error",
     "traceback": [
      "\u001B[1;31m---------------------------------------------------------------------------\u001B[0m",
      "\u001B[1;31mKeyboardInterrupt\u001B[0m                         Traceback (most recent call last)",
      "\u001B[1;32m<ipython-input-70-7b3dfeb78c81>\u001B[0m in \u001B[0;36m<module>\u001B[1;34m\u001B[0m\n\u001B[0;32m      6\u001B[0m     \u001B[1;32mtry\u001B[0m\u001B[1;33m:\u001B[0m\u001B[1;33m\u001B[0m\u001B[1;33m\u001B[0m\u001B[0m\n\u001B[0;32m      7\u001B[0m         \u001B[1;32mwhile\u001B[0m \u001B[0mnew_results\u001B[0m\u001B[1;33m:\u001B[0m\u001B[1;33m\u001B[0m\u001B[1;33m\u001B[0m\u001B[0m\n\u001B[1;32m----> 8\u001B[1;33m             \u001B[0mapi_url\u001B[0m \u001B[1;33m=\u001B[0m \u001B[0mrequests\u001B[0m\u001B[1;33m.\u001B[0m\u001B[0mget\u001B[0m\u001B[1;33m(\u001B[0m\u001B[0murl\u001B[0m \u001B[1;33m+\u001B[0m \u001B[1;34mf\"&p={page}\"\u001B[0m\u001B[1;33m)\u001B[0m\u001B[1;33m.\u001B[0m\u001B[0mjson\u001B[0m\u001B[1;33m(\u001B[0m\u001B[1;33m)\u001B[0m\u001B[1;33m\u001B[0m\u001B[1;33m\u001B[0m\u001B[0m\n\u001B[0m\u001B[0;32m      9\u001B[0m             \u001B[0mnew_results\u001B[0m \u001B[1;33m=\u001B[0m \u001B[0mapi_url\u001B[0m\u001B[1;33m.\u001B[0m\u001B[0mget\u001B[0m\u001B[1;33m(\u001B[0m\u001B[1;34m\"data\"\u001B[0m\u001B[1;33m)\u001B[0m\u001B[1;33m\u001B[0m\u001B[1;33m\u001B[0m\u001B[0m\n\u001B[0;32m     10\u001B[0m             \u001B[0mall_airports\u001B[0m\u001B[1;33m.\u001B[0m\u001B[0mextend\u001B[0m\u001B[1;33m(\u001B[0m\u001B[0mnew_results\u001B[0m\u001B[1;33m)\u001B[0m\u001B[1;33m\u001B[0m\u001B[1;33m\u001B[0m\u001B[0m\n",
      "\u001B[1;32m~\\anaconda3\\lib\\site-packages\\requests\\api.py\u001B[0m in \u001B[0;36mget\u001B[1;34m(url, params, **kwargs)\u001B[0m\n\u001B[0;32m     74\u001B[0m \u001B[1;33m\u001B[0m\u001B[0m\n\u001B[0;32m     75\u001B[0m     \u001B[0mkwargs\u001B[0m\u001B[1;33m.\u001B[0m\u001B[0msetdefault\u001B[0m\u001B[1;33m(\u001B[0m\u001B[1;34m'allow_redirects'\u001B[0m\u001B[1;33m,\u001B[0m \u001B[1;32mTrue\u001B[0m\u001B[1;33m)\u001B[0m\u001B[1;33m\u001B[0m\u001B[1;33m\u001B[0m\u001B[0m\n\u001B[1;32m---> 76\u001B[1;33m     \u001B[1;32mreturn\u001B[0m \u001B[0mrequest\u001B[0m\u001B[1;33m(\u001B[0m\u001B[1;34m'get'\u001B[0m\u001B[1;33m,\u001B[0m \u001B[0murl\u001B[0m\u001B[1;33m,\u001B[0m \u001B[0mparams\u001B[0m\u001B[1;33m=\u001B[0m\u001B[0mparams\u001B[0m\u001B[1;33m,\u001B[0m \u001B[1;33m**\u001B[0m\u001B[0mkwargs\u001B[0m\u001B[1;33m)\u001B[0m\u001B[1;33m\u001B[0m\u001B[1;33m\u001B[0m\u001B[0m\n\u001B[0m\u001B[0;32m     77\u001B[0m \u001B[1;33m\u001B[0m\u001B[0m\n\u001B[0;32m     78\u001B[0m \u001B[1;33m\u001B[0m\u001B[0m\n",
      "\u001B[1;32m~\\anaconda3\\lib\\site-packages\\requests\\api.py\u001B[0m in \u001B[0;36mrequest\u001B[1;34m(method, url, **kwargs)\u001B[0m\n\u001B[0;32m     59\u001B[0m     \u001B[1;31m# cases, and look like a memory leak in others.\u001B[0m\u001B[1;33m\u001B[0m\u001B[1;33m\u001B[0m\u001B[1;33m\u001B[0m\u001B[0m\n\u001B[0;32m     60\u001B[0m     \u001B[1;32mwith\u001B[0m \u001B[0msessions\u001B[0m\u001B[1;33m.\u001B[0m\u001B[0mSession\u001B[0m\u001B[1;33m(\u001B[0m\u001B[1;33m)\u001B[0m \u001B[1;32mas\u001B[0m \u001B[0msession\u001B[0m\u001B[1;33m:\u001B[0m\u001B[1;33m\u001B[0m\u001B[1;33m\u001B[0m\u001B[0m\n\u001B[1;32m---> 61\u001B[1;33m         \u001B[1;32mreturn\u001B[0m \u001B[0msession\u001B[0m\u001B[1;33m.\u001B[0m\u001B[0mrequest\u001B[0m\u001B[1;33m(\u001B[0m\u001B[0mmethod\u001B[0m\u001B[1;33m=\u001B[0m\u001B[0mmethod\u001B[0m\u001B[1;33m,\u001B[0m \u001B[0murl\u001B[0m\u001B[1;33m=\u001B[0m\u001B[0murl\u001B[0m\u001B[1;33m,\u001B[0m \u001B[1;33m**\u001B[0m\u001B[0mkwargs\u001B[0m\u001B[1;33m)\u001B[0m\u001B[1;33m\u001B[0m\u001B[1;33m\u001B[0m\u001B[0m\n\u001B[0m\u001B[0;32m     62\u001B[0m \u001B[1;33m\u001B[0m\u001B[0m\n\u001B[0;32m     63\u001B[0m \u001B[1;33m\u001B[0m\u001B[0m\n",
      "\u001B[1;32m~\\anaconda3\\lib\\site-packages\\requests\\sessions.py\u001B[0m in \u001B[0;36mrequest\u001B[1;34m(self, method, url, params, data, headers, cookies, files, auth, timeout, allow_redirects, proxies, hooks, stream, verify, cert, json)\u001B[0m\n\u001B[0;32m    528\u001B[0m         }\n\u001B[0;32m    529\u001B[0m         \u001B[0msend_kwargs\u001B[0m\u001B[1;33m.\u001B[0m\u001B[0mupdate\u001B[0m\u001B[1;33m(\u001B[0m\u001B[0msettings\u001B[0m\u001B[1;33m)\u001B[0m\u001B[1;33m\u001B[0m\u001B[1;33m\u001B[0m\u001B[0m\n\u001B[1;32m--> 530\u001B[1;33m         \u001B[0mresp\u001B[0m \u001B[1;33m=\u001B[0m \u001B[0mself\u001B[0m\u001B[1;33m.\u001B[0m\u001B[0msend\u001B[0m\u001B[1;33m(\u001B[0m\u001B[0mprep\u001B[0m\u001B[1;33m,\u001B[0m \u001B[1;33m**\u001B[0m\u001B[0msend_kwargs\u001B[0m\u001B[1;33m)\u001B[0m\u001B[1;33m\u001B[0m\u001B[1;33m\u001B[0m\u001B[0m\n\u001B[0m\u001B[0;32m    531\u001B[0m \u001B[1;33m\u001B[0m\u001B[0m\n\u001B[0;32m    532\u001B[0m         \u001B[1;32mreturn\u001B[0m \u001B[0mresp\u001B[0m\u001B[1;33m\u001B[0m\u001B[1;33m\u001B[0m\u001B[0m\n",
      "\u001B[1;32m~\\anaconda3\\lib\\site-packages\\requests\\sessions.py\u001B[0m in \u001B[0;36msend\u001B[1;34m(self, request, **kwargs)\u001B[0m\n\u001B[0;32m    663\u001B[0m             \u001B[1;31m# Redirect resolving generator.\u001B[0m\u001B[1;33m\u001B[0m\u001B[1;33m\u001B[0m\u001B[1;33m\u001B[0m\u001B[0m\n\u001B[0;32m    664\u001B[0m             \u001B[0mgen\u001B[0m \u001B[1;33m=\u001B[0m \u001B[0mself\u001B[0m\u001B[1;33m.\u001B[0m\u001B[0mresolve_redirects\u001B[0m\u001B[1;33m(\u001B[0m\u001B[0mr\u001B[0m\u001B[1;33m,\u001B[0m \u001B[0mrequest\u001B[0m\u001B[1;33m,\u001B[0m \u001B[1;33m**\u001B[0m\u001B[0mkwargs\u001B[0m\u001B[1;33m)\u001B[0m\u001B[1;33m\u001B[0m\u001B[1;33m\u001B[0m\u001B[0m\n\u001B[1;32m--> 665\u001B[1;33m             \u001B[0mhistory\u001B[0m \u001B[1;33m=\u001B[0m \u001B[1;33m[\u001B[0m\u001B[0mresp\u001B[0m \u001B[1;32mfor\u001B[0m \u001B[0mresp\u001B[0m \u001B[1;32min\u001B[0m \u001B[0mgen\u001B[0m\u001B[1;33m]\u001B[0m\u001B[1;33m\u001B[0m\u001B[1;33m\u001B[0m\u001B[0m\n\u001B[0m\u001B[0;32m    666\u001B[0m         \u001B[1;32melse\u001B[0m\u001B[1;33m:\u001B[0m\u001B[1;33m\u001B[0m\u001B[1;33m\u001B[0m\u001B[0m\n\u001B[0;32m    667\u001B[0m             \u001B[0mhistory\u001B[0m \u001B[1;33m=\u001B[0m \u001B[1;33m[\u001B[0m\u001B[1;33m]\u001B[0m\u001B[1;33m\u001B[0m\u001B[1;33m\u001B[0m\u001B[0m\n",
      "\u001B[1;32m~\\anaconda3\\lib\\site-packages\\requests\\sessions.py\u001B[0m in \u001B[0;36m<listcomp>\u001B[1;34m(.0)\u001B[0m\n\u001B[0;32m    663\u001B[0m             \u001B[1;31m# Redirect resolving generator.\u001B[0m\u001B[1;33m\u001B[0m\u001B[1;33m\u001B[0m\u001B[1;33m\u001B[0m\u001B[0m\n\u001B[0;32m    664\u001B[0m             \u001B[0mgen\u001B[0m \u001B[1;33m=\u001B[0m \u001B[0mself\u001B[0m\u001B[1;33m.\u001B[0m\u001B[0mresolve_redirects\u001B[0m\u001B[1;33m(\u001B[0m\u001B[0mr\u001B[0m\u001B[1;33m,\u001B[0m \u001B[0mrequest\u001B[0m\u001B[1;33m,\u001B[0m \u001B[1;33m**\u001B[0m\u001B[0mkwargs\u001B[0m\u001B[1;33m)\u001B[0m\u001B[1;33m\u001B[0m\u001B[1;33m\u001B[0m\u001B[0m\n\u001B[1;32m--> 665\u001B[1;33m             \u001B[0mhistory\u001B[0m \u001B[1;33m=\u001B[0m \u001B[1;33m[\u001B[0m\u001B[0mresp\u001B[0m \u001B[1;32mfor\u001B[0m \u001B[0mresp\u001B[0m \u001B[1;32min\u001B[0m \u001B[0mgen\u001B[0m\u001B[1;33m]\u001B[0m\u001B[1;33m\u001B[0m\u001B[1;33m\u001B[0m\u001B[0m\n\u001B[0m\u001B[0;32m    666\u001B[0m         \u001B[1;32melse\u001B[0m\u001B[1;33m:\u001B[0m\u001B[1;33m\u001B[0m\u001B[1;33m\u001B[0m\u001B[0m\n\u001B[0;32m    667\u001B[0m             \u001B[0mhistory\u001B[0m \u001B[1;33m=\u001B[0m \u001B[1;33m[\u001B[0m\u001B[1;33m]\u001B[0m\u001B[1;33m\u001B[0m\u001B[1;33m\u001B[0m\u001B[0m\n",
      "\u001B[1;32m~\\anaconda3\\lib\\site-packages\\requests\\sessions.py\u001B[0m in \u001B[0;36mresolve_redirects\u001B[1;34m(self, resp, req, stream, timeout, verify, cert, proxies, yield_requests, **adapter_kwargs)\u001B[0m\n\u001B[0;32m    235\u001B[0m             \u001B[1;32melse\u001B[0m\u001B[1;33m:\u001B[0m\u001B[1;33m\u001B[0m\u001B[1;33m\u001B[0m\u001B[0m\n\u001B[0;32m    236\u001B[0m \u001B[1;33m\u001B[0m\u001B[0m\n\u001B[1;32m--> 237\u001B[1;33m                 resp = self.send(\n\u001B[0m\u001B[0;32m    238\u001B[0m                     \u001B[0mreq\u001B[0m\u001B[1;33m,\u001B[0m\u001B[1;33m\u001B[0m\u001B[1;33m\u001B[0m\u001B[0m\n\u001B[0;32m    239\u001B[0m                     \u001B[0mstream\u001B[0m\u001B[1;33m=\u001B[0m\u001B[0mstream\u001B[0m\u001B[1;33m,\u001B[0m\u001B[1;33m\u001B[0m\u001B[1;33m\u001B[0m\u001B[0m\n",
      "\u001B[1;32m~\\anaconda3\\lib\\site-packages\\requests\\sessions.py\u001B[0m in \u001B[0;36msend\u001B[1;34m(self, request, **kwargs)\u001B[0m\n\u001B[0;32m    641\u001B[0m \u001B[1;33m\u001B[0m\u001B[0m\n\u001B[0;32m    642\u001B[0m         \u001B[1;31m# Send the request\u001B[0m\u001B[1;33m\u001B[0m\u001B[1;33m\u001B[0m\u001B[1;33m\u001B[0m\u001B[0m\n\u001B[1;32m--> 643\u001B[1;33m         \u001B[0mr\u001B[0m \u001B[1;33m=\u001B[0m \u001B[0madapter\u001B[0m\u001B[1;33m.\u001B[0m\u001B[0msend\u001B[0m\u001B[1;33m(\u001B[0m\u001B[0mrequest\u001B[0m\u001B[1;33m,\u001B[0m \u001B[1;33m**\u001B[0m\u001B[0mkwargs\u001B[0m\u001B[1;33m)\u001B[0m\u001B[1;33m\u001B[0m\u001B[1;33m\u001B[0m\u001B[0m\n\u001B[0m\u001B[0;32m    644\u001B[0m \u001B[1;33m\u001B[0m\u001B[0m\n\u001B[0;32m    645\u001B[0m         \u001B[1;31m# Total elapsed time of the request (approximately)\u001B[0m\u001B[1;33m\u001B[0m\u001B[1;33m\u001B[0m\u001B[1;33m\u001B[0m\u001B[0m\n",
      "\u001B[1;32m~\\anaconda3\\lib\\site-packages\\requests\\adapters.py\u001B[0m in \u001B[0;36msend\u001B[1;34m(self, request, stream, timeout, verify, cert, proxies)\u001B[0m\n\u001B[0;32m    437\u001B[0m         \u001B[1;32mtry\u001B[0m\u001B[1;33m:\u001B[0m\u001B[1;33m\u001B[0m\u001B[1;33m\u001B[0m\u001B[0m\n\u001B[0;32m    438\u001B[0m             \u001B[1;32mif\u001B[0m \u001B[1;32mnot\u001B[0m \u001B[0mchunked\u001B[0m\u001B[1;33m:\u001B[0m\u001B[1;33m\u001B[0m\u001B[1;33m\u001B[0m\u001B[0m\n\u001B[1;32m--> 439\u001B[1;33m                 resp = conn.urlopen(\n\u001B[0m\u001B[0;32m    440\u001B[0m                     \u001B[0mmethod\u001B[0m\u001B[1;33m=\u001B[0m\u001B[0mrequest\u001B[0m\u001B[1;33m.\u001B[0m\u001B[0mmethod\u001B[0m\u001B[1;33m,\u001B[0m\u001B[1;33m\u001B[0m\u001B[1;33m\u001B[0m\u001B[0m\n\u001B[0;32m    441\u001B[0m                     \u001B[0murl\u001B[0m\u001B[1;33m=\u001B[0m\u001B[0murl\u001B[0m\u001B[1;33m,\u001B[0m\u001B[1;33m\u001B[0m\u001B[1;33m\u001B[0m\u001B[0m\n",
      "\u001B[1;32m~\\anaconda3\\lib\\site-packages\\urllib3\\connectionpool.py\u001B[0m in \u001B[0;36murlopen\u001B[1;34m(self, method, url, body, headers, retries, redirect, assert_same_host, timeout, pool_timeout, release_conn, chunked, body_pos, **response_kw)\u001B[0m\n\u001B[0;32m    668\u001B[0m \u001B[1;33m\u001B[0m\u001B[0m\n\u001B[0;32m    669\u001B[0m             \u001B[1;31m# Make the request on the httplib connection object.\u001B[0m\u001B[1;33m\u001B[0m\u001B[1;33m\u001B[0m\u001B[1;33m\u001B[0m\u001B[0m\n\u001B[1;32m--> 670\u001B[1;33m             httplib_response = self._make_request(\n\u001B[0m\u001B[0;32m    671\u001B[0m                 \u001B[0mconn\u001B[0m\u001B[1;33m,\u001B[0m\u001B[1;33m\u001B[0m\u001B[1;33m\u001B[0m\u001B[0m\n\u001B[0;32m    672\u001B[0m                 \u001B[0mmethod\u001B[0m\u001B[1;33m,\u001B[0m\u001B[1;33m\u001B[0m\u001B[1;33m\u001B[0m\u001B[0m\n",
      "\u001B[1;32m~\\anaconda3\\lib\\site-packages\\urllib3\\connectionpool.py\u001B[0m in \u001B[0;36m_make_request\u001B[1;34m(self, conn, method, url, timeout, chunked, **httplib_request_kw)\u001B[0m\n\u001B[0;32m    424\u001B[0m                     \u001B[1;31m# Python 3 (including for exceptions like SystemExit).\u001B[0m\u001B[1;33m\u001B[0m\u001B[1;33m\u001B[0m\u001B[1;33m\u001B[0m\u001B[0m\n\u001B[0;32m    425\u001B[0m                     \u001B[1;31m# Otherwise it looks like a bug in the code.\u001B[0m\u001B[1;33m\u001B[0m\u001B[1;33m\u001B[0m\u001B[1;33m\u001B[0m\u001B[0m\n\u001B[1;32m--> 426\u001B[1;33m                     \u001B[0msix\u001B[0m\u001B[1;33m.\u001B[0m\u001B[0mraise_from\u001B[0m\u001B[1;33m(\u001B[0m\u001B[0me\u001B[0m\u001B[1;33m,\u001B[0m \u001B[1;32mNone\u001B[0m\u001B[1;33m)\u001B[0m\u001B[1;33m\u001B[0m\u001B[1;33m\u001B[0m\u001B[0m\n\u001B[0m\u001B[0;32m    427\u001B[0m         \u001B[1;32mexcept\u001B[0m \u001B[1;33m(\u001B[0m\u001B[0mSocketTimeout\u001B[0m\u001B[1;33m,\u001B[0m \u001B[0mBaseSSLError\u001B[0m\u001B[1;33m,\u001B[0m \u001B[0mSocketError\u001B[0m\u001B[1;33m)\u001B[0m \u001B[1;32mas\u001B[0m \u001B[0me\u001B[0m\u001B[1;33m:\u001B[0m\u001B[1;33m\u001B[0m\u001B[1;33m\u001B[0m\u001B[0m\n\u001B[0;32m    428\u001B[0m             \u001B[0mself\u001B[0m\u001B[1;33m.\u001B[0m\u001B[0m_raise_timeout\u001B[0m\u001B[1;33m(\u001B[0m\u001B[0merr\u001B[0m\u001B[1;33m=\u001B[0m\u001B[0me\u001B[0m\u001B[1;33m,\u001B[0m \u001B[0murl\u001B[0m\u001B[1;33m=\u001B[0m\u001B[0murl\u001B[0m\u001B[1;33m,\u001B[0m \u001B[0mtimeout_value\u001B[0m\u001B[1;33m=\u001B[0m\u001B[0mread_timeout\u001B[0m\u001B[1;33m)\u001B[0m\u001B[1;33m\u001B[0m\u001B[1;33m\u001B[0m\u001B[0m\n",
      "\u001B[1;32m~\\anaconda3\\lib\\site-packages\\urllib3\\packages\\six.py\u001B[0m in \u001B[0;36mraise_from\u001B[1;34m(value, from_value)\u001B[0m\n",
      "\u001B[1;32m~\\anaconda3\\lib\\site-packages\\urllib3\\connectionpool.py\u001B[0m in \u001B[0;36m_make_request\u001B[1;34m(self, conn, method, url, timeout, chunked, **httplib_request_kw)\u001B[0m\n\u001B[0;32m    419\u001B[0m                 \u001B[1;31m# Python 3\u001B[0m\u001B[1;33m\u001B[0m\u001B[1;33m\u001B[0m\u001B[1;33m\u001B[0m\u001B[0m\n\u001B[0;32m    420\u001B[0m                 \u001B[1;32mtry\u001B[0m\u001B[1;33m:\u001B[0m\u001B[1;33m\u001B[0m\u001B[1;33m\u001B[0m\u001B[0m\n\u001B[1;32m--> 421\u001B[1;33m                     \u001B[0mhttplib_response\u001B[0m \u001B[1;33m=\u001B[0m \u001B[0mconn\u001B[0m\u001B[1;33m.\u001B[0m\u001B[0mgetresponse\u001B[0m\u001B[1;33m(\u001B[0m\u001B[1;33m)\u001B[0m\u001B[1;33m\u001B[0m\u001B[1;33m\u001B[0m\u001B[0m\n\u001B[0m\u001B[0;32m    422\u001B[0m                 \u001B[1;32mexcept\u001B[0m \u001B[0mBaseException\u001B[0m \u001B[1;32mas\u001B[0m \u001B[0me\u001B[0m\u001B[1;33m:\u001B[0m\u001B[1;33m\u001B[0m\u001B[1;33m\u001B[0m\u001B[0m\n\u001B[0;32m    423\u001B[0m                     \u001B[1;31m# Remove the TypeError from the exception chain in\u001B[0m\u001B[1;33m\u001B[0m\u001B[1;33m\u001B[0m\u001B[1;33m\u001B[0m\u001B[0m\n",
      "\u001B[1;32m~\\anaconda3\\lib\\http\\client.py\u001B[0m in \u001B[0;36mgetresponse\u001B[1;34m(self)\u001B[0m\n\u001B[0;32m   1330\u001B[0m         \u001B[1;32mtry\u001B[0m\u001B[1;33m:\u001B[0m\u001B[1;33m\u001B[0m\u001B[1;33m\u001B[0m\u001B[0m\n\u001B[0;32m   1331\u001B[0m             \u001B[1;32mtry\u001B[0m\u001B[1;33m:\u001B[0m\u001B[1;33m\u001B[0m\u001B[1;33m\u001B[0m\u001B[0m\n\u001B[1;32m-> 1332\u001B[1;33m                 \u001B[0mresponse\u001B[0m\u001B[1;33m.\u001B[0m\u001B[0mbegin\u001B[0m\u001B[1;33m(\u001B[0m\u001B[1;33m)\u001B[0m\u001B[1;33m\u001B[0m\u001B[1;33m\u001B[0m\u001B[0m\n\u001B[0m\u001B[0;32m   1333\u001B[0m             \u001B[1;32mexcept\u001B[0m \u001B[0mConnectionError\u001B[0m\u001B[1;33m:\u001B[0m\u001B[1;33m\u001B[0m\u001B[1;33m\u001B[0m\u001B[0m\n\u001B[0;32m   1334\u001B[0m                 \u001B[0mself\u001B[0m\u001B[1;33m.\u001B[0m\u001B[0mclose\u001B[0m\u001B[1;33m(\u001B[0m\u001B[1;33m)\u001B[0m\u001B[1;33m\u001B[0m\u001B[1;33m\u001B[0m\u001B[0m\n",
      "\u001B[1;32m~\\anaconda3\\lib\\http\\client.py\u001B[0m in \u001B[0;36mbegin\u001B[1;34m(self)\u001B[0m\n\u001B[0;32m    301\u001B[0m         \u001B[1;31m# read until we get a non-100 response\u001B[0m\u001B[1;33m\u001B[0m\u001B[1;33m\u001B[0m\u001B[1;33m\u001B[0m\u001B[0m\n\u001B[0;32m    302\u001B[0m         \u001B[1;32mwhile\u001B[0m \u001B[1;32mTrue\u001B[0m\u001B[1;33m:\u001B[0m\u001B[1;33m\u001B[0m\u001B[1;33m\u001B[0m\u001B[0m\n\u001B[1;32m--> 303\u001B[1;33m             \u001B[0mversion\u001B[0m\u001B[1;33m,\u001B[0m \u001B[0mstatus\u001B[0m\u001B[1;33m,\u001B[0m \u001B[0mreason\u001B[0m \u001B[1;33m=\u001B[0m \u001B[0mself\u001B[0m\u001B[1;33m.\u001B[0m\u001B[0m_read_status\u001B[0m\u001B[1;33m(\u001B[0m\u001B[1;33m)\u001B[0m\u001B[1;33m\u001B[0m\u001B[1;33m\u001B[0m\u001B[0m\n\u001B[0m\u001B[0;32m    304\u001B[0m             \u001B[1;32mif\u001B[0m \u001B[0mstatus\u001B[0m \u001B[1;33m!=\u001B[0m \u001B[0mCONTINUE\u001B[0m\u001B[1;33m:\u001B[0m\u001B[1;33m\u001B[0m\u001B[1;33m\u001B[0m\u001B[0m\n\u001B[0;32m    305\u001B[0m                 \u001B[1;32mbreak\u001B[0m\u001B[1;33m\u001B[0m\u001B[1;33m\u001B[0m\u001B[0m\n",
      "\u001B[1;32m~\\anaconda3\\lib\\http\\client.py\u001B[0m in \u001B[0;36m_read_status\u001B[1;34m(self)\u001B[0m\n\u001B[0;32m    262\u001B[0m \u001B[1;33m\u001B[0m\u001B[0m\n\u001B[0;32m    263\u001B[0m     \u001B[1;32mdef\u001B[0m \u001B[0m_read_status\u001B[0m\u001B[1;33m(\u001B[0m\u001B[0mself\u001B[0m\u001B[1;33m)\u001B[0m\u001B[1;33m:\u001B[0m\u001B[1;33m\u001B[0m\u001B[1;33m\u001B[0m\u001B[0m\n\u001B[1;32m--> 264\u001B[1;33m         \u001B[0mline\u001B[0m \u001B[1;33m=\u001B[0m \u001B[0mstr\u001B[0m\u001B[1;33m(\u001B[0m\u001B[0mself\u001B[0m\u001B[1;33m.\u001B[0m\u001B[0mfp\u001B[0m\u001B[1;33m.\u001B[0m\u001B[0mreadline\u001B[0m\u001B[1;33m(\u001B[0m\u001B[0m_MAXLINE\u001B[0m \u001B[1;33m+\u001B[0m \u001B[1;36m1\u001B[0m\u001B[1;33m)\u001B[0m\u001B[1;33m,\u001B[0m \u001B[1;34m\"iso-8859-1\"\u001B[0m\u001B[1;33m)\u001B[0m\u001B[1;33m\u001B[0m\u001B[1;33m\u001B[0m\u001B[0m\n\u001B[0m\u001B[0;32m    265\u001B[0m         \u001B[1;32mif\u001B[0m \u001B[0mlen\u001B[0m\u001B[1;33m(\u001B[0m\u001B[0mline\u001B[0m\u001B[1;33m)\u001B[0m \u001B[1;33m>\u001B[0m \u001B[0m_MAXLINE\u001B[0m\u001B[1;33m:\u001B[0m\u001B[1;33m\u001B[0m\u001B[1;33m\u001B[0m\u001B[0m\n\u001B[0;32m    266\u001B[0m             \u001B[1;32mraise\u001B[0m \u001B[0mLineTooLong\u001B[0m\u001B[1;33m(\u001B[0m\u001B[1;34m\"status line\"\u001B[0m\u001B[1;33m)\u001B[0m\u001B[1;33m\u001B[0m\u001B[1;33m\u001B[0m\u001B[0m\n",
      "\u001B[1;32m~\\anaconda3\\lib\\socket.py\u001B[0m in \u001B[0;36mreadinto\u001B[1;34m(self, b)\u001B[0m\n\u001B[0;32m    667\u001B[0m         \u001B[1;32mwhile\u001B[0m \u001B[1;32mTrue\u001B[0m\u001B[1;33m:\u001B[0m\u001B[1;33m\u001B[0m\u001B[1;33m\u001B[0m\u001B[0m\n\u001B[0;32m    668\u001B[0m             \u001B[1;32mtry\u001B[0m\u001B[1;33m:\u001B[0m\u001B[1;33m\u001B[0m\u001B[1;33m\u001B[0m\u001B[0m\n\u001B[1;32m--> 669\u001B[1;33m                 \u001B[1;32mreturn\u001B[0m \u001B[0mself\u001B[0m\u001B[1;33m.\u001B[0m\u001B[0m_sock\u001B[0m\u001B[1;33m.\u001B[0m\u001B[0mrecv_into\u001B[0m\u001B[1;33m(\u001B[0m\u001B[0mb\u001B[0m\u001B[1;33m)\u001B[0m\u001B[1;33m\u001B[0m\u001B[1;33m\u001B[0m\u001B[0m\n\u001B[0m\u001B[0;32m    670\u001B[0m             \u001B[1;32mexcept\u001B[0m \u001B[0mtimeout\u001B[0m\u001B[1;33m:\u001B[0m\u001B[1;33m\u001B[0m\u001B[1;33m\u001B[0m\u001B[0m\n\u001B[0;32m    671\u001B[0m                 \u001B[0mself\u001B[0m\u001B[1;33m.\u001B[0m\u001B[0m_timeout_occurred\u001B[0m \u001B[1;33m=\u001B[0m \u001B[1;32mTrue\u001B[0m\u001B[1;33m\u001B[0m\u001B[1;33m\u001B[0m\u001B[0m\n",
      "\u001B[1;32m~\\anaconda3\\lib\\ssl.py\u001B[0m in \u001B[0;36mrecv_into\u001B[1;34m(self, buffer, nbytes, flags)\u001B[0m\n\u001B[0;32m   1239\u001B[0m                   \u001B[1;34m\"non-zero flags not allowed in calls to recv_into() on %s\"\u001B[0m \u001B[1;33m%\u001B[0m\u001B[1;33m\u001B[0m\u001B[1;33m\u001B[0m\u001B[0m\n\u001B[0;32m   1240\u001B[0m                   self.__class__)\n\u001B[1;32m-> 1241\u001B[1;33m             \u001B[1;32mreturn\u001B[0m \u001B[0mself\u001B[0m\u001B[1;33m.\u001B[0m\u001B[0mread\u001B[0m\u001B[1;33m(\u001B[0m\u001B[0mnbytes\u001B[0m\u001B[1;33m,\u001B[0m \u001B[0mbuffer\u001B[0m\u001B[1;33m)\u001B[0m\u001B[1;33m\u001B[0m\u001B[1;33m\u001B[0m\u001B[0m\n\u001B[0m\u001B[0;32m   1242\u001B[0m         \u001B[1;32melse\u001B[0m\u001B[1;33m:\u001B[0m\u001B[1;33m\u001B[0m\u001B[1;33m\u001B[0m\u001B[0m\n\u001B[0;32m   1243\u001B[0m             \u001B[1;32mreturn\u001B[0m \u001B[0msuper\u001B[0m\u001B[1;33m(\u001B[0m\u001B[1;33m)\u001B[0m\u001B[1;33m.\u001B[0m\u001B[0mrecv_into\u001B[0m\u001B[1;33m(\u001B[0m\u001B[0mbuffer\u001B[0m\u001B[1;33m,\u001B[0m \u001B[0mnbytes\u001B[0m\u001B[1;33m,\u001B[0m \u001B[0mflags\u001B[0m\u001B[1;33m)\u001B[0m\u001B[1;33m\u001B[0m\u001B[1;33m\u001B[0m\u001B[0m\n",
      "\u001B[1;32m~\\anaconda3\\lib\\ssl.py\u001B[0m in \u001B[0;36mread\u001B[1;34m(self, len, buffer)\u001B[0m\n\u001B[0;32m   1097\u001B[0m         \u001B[1;32mtry\u001B[0m\u001B[1;33m:\u001B[0m\u001B[1;33m\u001B[0m\u001B[1;33m\u001B[0m\u001B[0m\n\u001B[0;32m   1098\u001B[0m             \u001B[1;32mif\u001B[0m \u001B[0mbuffer\u001B[0m \u001B[1;32mis\u001B[0m \u001B[1;32mnot\u001B[0m \u001B[1;32mNone\u001B[0m\u001B[1;33m:\u001B[0m\u001B[1;33m\u001B[0m\u001B[1;33m\u001B[0m\u001B[0m\n\u001B[1;32m-> 1099\u001B[1;33m                 \u001B[1;32mreturn\u001B[0m \u001B[0mself\u001B[0m\u001B[1;33m.\u001B[0m\u001B[0m_sslobj\u001B[0m\u001B[1;33m.\u001B[0m\u001B[0mread\u001B[0m\u001B[1;33m(\u001B[0m\u001B[0mlen\u001B[0m\u001B[1;33m,\u001B[0m \u001B[0mbuffer\u001B[0m\u001B[1;33m)\u001B[0m\u001B[1;33m\u001B[0m\u001B[1;33m\u001B[0m\u001B[0m\n\u001B[0m\u001B[0;32m   1100\u001B[0m             \u001B[1;32melse\u001B[0m\u001B[1;33m:\u001B[0m\u001B[1;33m\u001B[0m\u001B[1;33m\u001B[0m\u001B[0m\n\u001B[0;32m   1101\u001B[0m                 \u001B[1;32mreturn\u001B[0m \u001B[0mself\u001B[0m\u001B[1;33m.\u001B[0m\u001B[0m_sslobj\u001B[0m\u001B[1;33m.\u001B[0m\u001B[0mread\u001B[0m\u001B[1;33m(\u001B[0m\u001B[0mlen\u001B[0m\u001B[1;33m)\u001B[0m\u001B[1;33m\u001B[0m\u001B[1;33m\u001B[0m\u001B[0m\n",
      "\u001B[1;31mKeyboardInterrupt\u001B[0m: "
     ]
    }
   ],
   "source": [
    "url = 'http://www.alarstudios.com/test/data.cgi?code=3929677389'\n",
    "all_airports = []\n",
    "new_results = True\n",
    "page = 1\n",
    "try:\n",
    "    while new_results:\n",
    "        api_url = requests.get(url + f\"&p={page}\").json()\n",
    "        new_results = api_url.get(\"data\")\n",
    "        all_airports.extend(new_results)\n",
    "        page += 1\n",
    "        if new_results == []:\n",
    "            print('empty')\n",
    "except Exception as e:\n",
    "     print('JSONDecodeError', page)\n",
    "     pass\n",
    "print(page)"
   ],
   "metadata": {
    "collapsed": false,
    "pycharm": {
     "name": "#%%\n"
    }
   }
  },
  {
   "cell_type": "code",
   "execution_count": null,
   "outputs": [],
   "source": [],
   "metadata": {
    "collapsed": false,
    "pycharm": {
     "name": "#%%\n"
    }
   }
  },
  {
   "cell_type": "code",
   "execution_count": null,
   "outputs": [],
   "source": [],
   "metadata": {
    "collapsed": false,
    "pycharm": {
     "name": "#%%\n"
    }
   }
  },
  {
   "cell_type": "code",
   "execution_count": 76,
   "outputs": [
    {
     "name": "stdout",
     "output_type": "stream",
     "text": [
      "JSONDecodeError 19\n",
      "JSONDecodeError 24\n",
      "JSONDecodeError 29\n",
      "JSONDecodeError 32\n",
      "JSONDecodeError 43\n",
      "JSONDecodeError 48\n",
      "JSONDecodeError 59\n",
      "JSONDecodeError 66\n",
      "JSONDecodeError 69\n",
      "JSONDecodeError 88\n",
      "JSONDecodeError 97\n",
      "JSONDecodeError 98\n",
      "JSONDecodeError 99\n",
      "JSONDecodeError 100\n",
      "JSONDecodeError 101\n",
      "JSONDecodeError 102\n",
      "JSONDecodeError 103\n",
      "JSONDecodeError 104\n",
      "JSONDecodeError 105\n",
      "JSONDecodeError 106\n",
      "JSONDecodeError 107\n",
      "JSONDecodeError 108\n",
      "JSONDecodeError 109\n",
      "JSONDecodeError 110\n",
      "JSONDecodeError 111\n",
      "JSONDecodeError 112\n",
      "JSONDecodeError 113\n",
      "JSONDecodeError 114\n",
      "JSONDecodeError 115\n",
      "JSONDecodeError 116\n",
      "JSONDecodeError 117\n",
      "JSONDecodeError 118\n",
      "JSONDecodeError 119\n",
      "JSONDecodeError 120\n",
      "JSONDecodeError 127\n",
      "JSONDecodeError 128\n",
      "JSONDecodeError 131\n",
      "JSONDecodeError 132\n",
      "JSONDecodeError 133\n",
      "JSONDecodeError 140\n",
      "JSONDecodeError 141\n",
      "JSONDecodeError 142\n",
      "JSONDecodeError 143\n",
      "JSONDecodeError 148\n",
      "JSONDecodeError 149\n",
      "JSONDecodeError 150\n",
      "JSONDecodeError 151\n",
      "JSONDecodeError 152\n",
      "JSONDecodeError 153\n",
      "JSONDecodeError 154\n",
      "JSONDecodeError 155\n",
      "JSONDecodeError 156\n",
      "JSONDecodeError 157\n",
      "JSONDecodeError 158\n",
      "JSONDecodeError 159\n",
      "JSONDecodeError 162\n",
      "JSONDecodeError 237\n",
      "JSONDecodeError 312\n",
      "JSONDecodeError 313\n",
      "JSONDecodeError 316\n",
      "JSONDecodeError 355\n",
      "JSONDecodeError 358\n",
      "JSONDecodeError 361\n",
      "JSONDecodeError 368\n",
      "JSONDecodeError 371\n",
      "empty\n",
      "376\n"
     ]
    }
   ],
   "source": [
    "url = 'http://www.alarstudios.com/test/data.cgi?code=3929677389'\n",
    "all_airports = []\n",
    "new_results = True\n",
    "page = 1\n",
    "while new_results:\n",
    "    try:\n",
    "        api_url = requests.get(url + f\"&p={page}\").json()\n",
    "        new_results = api_url.get(\"data\")\n",
    "        all_airports.extend(new_results)\n",
    "        page += 1\n",
    "        if new_results == []:\n",
    "            print('empty')\n",
    "    except Exception as e:\n",
    "        print('JSONDecodeError', page)\n",
    "        pass\n",
    "    page += 1\n",
    "    continue\n",
    "print(page)"
   ],
   "metadata": {
    "collapsed": false,
    "pycharm": {
     "name": "#%%\n"
    }
   }
  },
  {
   "cell_type": "code",
   "execution_count": 77,
   "outputs": [
    {
     "data": {
      "text/plain": "1537"
     },
     "execution_count": 77,
     "metadata": {},
     "output_type": "execute_result"
    }
   ],
   "source": [
    "len(all_airports)"
   ],
   "metadata": {
    "collapsed": false,
    "pycharm": {
     "name": "#%%\n"
    }
   }
  },
  {
   "cell_type": "code",
   "execution_count": 78,
   "outputs": [
    {
     "ename": "TypeError",
     "evalue": "unhashable type: 'dict'",
     "output_type": "error",
     "traceback": [
      "\u001B[1;31m---------------------------------------------------------------------------\u001B[0m",
      "\u001B[1;31mTypeError\u001B[0m                                 Traceback (most recent call last)",
      "\u001B[1;32m<ipython-input-78-7befe49a30bd>\u001B[0m in \u001B[0;36m<module>\u001B[1;34m\u001B[0m\n\u001B[1;32m----> 1\u001B[1;33m \u001B[0mlen\u001B[0m\u001B[1;33m(\u001B[0m\u001B[0mset\u001B[0m\u001B[1;33m(\u001B[0m\u001B[0mall_airports\u001B[0m\u001B[1;33m)\u001B[0m\u001B[1;33m)\u001B[0m\u001B[1;33m\u001B[0m\u001B[1;33m\u001B[0m\u001B[0m\n\u001B[0m",
      "\u001B[1;31mTypeError\u001B[0m: unhashable type: 'dict'"
     ]
    }
   ],
   "source": [
    "len(set(all_airports))"
   ],
   "metadata": {
    "collapsed": false,
    "pycharm": {
     "name": "#%%\n"
    }
   }
  },
  {
   "cell_type": "code",
   "execution_count": 79,
   "outputs": [
    {
     "data": {
      "text/plain": "list"
     },
     "execution_count": 79,
     "metadata": {},
     "output_type": "execute_result"
    }
   ],
   "source": [
    "type(all_airports)"
   ],
   "metadata": {
    "collapsed": false,
    "pycharm": {
     "name": "#%%\n"
    }
   }
  },
  {
   "cell_type": "code",
   "execution_count": null,
   "outputs": [],
   "source": [],
   "metadata": {
    "collapsed": false,
    "pycharm": {
     "name": "#%%\n"
    }
   }
  },
  {
   "cell_type": "code",
   "execution_count": null,
   "outputs": [],
   "source": [],
   "metadata": {
    "collapsed": false,
    "pycharm": {
     "name": "#%%\n"
    }
   }
  },
  {
   "cell_type": "code",
   "execution_count": null,
   "outputs": [],
   "source": [],
   "metadata": {
    "collapsed": false,
    "pycharm": {
     "name": "#%%\n"
    }
   }
  },
  {
   "cell_type": "code",
   "execution_count": null,
   "outputs": [],
   "source": [],
   "metadata": {
    "collapsed": false,
    "pycharm": {
     "name": "#%%\n"
    }
   }
  },
  {
   "cell_type": "code",
   "execution_count": null,
   "outputs": [],
   "source": [],
   "metadata": {
    "collapsed": false,
    "pycharm": {
     "name": "#%%\n"
    }
   }
  },
  {
   "cell_type": "code",
   "execution_count": null,
   "outputs": [],
   "source": [],
   "metadata": {
    "collapsed": false,
    "pycharm": {
     "name": "#%%\n"
    }
   }
  },
  {
   "cell_type": "code",
   "execution_count": null,
   "outputs": [],
   "source": [],
   "metadata": {
    "collapsed": false,
    "pycharm": {
     "name": "#%%\n"
    }
   }
  },
  {
   "cell_type": "code",
   "execution_count": 66,
   "outputs": [
    {
     "data": {
      "text/plain": "90"
     },
     "execution_count": 66,
     "metadata": {},
     "output_type": "execute_result"
    }
   ],
   "source": [
    "len(all_airports)"
   ],
   "metadata": {
    "collapsed": false,
    "pycharm": {
     "name": "#%%\n"
    }
   }
  },
  {
   "cell_type": "code",
   "execution_count": 39,
   "outputs": [
    {
     "data": {
      "text/plain": "90"
     },
     "execution_count": 39,
     "metadata": {},
     "output_type": "execute_result"
    }
   ],
   "source": [
    "len(all_airports)"
   ],
   "metadata": {
    "collapsed": false,
    "pycharm": {
     "name": "#%%\n"
    }
   }
  },
  {
   "cell_type": "code",
   "execution_count": 16,
   "outputs": [
    {
     "data": {
      "text/plain": "[{'id': 'KVQQ',\n  'name': 'CECIL',\n  'country': 'United States of America',\n  'lat': 30.218777777777778,\n  'lon': -81.87716666666665},\n {'id': 'KNQX',\n  'name': 'KEY WEST NAS/BOCA CHICA FIELD',\n  'country': 'United States of America',\n  'lat': 24.57463611111111,\n  'lon': -81.68664444444445},\n {'id': 'KEYW',\n  'name': 'KEY WEST INTL',\n  'country': 'United States of America',\n  'lat': 24.55611111111111,\n  'lon': -81.75955555555555},\n {'id': 'KISM',\n  'name': 'KISSIMMEE GATEWAY',\n  'country': 'United States of America',\n  'lat': 28.289805555555557,\n  'lon': -81.43708333333333},\n {'id': 'KLAL',\n  'name': 'LAKELAND LINDER RGNL',\n  'country': 'United States of America',\n  'lat': 27.988916666666668,\n  'lon': -82.01855555555555},\n {'id': 'KLEE',\n  'name': 'LEESBURG INTL',\n  'country': 'United States of America',\n  'lat': 28.82288888888889,\n  'lon': -81.80841666666666},\n {'id': 'KMCF',\n  'name': 'MACDILL AFB',\n  'country': 'United States of America',\n  'lat': 27.84933333333333,\n  'lon': -82.52116666666666},\n {'id': 'KMTH',\n  'name': 'THE FLORIDA KEYS MARATHON',\n  'country': 'United States of America',\n  'lat': 24.72619444444444,\n  'lon': -81.0513611111111},\n {'id': 'KNRB',\n  'name': 'MAYPORT NS (ADM DAVID L. MCDONALD FIELD)',\n  'country': 'United States of America',\n  'lat': 30.391375,\n  'lon': -81.42451944444444},\n {'id': 'KMLB',\n  'name': 'MELBOURNE INTL',\n  'country': 'United States of America',\n  'lat': 28.10275,\n  'lon': -80.64525},\n {'id': 'KTMB',\n  'name': 'KENDALL-TAMIAMI EXECUTIVE',\n  'country': 'United States of America',\n  'lat': 25.64756111111111,\n  'lon': -80.43322222222223},\n {'id': 'KMIA',\n  'name': 'MIAMI INTL',\n  'country': 'United States of America',\n  'lat': 25.795361111111113,\n  'lon': -80.29011111111112},\n {'id': 'KOPF',\n  'name': 'OPA-LOCKA EXECUTIVE',\n  'country': 'United States of America',\n  'lat': 25.907416666666666,\n  'lon': -80.27822222222223},\n {'id': 'KAPF',\n  'name': 'NAPLES MUNI',\n  'country': 'United States of America',\n  'lat': 26.152438888888888,\n  'lon': -81.77563611111111},\n {'id': 'KOCF',\n  'name': 'OCALA INTL-JIM TAYLOR FIELD',\n  'country': 'United States of America',\n  'lat': 29.171875,\n  'lon': -82.2241138888889},\n {'id': 'KOBE',\n  'name': 'OKEECHOBEE COUNTY',\n  'country': 'United States of America',\n  'lat': 27.266583333333333,\n  'lon': -80.85038888888889},\n {'id': 'KMCO',\n  'name': 'ORLANDO INTL',\n  'country': 'United States of America',\n  'lat': 28.42938888888889,\n  'lon': -81.309},\n {'id': 'KORL',\n  'name': 'EXECUTIVE',\n  'country': 'United States of America',\n  'lat': 28.545472222222223,\n  'lon': -81.33291666666666},\n {'id': 'KECP',\n  'name': 'NORTHWEST FLORIDA BEACHES INTL',\n  'country': 'United States of America',\n  'lat': 30.35825,\n  'lon': -85.79561111111111},\n {'id': 'KCOF',\n  'name': 'PATRICK AFB',\n  'country': 'United States of America',\n  'lat': 28.234922222222224,\n  'lon': -80.610125},\n {'id': 'KPNS',\n  'name': 'PENSACOLA INTL',\n  'country': 'United States of America',\n  'lat': 30.473425,\n  'lon': -87.18661111111112},\n {'id': 'KNPA',\n  'name': 'PENSACOLA NAS/FORREST SHERMAN FIELD',\n  'country': 'United States of America',\n  'lat': 30.352855555555557,\n  'lon': -87.31861944444444},\n {'id': 'KPGD',\n  'name': 'PUNTA GORDA',\n  'country': 'United States of America',\n  'lat': 26.918936111111112,\n  'lon': -81.990925},\n {'id': 'KSFB',\n  'name': 'ORLANDO SANFORD INTL',\n  'country': 'United States of America',\n  'lat': 28.77697222222222,\n  'lon': -81.23491666666666},\n {'id': 'KSRQ',\n  'name': 'SARASOTA/BRADENTON INTL',\n  'country': 'United States of America',\n  'lat': 27.395444444444443,\n  'lon': -82.55438888888888},\n {'id': 'KPIE',\n  'name': 'ST. PETE-CLEARWATER INTL',\n  'country': 'United States of America',\n  'lat': 27.90868611111111,\n  'lon': -82.68649166666667},\n {'id': 'KSPG',\n  'name': 'ALBERT WHITTED',\n  'country': 'United States of America',\n  'lat': 27.76511111111111,\n  'lon': -82.62697222222222},\n {'id': 'KSUA',\n  'name': 'WITHAM FIELD',\n  'country': 'United States of America',\n  'lat': 27.181694444444446,\n  'lon': -80.22130555555556},\n {'id': 'KTLH',\n  'name': 'TALLAHASSEE RGNL',\n  'country': 'United States of America',\n  'lat': 30.39675,\n  'lon': -84.3508611111111},\n {'id': 'KTPA',\n  'name': 'TAMPA INTL',\n  'country': 'United States of America',\n  'lat': 27.97547222222222,\n  'lon': -82.53325},\n {'id': 'KTIX',\n  'name': 'SPACE COAST RGNL',\n  'country': 'United States of America',\n  'lat': 28.5148,\n  'lon': -80.79922777777777},\n {'id': 'KPAM',\n  'name': 'TYNDALL AFB',\n  'country': 'United States of America',\n  'lat': 30.069566666666667,\n  'lon': -85.57541388888889},\n {'id': 'KVRB',\n  'name': 'VERO BEACH MUNI',\n  'country': 'United States of America',\n  'lat': 27.655555555555555,\n  'lon': -80.41794444444444},\n {'id': 'KPBI',\n  'name': 'PALM BEACH INTL',\n  'country': 'United States of America',\n  'lat': 26.68316666666667,\n  'lon': -80.09558333333332},\n {'id': 'KNSE',\n  'name': 'WHITING FIELD NAS NORTH',\n  'country': 'United States of America',\n  'lat': 30.724166666666665,\n  'lon': -87.02194444444444},\n {'id': 'KGIF',\n  'name': \"WINTER HAVEN'S GILBERT\",\n  'country': 'United States of America',\n  'lat': 28.062916666666666,\n  'lon': -81.75330555555556},\n {'id': 'KZPH',\n  'name': 'ZEPHYRHILLS MUNI',\n  'country': 'United States of America',\n  'lat': 28.227988888888888,\n  'lon': -82.15599444444445},\n {'id': 'KABY',\n  'name': 'SOUTHWEST GEORGIA RGNL',\n  'country': 'United States of America',\n  'lat': 31.53552777777778,\n  'lon': -84.19447222222223},\n {'id': 'KAHN',\n  'name': 'ATHENS/BEN EPPS',\n  'country': 'United States of America',\n  'lat': 33.94863888888889,\n  'lon': -83.32591666666666},\n {'id': 'KATL',\n  'name': 'HARTSFIELD - JACKSON  ATLANTA INTL',\n  'country': 'United States of America',\n  'lat': 33.636697222222224,\n  'lon': -84.4278638888889},\n {'id': 'KFTY',\n  'name': 'FULTON COUNTY AIRPORT-BROWN FIELD',\n  'country': 'United States of America',\n  'lat': 33.779125,\n  'lon': -84.52136388888889},\n {'id': 'KPUJ',\n  'name': 'PAULDING NORTHWEST ATLANTA',\n  'country': 'United States of America',\n  'lat': 33.91204166666667,\n  'lon': -84.94061944444445},\n {'id': 'KDNL',\n  'name': 'DANIEL FIELD',\n  'country': 'United States of America',\n  'lat': 33.46658333333334,\n  'lon': -82.0393888888889},\n {'id': 'KAGS',\n  'name': 'AUGUSTA RGNL AT BUSH FIELD',\n  'country': 'United States of America',\n  'lat': 33.36994444444444,\n  'lon': -81.9645},\n {'id': 'KBGE',\n  'name': 'DECATUR COUNTY INDUSTRIAL AIR PARK',\n  'country': 'United States of America',\n  'lat': 30.971597222222222,\n  'lon': -84.63692777777779},\n {'id': 'KSSI',\n  'name': 'MALCOM MC KINNON',\n  'country': 'United States of America',\n  'lat': 31.15197222222222,\n  'lon': -81.39105555555557},\n {'id': 'KBQK',\n  'name': 'BRUNSWICK GOLDEN ISLES',\n  'country': 'United States of America',\n  'lat': 31.259033333333335,\n  'lon': -81.46631388888889},\n {'id': 'KCSG',\n  'name': 'COLUMBUS',\n  'country': 'United States of America',\n  'lat': 32.516333333333336,\n  'lon': -84.93886111111111},\n {'id': 'KDNN',\n  'name': 'DALTON MUNI',\n  'country': 'United States of America',\n  'lat': 34.72293611111111,\n  'lon': -84.87023888888888},\n {'id': 'KMGE',\n  'name': 'DOBBINS AIR RESERVE BASE',\n  'country': 'United States of America',\n  'lat': 33.91444166666667,\n  'lon': -84.51424722222222},\n {'id': 'KDBN',\n  'name': \"W H 'BUD' BARRON\",\n  'country': 'United States of America',\n  'lat': 32.56472222222222,\n  'lon': -82.98497222222223},\n {'id': 'KLSF',\n  'name': 'LAWSON AAF (FORT BENNING)',\n  'country': 'United States of America',\n  'lat': 32.33733333333333,\n  'lon': -84.99133333333333},\n {'id': 'KGVL',\n  'name': 'LEE GILMER MEMORIAL',\n  'country': 'United States of America',\n  'lat': 34.272625,\n  'lon': -83.83022222222222},\n {'id': 'KLGC',\n  'name': 'LAGRANGE-CALLAWAY',\n  'country': 'United States of America',\n  'lat': 33.00886111111111,\n  'lon': -85.0726111111111},\n {'id': 'KLZU',\n  'name': 'GWINNETT COUNTY - BRISCOE FIELD',\n  'country': 'United States of America',\n  'lat': 33.978075000000004,\n  'lon': -83.96237777777777},\n {'id': 'KMCN',\n  'name': 'MIDDLE GEORGIA RGNL',\n  'country': 'United States of America',\n  'lat': 32.69283333333333,\n  'lon': -83.64922222222224},\n {'id': 'KMLJ',\n  'name': 'BALDWIN COUNTY',\n  'country': 'United States of America',\n  'lat': 33.15416666666667,\n  'lon': -83.24069444444444},\n {'id': 'KVAD',\n  'name': 'MOODY AFB',\n  'country': 'United States of America',\n  'lat': 30.9687,\n  'lon': -83.1929638888889},\n {'id': 'KMGR',\n  'name': 'MOULTRIE MUNI',\n  'country': 'United States of America',\n  'lat': 31.084916666666665,\n  'lon': -83.80324999999999},\n {'id': 'KPDK',\n  'name': 'DEKALB-PEACHTREE',\n  'country': 'United States of America',\n  'lat': 33.87561111111111,\n  'lon': -84.30197222222222},\n {'id': 'KRMG',\n  'name': 'RICHARD B. RUSSELL REGIONAL-J.H. TOWERS FIELD',\n  'country': 'United States of America',\n  'lat': 34.35078055555556,\n  'lon': -85.15866666666668},\n {'id': 'KSAV',\n  'name': 'SAVANNAH/HILTON HEAD INTL',\n  'country': 'United States of America',\n  'lat': 32.127583333333334,\n  'lon': -81.2021388888889},\n {'id': 'KSVN',\n  'name': 'HUNTER AAF',\n  'country': 'United States of America',\n  'lat': 32.01,\n  'lon': -81.14566666666667},\n {'id': 'KTBR',\n  'name': 'STATESBORO-BULLOCH COUNTY',\n  'country': 'United States of America',\n  'lat': 32.48275,\n  'lon': -81.73694444444445},\n {'id': 'KTMA',\n  'name': 'HENRY TIFT MYERS',\n  'country': 'United States of America',\n  'lat': 31.428972222222225,\n  'lon': -83.48852777777778},\n {'id': 'KTVI',\n  'name': 'THOMASVILLE RGNL',\n  'country': 'United States of America',\n  'lat': 30.901805555555555,\n  'lon': -83.88113888888888},\n {'id': 'KTOC',\n  'name': 'TOCCOA RG LETOURNEAU FIELD',\n  'country': 'United States of America',\n  'lat': 34.59281111111111,\n  'lon': -83.29636944444444},\n {'id': 'KVLD',\n  'name': 'VALDOSTA RGNL',\n  'country': 'United States of America',\n  'lat': 30.78137222222222,\n  'lon': -83.27621944444445},\n {'id': 'KVDI',\n  'name': 'VIDALIA RGNL',\n  'country': 'United States of America',\n  'lat': 32.192722222222216,\n  'lon': -82.37116666666665},\n {'id': 'KWRB',\n  'name': 'ROBINS AFB',\n  'country': 'United States of America',\n  'lat': 32.64017222222222,\n  'lon': -83.59191944444444},\n {'id': 'KWDR',\n  'name': 'BARROW COUNTY',\n  'country': 'United States of America',\n  'lat': 33.98286111111111,\n  'lon': -83.66741666666667},\n {'id': 'PHBK',\n  'name': 'BARKING SANDS PMRF',\n  'country': 'United States of America',\n  'lat': 22.022772222222223,\n  'lon': -159.78505833333332},\n {'id': 'PHSF',\n  'name': 'BRADSHAW ARMY AIRFIELD',\n  'country': 'United States of America',\n  'lat': 19.76001388888889,\n  'lon': -155.5537666666667},\n {'id': 'PHTO',\n  'name': 'HILO INTL',\n  'country': 'United States of America',\n  'lat': 19.720263888888887,\n  'lon': -155.04846944444444},\n {'id': 'PHNL',\n  'name': 'HONOLULU INTL',\n  'country': 'United States of America',\n  'lat': 21.317825,\n  'lon': -157.9202611111111},\n {'id': 'PHOG',\n  'name': 'KAHULUI',\n  'country': 'United States of America',\n  'lat': 20.89865,\n  'lon': -156.43045833333332},\n {'id': 'PHKO',\n  'name': 'KONA INTL AT KEAHOLE ',\n  'country': 'United States of America',\n  'lat': 19.73876388888889,\n  'lon': -156.04563055555556},\n {'id': 'PHNG',\n  'name': 'KANEOHE BAY MCAS (MARION E. CARL FIELD)',\n  'country': 'United States of America',\n  'lat': 21.450444444444443,\n  'lon': -157.76716666666667},\n {'id': 'PHJR',\n  'name': 'KALAELOA (JOHN RODGERS FIELD)',\n  'country': 'United States of America',\n  'lat': 21.30735277777778,\n  'lon': -158.07030277777778},\n {'id': 'PHJH',\n  'name': 'KAPALUA',\n  'country': 'United States of America',\n  'lat': 20.96293611111111,\n  'lon': -156.67303055555556},\n {'id': 'PHNY',\n  'name': 'LANAI',\n  'country': 'United States of America',\n  'lat': 20.785611111111113,\n  'lon': -156.95141666666666},\n {'id': 'PHLI',\n  'name': 'LIHUE',\n  'country': 'United States of America',\n  'lat': 21.975980555555555,\n  'lon': -159.33895555555557},\n {'id': 'PHMK',\n  'name': 'MOLOKAI',\n  'country': 'United States of America',\n  'lat': 21.152833333333334,\n  'lon': -157.09633333333335},\n {'id': 'PHHI',\n  'name': 'WHEELER AAF',\n  'country': 'United States of America',\n  'lat': 21.4835,\n  'lon': -158.03966666666668},\n {'id': 'PMDY',\n  'name': 'HENDERSON FIELD',\n  'country': 'United States of America',\n  'lat': 28.201483333333332,\n  'lon': -177.38130833333335},\n {'id': 'KAMW',\n  'name': 'AMES MUNI',\n  'country': 'United States of America',\n  'lat': 41.99205555555556,\n  'lon': -93.62183333333333},\n {'id': 'KAIO',\n  'name': 'ATLANTIC MUNI',\n  'country': 'United States of America',\n  'lat': 41.40383333333333,\n  'lon': -95.04875},\n {'id': 'KBNW',\n  'name': 'BOONE MUNI',\n  'country': 'United States of America',\n  'lat': 42.04955555555556,\n  'lon': -93.8476111111111},\n {'id': 'KBRL',\n  'name': 'SOUTHEAST IOWA RGNL',\n  'country': 'United States of America',\n  'lat': 40.78322222222222,\n  'lon': -91.12549999999999},\n {'id': 'KCIN',\n  'name': 'ARTHUR N NEU',\n  'country': 'United States of America',\n  'lat': 42.04666666666667,\n  'lon': -94.78869444444445}]"
     },
     "execution_count": 16,
     "metadata": {},
     "output_type": "execute_result"
    }
   ],
   "source": [
    "all_airports"
   ],
   "metadata": {
    "collapsed": false,
    "pycharm": {
     "name": "#%%\n"
    }
   }
  },
  {
   "cell_type": "code",
   "execution_count": null,
   "outputs": [],
   "source": [],
   "metadata": {
    "collapsed": false,
    "pycharm": {
     "name": "#%%\n"
    }
   }
  }
 ],
 "metadata": {
  "kernelspec": {
   "display_name": "Python 3",
   "language": "python",
   "name": "python3"
  },
  "language_info": {
   "codemirror_mode": {
    "name": "ipython",
    "version": 2
   },
   "file_extension": ".py",
   "mimetype": "text/x-python",
   "name": "python",
   "nbconvert_exporter": "python",
   "pygments_lexer": "ipython2",
   "version": "2.7.6"
  }
 },
 "nbformat": 4,
 "nbformat_minor": 0
}