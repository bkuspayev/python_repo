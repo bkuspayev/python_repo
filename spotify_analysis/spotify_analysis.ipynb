{
 "cells": [
  {
   "cell_type": "code",
   "execution_count": 1,
   "metadata": {
    "collapsed": true
   },
   "outputs": [],
   "source": [
    "import spotipy\n",
    "from spotipy.oauth2 import SpotifyClientCredentials\n",
    "import pandas as pd\n",
    "import os"
   ]
  },
  {
   "cell_type": "markdown",
   "source": [
    "client_id = 'de24dc5779c74a3f828461ab842b735f'\n",
    "client_secret = '08be5af77d964432aa55bb1a8374beab'"
   ],
   "metadata": {
    "collapsed": false,
    "pycharm": {
     "name": "#%% md\n"
    }
   }
  },
  {
   "cell_type": "code",
   "execution_count": 2,
   "outputs": [],
   "source": [
    "os.environ['SPOTIPY_CLIENT_ID'] = 'de24dc5779c74a3f828461ab842b735f'\n",
    "os.environ['SPOTIPY_CLIENT_SECRET'] ='08be5af77d964432aa55bb1a8374beab'"
   ],
   "metadata": {
    "collapsed": false,
    "pycharm": {
     "name": "#%%\n"
    }
   }
  },
  {
   "cell_type": "code",
   "execution_count": 3,
   "outputs": [],
   "source": [
    "auth_manager = SpotifyClientCredentials()\n",
    "sp = spotipy.Spotify(auth_manager=auth_manager)"
   ],
   "metadata": {
    "collapsed": false,
    "pycharm": {
     "name": "#%%\n"
    }
   }
  },
  {
   "cell_type": "code",
   "execution_count": 4,
   "outputs": [
    {
     "data": {
      "text/plain": "{'external_urls': {'spotify': 'https://open.spotify.com/artist/4dpARuHxo51G3z768sgnrY'},\n 'href': 'https://api.spotify.com/v1/artists/4dpARuHxo51G3z768sgnrY',\n 'id': '4dpARuHxo51G3z768sgnrY',\n 'name': 'Adele',\n 'type': 'artist',\n 'uri': 'spotify:artist:4dpARuHxo51G3z768sgnrY'}"
     },
     "execution_count": 4,
     "metadata": {},
     "output_type": "execute_result"
    }
   ],
   "source": [
    "sp.playlist('37i9dQZEVXbMDoHDwVN2tF')['tracks']['items'][2]['track']['album']['artists'][0]"
   ],
   "metadata": {
    "collapsed": false,
    "pycharm": {
     "name": "#%%\n"
    }
   }
  },
  {
   "cell_type": "code",
   "execution_count": 5,
   "outputs": [],
   "source": [
    "top50 = sp.playlist('37i9dQZEVXbMDoHDwVN2tF')['tracks']['items']"
   ],
   "metadata": {
    "collapsed": false,
    "pycharm": {
     "name": "#%%\n"
    }
   }
  },
  {
   "cell_type": "code",
   "execution_count": 8,
   "outputs": [],
   "source": [
    "artists = []\n",
    "for i in range(len(top50)):\n",
    "    artists.append(sp.playlist('37i9dQZEVXbMDoHDwVN2tF')['tracks']['items'][i]['track']['album']['artists'][0]['name'])"
   ],
   "metadata": {
    "collapsed": false,
    "pycharm": {
     "name": "#%%\n"
    }
   }
  },
  {
   "cell_type": "code",
   "execution_count": 9,
   "outputs": [
    {
     "data": {
      "text/plain": "['GAYLE',\n 'The Kid LAROI',\n 'Adele',\n 'Lil Nas X',\n 'Glass Animals',\n 'Imagine Dragons',\n 'Elton John',\n 'Ed Sheeran',\n 'Farruko',\n 'ACRAZE',\n 'Ed Sheeran',\n 'Doja Cat',\n 'Coldplay',\n 'Olivia Rodrigo',\n 'Jaymes Young',\n 'Doja Cat',\n 'Lil Nas X',\n 'Doja Cat',\n 'CKay',\n 'Bad Bunny',\n 'Taylor Swift',\n 'Måneskin',\n 'Justin Bieber',\n 'The Weeknd',\n 'LISA',\n 'Tainy',\n 'Lil Nas X',\n 'Lost Frequencies',\n 'Billie Eilish',\n 'Dua Lipa',\n 'BoyWithUke',\n 'Olivia Rodrigo',\n 'The Walters',\n 'The Neighbourhood',\n 'Olivia Rodrigo',\n 'Post Malone',\n 'SZA',\n 'zzoilo',\n 'Rauw Alejandro',\n 'CKay',\n 'Bruno Mars',\n 'Adele',\n 'Aventura',\n 'The Weeknd',\n 'Emmy Meli',\n 'Tiësto',\n 'Shawn Mendes',\n 'Lin-Manuel Miranda',\n 'Justin Bieber',\n 'Bad Bunny']"
     },
     "execution_count": 9,
     "metadata": {},
     "output_type": "execute_result"
    }
   ],
   "source": [
    "artists"
   ],
   "metadata": {
    "collapsed": false,
    "pycharm": {
     "name": "#%%\n"
    }
   }
  },
  {
   "cell_type": "code",
   "execution_count": null,
   "outputs": [],
   "source": [],
   "metadata": {
    "collapsed": false,
    "pycharm": {
     "name": "#%%\n"
    }
   }
  }
 ],
 "metadata": {
  "kernelspec": {
   "display_name": "Python 3",
   "language": "python",
   "name": "python3"
  },
  "language_info": {
   "codemirror_mode": {
    "name": "ipython",
    "version": 2
   },
   "file_extension": ".py",
   "mimetype": "text/x-python",
   "name": "python",
   "nbconvert_exporter": "python",
   "pygments_lexer": "ipython2",
   "version": "2.7.6"
  }
 },
 "nbformat": 4,
 "nbformat_minor": 0
}