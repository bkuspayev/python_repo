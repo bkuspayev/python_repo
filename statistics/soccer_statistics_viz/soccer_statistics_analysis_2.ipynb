{
 "cells": [
  {
   "cell_type": "code",
   "execution_count": 1,
   "metadata": {
    "collapsed": true
   },
   "outputs": [],
   "source": [
    "import pandas as pd\n",
    "import numpy as np\n",
    "import matplotlib.pyplot as plt"
   ]
  },
  {
   "cell_type": "code",
   "execution_count": 2,
   "outputs": [],
   "source": [
    "game = pd.read_excel('soccer.xlsx', 1)"
   ],
   "metadata": {
    "collapsed": false,
    "pycharm": {
     "name": "#%%\n"
    }
   }
  },
  {
   "cell_type": "code",
   "execution_count": 3,
   "outputs": [
    {
     "data": {
      "text/plain": "          team              action  pos_x  pos_y\n0  Real Madrid  Удар перехваченный     90     52\n1  Real Madrid  Удар в створ ворот     95     48\n2  Real Madrid  Удар в створ ворот     97     28\n3  Real Madrid                 Гол     92     40\n4  Real Madrid  Удар перехваченный     89     27",
      "text/html": "<div>\n<style scoped>\n    .dataframe tbody tr th:only-of-type {\n        vertical-align: middle;\n    }\n\n    .dataframe tbody tr th {\n        vertical-align: top;\n    }\n\n    .dataframe thead th {\n        text-align: right;\n    }\n</style>\n<table border=\"1\" class=\"dataframe\">\n  <thead>\n    <tr style=\"text-align: right;\">\n      <th></th>\n      <th>team</th>\n      <th>action</th>\n      <th>pos_x</th>\n      <th>pos_y</th>\n    </tr>\n  </thead>\n  <tbody>\n    <tr>\n      <th>0</th>\n      <td>Real Madrid</td>\n      <td>Удар перехваченный</td>\n      <td>90</td>\n      <td>52</td>\n    </tr>\n    <tr>\n      <th>1</th>\n      <td>Real Madrid</td>\n      <td>Удар в створ ворот</td>\n      <td>95</td>\n      <td>48</td>\n    </tr>\n    <tr>\n      <th>2</th>\n      <td>Real Madrid</td>\n      <td>Удар в створ ворот</td>\n      <td>97</td>\n      <td>28</td>\n    </tr>\n    <tr>\n      <th>3</th>\n      <td>Real Madrid</td>\n      <td>Гол</td>\n      <td>92</td>\n      <td>40</td>\n    </tr>\n    <tr>\n      <th>4</th>\n      <td>Real Madrid</td>\n      <td>Удар перехваченный</td>\n      <td>89</td>\n      <td>27</td>\n    </tr>\n  </tbody>\n</table>\n</div>"
     },
     "execution_count": 3,
     "metadata": {},
     "output_type": "execute_result"
    }
   ],
   "source": [
    "game.head()"
   ],
   "metadata": {
    "collapsed": false,
    "pycharm": {
     "name": "#%%\n"
    }
   }
  },
  {
   "cell_type": "code",
   "execution_count": 4,
   "outputs": [],
   "source": [
    "game_real = game.query('team == \"Real Madrid\"')"
   ],
   "metadata": {
    "collapsed": false,
    "pycharm": {
     "name": "#%%\n"
    }
   }
  },
  {
   "cell_type": "code",
   "execution_count": 5,
   "outputs": [
    {
     "data": {
      "text/plain": "             team                        action  pos_x  pos_y\n0     Real Madrid            Удар перехваченный     90     52\n1     Real Madrid            Удар в створ ворот     95     48\n2     Real Madrid            Удар в створ ворот     97     28\n3     Real Madrid                           Гол     92     40\n4     Real Madrid            Удар перехваченный     89     27\n...           ...                           ...    ...    ...\n6753  Real Madrid  Удар отбитый полевым игроком    101     45\n6754  Real Madrid            Удар в створ ворот     77     39\n6755  Real Madrid            Удар перехваченный     95     26\n6756  Real Madrid            Удар перехваченный     75     37\n6757  Real Madrid            Удар в створ ворот     74     44\n\n[4464 rows x 4 columns]",
      "text/html": "<div>\n<style scoped>\n    .dataframe tbody tr th:only-of-type {\n        vertical-align: middle;\n    }\n\n    .dataframe tbody tr th {\n        vertical-align: top;\n    }\n\n    .dataframe thead th {\n        text-align: right;\n    }\n</style>\n<table border=\"1\" class=\"dataframe\">\n  <thead>\n    <tr style=\"text-align: right;\">\n      <th></th>\n      <th>team</th>\n      <th>action</th>\n      <th>pos_x</th>\n      <th>pos_y</th>\n    </tr>\n  </thead>\n  <tbody>\n    <tr>\n      <th>0</th>\n      <td>Real Madrid</td>\n      <td>Удар перехваченный</td>\n      <td>90</td>\n      <td>52</td>\n    </tr>\n    <tr>\n      <th>1</th>\n      <td>Real Madrid</td>\n      <td>Удар в створ ворот</td>\n      <td>95</td>\n      <td>48</td>\n    </tr>\n    <tr>\n      <th>2</th>\n      <td>Real Madrid</td>\n      <td>Удар в створ ворот</td>\n      <td>97</td>\n      <td>28</td>\n    </tr>\n    <tr>\n      <th>3</th>\n      <td>Real Madrid</td>\n      <td>Гол</td>\n      <td>92</td>\n      <td>40</td>\n    </tr>\n    <tr>\n      <th>4</th>\n      <td>Real Madrid</td>\n      <td>Удар перехваченный</td>\n      <td>89</td>\n      <td>27</td>\n    </tr>\n    <tr>\n      <th>...</th>\n      <td>...</td>\n      <td>...</td>\n      <td>...</td>\n      <td>...</td>\n    </tr>\n    <tr>\n      <th>6753</th>\n      <td>Real Madrid</td>\n      <td>Удар отбитый полевым игроком</td>\n      <td>101</td>\n      <td>45</td>\n    </tr>\n    <tr>\n      <th>6754</th>\n      <td>Real Madrid</td>\n      <td>Удар в створ ворот</td>\n      <td>77</td>\n      <td>39</td>\n    </tr>\n    <tr>\n      <th>6755</th>\n      <td>Real Madrid</td>\n      <td>Удар перехваченный</td>\n      <td>95</td>\n      <td>26</td>\n    </tr>\n    <tr>\n      <th>6756</th>\n      <td>Real Madrid</td>\n      <td>Удар перехваченный</td>\n      <td>75</td>\n      <td>37</td>\n    </tr>\n    <tr>\n      <th>6757</th>\n      <td>Real Madrid</td>\n      <td>Удар в створ ворот</td>\n      <td>74</td>\n      <td>44</td>\n    </tr>\n  </tbody>\n</table>\n<p>4464 rows × 4 columns</p>\n</div>"
     },
     "execution_count": 5,
     "metadata": {},
     "output_type": "execute_result"
    }
   ],
   "source": [
    "game_real"
   ],
   "metadata": {
    "collapsed": false,
    "pycharm": {
     "name": "#%%\n"
    }
   }
  },
  {
   "cell_type": "code",
   "execution_count": 6,
   "outputs": [
    {
     "name": "stderr",
     "output_type": "stream",
     "text": [
      "C:\\ProgramData\\Anaconda3\\lib\\site-packages\\pandas\\core\\indexing.py:845: SettingWithCopyWarning: \n",
      "A value is trying to be set on a copy of a slice from a DataFrame.\n",
      "Try using .loc[row_indexer,col_indexer] = value instead\n",
      "\n",
      "See the caveats in the documentation: https://pandas.pydata.org/pandas-docs/stable/user_guide/indexing.html#returning-a-view-versus-a-copy\n",
      "  self.obj[key] = _infer_fill_value(value)\n",
      "C:\\ProgramData\\Anaconda3\\lib\\site-packages\\pandas\\core\\indexing.py:966: SettingWithCopyWarning: \n",
      "A value is trying to be set on a copy of a slice from a DataFrame.\n",
      "Try using .loc[row_indexer,col_indexer] = value instead\n",
      "\n",
      "See the caveats in the documentation: https://pandas.pydata.org/pandas-docs/stable/user_guide/indexing.html#returning-a-view-versus-a-copy\n",
      "  self.obj[item] = s\n"
     ]
    }
   ],
   "source": [
    "game_real.loc[:,'hit'] = game_real.loc[:, 'action'].apply(lambda x: 1 if x.startswith('Удар') else 0)"
   ],
   "metadata": {
    "collapsed": false,
    "pycharm": {
     "name": "#%%\n"
    }
   }
  },
  {
   "cell_type": "code",
   "execution_count": 7,
   "outputs": [
    {
     "name": "stderr",
     "output_type": "stream",
     "text": [
      "C:\\ProgramData\\Anaconda3\\lib\\site-packages\\pandas\\core\\indexing.py:845: SettingWithCopyWarning: \n",
      "A value is trying to be set on a copy of a slice from a DataFrame.\n",
      "Try using .loc[row_indexer,col_indexer] = value instead\n",
      "\n",
      "See the caveats in the documentation: https://pandas.pydata.org/pandas-docs/stable/user_guide/indexing.html#returning-a-view-versus-a-copy\n",
      "  self.obj[key] = _infer_fill_value(value)\n",
      "C:\\ProgramData\\Anaconda3\\lib\\site-packages\\pandas\\core\\indexing.py:966: SettingWithCopyWarning: \n",
      "A value is trying to be set on a copy of a slice from a DataFrame.\n",
      "Try using .loc[row_indexer,col_indexer] = value instead\n",
      "\n",
      "See the caveats in the documentation: https://pandas.pydata.org/pandas-docs/stable/user_guide/indexing.html#returning-a-view-versus-a-copy\n",
      "  self.obj[item] = s\n"
     ]
    }
   ],
   "source": [
    "game_real.loc[:,'goal'] = game_real.loc[:, 'action'].apply(lambda x: 1 if x.startswith('Гол') else 0)"
   ],
   "metadata": {
    "collapsed": false,
    "pycharm": {
     "name": "#%%\n"
    }
   }
  },
  {
   "cell_type": "code",
   "execution_count": 8,
   "outputs": [
    {
     "data": {
      "text/plain": "             team                        action  pos_x  pos_y  hit  goal\n0     Real Madrid            Удар перехваченный     90     52    1     0\n1     Real Madrid            Удар в створ ворот     95     48    1     0\n2     Real Madrid            Удар в створ ворот     97     28    1     0\n3     Real Madrid                           Гол     92     40    0     1\n4     Real Madrid            Удар перехваченный     89     27    1     0\n...           ...                           ...    ...    ...  ...   ...\n6753  Real Madrid  Удар отбитый полевым игроком    101     45    1     0\n6754  Real Madrid            Удар в створ ворот     77     39    1     0\n6755  Real Madrid            Удар перехваченный     95     26    1     0\n6756  Real Madrid            Удар перехваченный     75     37    1     0\n6757  Real Madrid            Удар в створ ворот     74     44    1     0\n\n[4464 rows x 6 columns]",
      "text/html": "<div>\n<style scoped>\n    .dataframe tbody tr th:only-of-type {\n        vertical-align: middle;\n    }\n\n    .dataframe tbody tr th {\n        vertical-align: top;\n    }\n\n    .dataframe thead th {\n        text-align: right;\n    }\n</style>\n<table border=\"1\" class=\"dataframe\">\n  <thead>\n    <tr style=\"text-align: right;\">\n      <th></th>\n      <th>team</th>\n      <th>action</th>\n      <th>pos_x</th>\n      <th>pos_y</th>\n      <th>hit</th>\n      <th>goal</th>\n    </tr>\n  </thead>\n  <tbody>\n    <tr>\n      <th>0</th>\n      <td>Real Madrid</td>\n      <td>Удар перехваченный</td>\n      <td>90</td>\n      <td>52</td>\n      <td>1</td>\n      <td>0</td>\n    </tr>\n    <tr>\n      <th>1</th>\n      <td>Real Madrid</td>\n      <td>Удар в створ ворот</td>\n      <td>95</td>\n      <td>48</td>\n      <td>1</td>\n      <td>0</td>\n    </tr>\n    <tr>\n      <th>2</th>\n      <td>Real Madrid</td>\n      <td>Удар в створ ворот</td>\n      <td>97</td>\n      <td>28</td>\n      <td>1</td>\n      <td>0</td>\n    </tr>\n    <tr>\n      <th>3</th>\n      <td>Real Madrid</td>\n      <td>Гол</td>\n      <td>92</td>\n      <td>40</td>\n      <td>0</td>\n      <td>1</td>\n    </tr>\n    <tr>\n      <th>4</th>\n      <td>Real Madrid</td>\n      <td>Удар перехваченный</td>\n      <td>89</td>\n      <td>27</td>\n      <td>1</td>\n      <td>0</td>\n    </tr>\n    <tr>\n      <th>...</th>\n      <td>...</td>\n      <td>...</td>\n      <td>...</td>\n      <td>...</td>\n      <td>...</td>\n      <td>...</td>\n    </tr>\n    <tr>\n      <th>6753</th>\n      <td>Real Madrid</td>\n      <td>Удар отбитый полевым игроком</td>\n      <td>101</td>\n      <td>45</td>\n      <td>1</td>\n      <td>0</td>\n    </tr>\n    <tr>\n      <th>6754</th>\n      <td>Real Madrid</td>\n      <td>Удар в створ ворот</td>\n      <td>77</td>\n      <td>39</td>\n      <td>1</td>\n      <td>0</td>\n    </tr>\n    <tr>\n      <th>6755</th>\n      <td>Real Madrid</td>\n      <td>Удар перехваченный</td>\n      <td>95</td>\n      <td>26</td>\n      <td>1</td>\n      <td>0</td>\n    </tr>\n    <tr>\n      <th>6756</th>\n      <td>Real Madrid</td>\n      <td>Удар перехваченный</td>\n      <td>75</td>\n      <td>37</td>\n      <td>1</td>\n      <td>0</td>\n    </tr>\n    <tr>\n      <th>6757</th>\n      <td>Real Madrid</td>\n      <td>Удар в створ ворот</td>\n      <td>74</td>\n      <td>44</td>\n      <td>1</td>\n      <td>0</td>\n    </tr>\n  </tbody>\n</table>\n<p>4464 rows × 6 columns</p>\n</div>"
     },
     "execution_count": 8,
     "metadata": {},
     "output_type": "execute_result"
    }
   ],
   "source": [
    "game_real"
   ],
   "metadata": {
    "collapsed": false,
    "pycharm": {
     "name": "#%%\n"
    }
   }
  },
  {
   "cell_type": "code",
   "execution_count": 9,
   "outputs": [],
   "source": [
    "gamex = game_real"
   ],
   "metadata": {
    "collapsed": false,
    "pycharm": {
     "name": "#%%\n"
    }
   }
  },
  {
   "cell_type": "code",
   "execution_count": 10,
   "outputs": [
    {
     "data": {
      "text/plain": "             team                        action  pos_x  pos_y  hit  goal\n0     Real Madrid            Удар перехваченный     90     52    1     0\n1     Real Madrid            Удар в створ ворот     95     48    1     0\n2     Real Madrid            Удар в створ ворот     97     28    1     0\n3     Real Madrid                           Гол     92     40    0     1\n4     Real Madrid            Удар перехваченный     89     27    1     0\n...           ...                           ...    ...    ...  ...   ...\n6753  Real Madrid  Удар отбитый полевым игроком    101     45    1     0\n6754  Real Madrid            Удар в створ ворот     77     39    1     0\n6755  Real Madrid            Удар перехваченный     95     26    1     0\n6756  Real Madrid            Удар перехваченный     75     37    1     0\n6757  Real Madrid            Удар в створ ворот     74     44    1     0\n\n[4464 rows x 6 columns]",
      "text/html": "<div>\n<style scoped>\n    .dataframe tbody tr th:only-of-type {\n        vertical-align: middle;\n    }\n\n    .dataframe tbody tr th {\n        vertical-align: top;\n    }\n\n    .dataframe thead th {\n        text-align: right;\n    }\n</style>\n<table border=\"1\" class=\"dataframe\">\n  <thead>\n    <tr style=\"text-align: right;\">\n      <th></th>\n      <th>team</th>\n      <th>action</th>\n      <th>pos_x</th>\n      <th>pos_y</th>\n      <th>hit</th>\n      <th>goal</th>\n    </tr>\n  </thead>\n  <tbody>\n    <tr>\n      <th>0</th>\n      <td>Real Madrid</td>\n      <td>Удар перехваченный</td>\n      <td>90</td>\n      <td>52</td>\n      <td>1</td>\n      <td>0</td>\n    </tr>\n    <tr>\n      <th>1</th>\n      <td>Real Madrid</td>\n      <td>Удар в створ ворот</td>\n      <td>95</td>\n      <td>48</td>\n      <td>1</td>\n      <td>0</td>\n    </tr>\n    <tr>\n      <th>2</th>\n      <td>Real Madrid</td>\n      <td>Удар в створ ворот</td>\n      <td>97</td>\n      <td>28</td>\n      <td>1</td>\n      <td>0</td>\n    </tr>\n    <tr>\n      <th>3</th>\n      <td>Real Madrid</td>\n      <td>Гол</td>\n      <td>92</td>\n      <td>40</td>\n      <td>0</td>\n      <td>1</td>\n    </tr>\n    <tr>\n      <th>4</th>\n      <td>Real Madrid</td>\n      <td>Удар перехваченный</td>\n      <td>89</td>\n      <td>27</td>\n      <td>1</td>\n      <td>0</td>\n    </tr>\n    <tr>\n      <th>...</th>\n      <td>...</td>\n      <td>...</td>\n      <td>...</td>\n      <td>...</td>\n      <td>...</td>\n      <td>...</td>\n    </tr>\n    <tr>\n      <th>6753</th>\n      <td>Real Madrid</td>\n      <td>Удар отбитый полевым игроком</td>\n      <td>101</td>\n      <td>45</td>\n      <td>1</td>\n      <td>0</td>\n    </tr>\n    <tr>\n      <th>6754</th>\n      <td>Real Madrid</td>\n      <td>Удар в створ ворот</td>\n      <td>77</td>\n      <td>39</td>\n      <td>1</td>\n      <td>0</td>\n    </tr>\n    <tr>\n      <th>6755</th>\n      <td>Real Madrid</td>\n      <td>Удар перехваченный</td>\n      <td>95</td>\n      <td>26</td>\n      <td>1</td>\n      <td>0</td>\n    </tr>\n    <tr>\n      <th>6756</th>\n      <td>Real Madrid</td>\n      <td>Удар перехваченный</td>\n      <td>75</td>\n      <td>37</td>\n      <td>1</td>\n      <td>0</td>\n    </tr>\n    <tr>\n      <th>6757</th>\n      <td>Real Madrid</td>\n      <td>Удар в створ ворот</td>\n      <td>74</td>\n      <td>44</td>\n      <td>1</td>\n      <td>0</td>\n    </tr>\n  </tbody>\n</table>\n<p>4464 rows × 6 columns</p>\n</div>"
     },
     "execution_count": 10,
     "metadata": {},
     "output_type": "execute_result"
    }
   ],
   "source": [
    "gamex"
   ],
   "metadata": {
    "collapsed": false,
    "pycharm": {
     "name": "#%%\n"
    }
   }
  },
  {
   "cell_type": "code",
   "execution_count": 11,
   "outputs": [],
   "source": [
    "gamex1 = gamex.groupby(['team', 'pos_x', 'pos_y'], as_index=False) \\\n",
    "    .agg({'hit': 'sum', 'goal': 'sum'})"
   ],
   "metadata": {
    "collapsed": false,
    "pycharm": {
     "name": "#%%\n"
    }
   }
  },
  {
   "cell_type": "code",
   "execution_count": 12,
   "outputs": [],
   "source": [
    "field = np.zeros(shape=(68,105), dtype=float)"
   ],
   "metadata": {
    "collapsed": false,
    "pycharm": {
     "name": "#%%\n"
    }
   }
  },
  {
   "cell_type": "code",
   "execution_count": 13,
   "outputs": [],
   "source": [
    "for i in range(len(gamex1.pos_x)):\n",
    "    field[gamex1.pos_y[i] - 1][gamex1.pos_x[i] - 1] = gamex1.hit[i]"
   ],
   "metadata": {
    "collapsed": false,
    "pycharm": {
     "name": "#%%\n"
    }
   }
  },
  {
   "cell_type": "code",
   "execution_count": 14,
   "outputs": [
    {
     "data": {
      "text/plain": "<Figure size 432x288 with 0 Axes>"
     },
     "metadata": {},
     "output_type": "display_data"
    },
    {
     "data": {
      "text/plain": "<Figure size 1512x979.2 with 1 Axes>",
      "image/png": "[encoded data removed]"
     },
     "metadata": {
      "needs_background": "light"
     },
     "output_type": "display_data"
    }
   ],
   "source": [
    "plt.gcf().set_facecolor(\"green\")\n",
    "plt.figure(figsize=(21,13.6))\n",
    "plt.imshow(field, cmap='summer', interpolation='nearest')\n",
    "plt.show()"
   ],
   "metadata": {
    "collapsed": false,
    "pycharm": {
     "name": "#%%\n"
    }
   }
  },
  {
   "cell_type": "code",
   "execution_count": 15,
   "outputs": [
    {
     "data": {
      "text/plain": "             team                        action  pos_x  pos_y  hit  goal\n0     Real Madrid            Удар перехваченный     90     52    1     0\n1     Real Madrid            Удар в створ ворот     95     48    1     0\n2     Real Madrid            Удар в створ ворот     97     28    1     0\n3     Real Madrid                           Гол     92     40    0     1\n4     Real Madrid            Удар перехваченный     89     27    1     0\n...           ...                           ...    ...    ...  ...   ...\n6753  Real Madrid  Удар отбитый полевым игроком    101     45    1     0\n6754  Real Madrid            Удар в створ ворот     77     39    1     0\n6755  Real Madrid            Удар перехваченный     95     26    1     0\n6756  Real Madrid            Удар перехваченный     75     37    1     0\n6757  Real Madrid            Удар в створ ворот     74     44    1     0\n\n[4464 rows x 6 columns]",
      "text/html": "<div>\n<style scoped>\n    .dataframe tbody tr th:only-of-type {\n        vertical-align: middle;\n    }\n\n    .dataframe tbody tr th {\n        vertical-align: top;\n    }\n\n    .dataframe thead th {\n        text-align: right;\n    }\n</style>\n<table border=\"1\" class=\"dataframe\">\n  <thead>\n    <tr style=\"text-align: right;\">\n      <th></th>\n      <th>team</th>\n      <th>action</th>\n      <th>pos_x</th>\n      <th>pos_y</th>\n      <th>hit</th>\n      <th>goal</th>\n    </tr>\n  </thead>\n  <tbody>\n    <tr>\n      <th>0</th>\n      <td>Real Madrid</td>\n      <td>Удар перехваченный</td>\n      <td>90</td>\n      <td>52</td>\n      <td>1</td>\n      <td>0</td>\n    </tr>\n    <tr>\n      <th>1</th>\n      <td>Real Madrid</td>\n      <td>Удар в створ ворот</td>\n      <td>95</td>\n      <td>48</td>\n      <td>1</td>\n      <td>0</td>\n    </tr>\n    <tr>\n      <th>2</th>\n      <td>Real Madrid</td>\n      <td>Удар в створ ворот</td>\n      <td>97</td>\n      <td>28</td>\n      <td>1</td>\n      <td>0</td>\n    </tr>\n    <tr>\n      <th>3</th>\n      <td>Real Madrid</td>\n      <td>Гол</td>\n      <td>92</td>\n      <td>40</td>\n      <td>0</td>\n      <td>1</td>\n    </tr>\n    <tr>\n      <th>4</th>\n      <td>Real Madrid</td>\n      <td>Удар перехваченный</td>\n      <td>89</td>\n      <td>27</td>\n      <td>1</td>\n      <td>0</td>\n    </tr>\n    <tr>\n      <th>...</th>\n      <td>...</td>\n      <td>...</td>\n      <td>...</td>\n      <td>...</td>\n      <td>...</td>\n      <td>...</td>\n    </tr>\n    <tr>\n      <th>6753</th>\n      <td>Real Madrid</td>\n      <td>Удар отбитый полевым игроком</td>\n      <td>101</td>\n      <td>45</td>\n      <td>1</td>\n      <td>0</td>\n    </tr>\n    <tr>\n      <th>6754</th>\n      <td>Real Madrid</td>\n      <td>Удар в створ ворот</td>\n      <td>77</td>\n      <td>39</td>\n      <td>1</td>\n      <td>0</td>\n    </tr>\n    <tr>\n      <th>6755</th>\n      <td>Real Madrid</td>\n      <td>Удар перехваченный</td>\n      <td>95</td>\n      <td>26</td>\n      <td>1</td>\n      <td>0</td>\n    </tr>\n    <tr>\n      <th>6756</th>\n      <td>Real Madrid</td>\n      <td>Удар перехваченный</td>\n      <td>75</td>\n      <td>37</td>\n      <td>1</td>\n      <td>0</td>\n    </tr>\n    <tr>\n      <th>6757</th>\n      <td>Real Madrid</td>\n      <td>Удар в створ ворот</td>\n      <td>74</td>\n      <td>44</td>\n      <td>1</td>\n      <td>0</td>\n    </tr>\n  </tbody>\n</table>\n<p>4464 rows × 6 columns</p>\n</div>"
     },
     "execution_count": 15,
     "metadata": {},
     "output_type": "execute_result"
    }
   ],
   "source": [
    "gamex"
   ],
   "metadata": {
    "collapsed": false,
    "pycharm": {
     "name": "#%%\n"
    }
   }
  },
  {
   "cell_type": "code",
   "execution_count": 16,
   "outputs": [],
   "source": [
    "gamex = gamex.fillna(0)"
   ],
   "metadata": {
    "collapsed": false,
    "pycharm": {
     "name": "#%%\n"
    }
   }
  },
  {
   "cell_type": "code",
   "execution_count": 17,
   "outputs": [],
   "source": [
    "gamex.index = [x for x in zip(gamex.pop('pos_x'), gamex.pop('pos_y'))]"
   ],
   "metadata": {
    "collapsed": false,
    "pycharm": {
     "name": "#%%\n"
    }
   }
  },
  {
   "cell_type": "code",
   "execution_count": 18,
   "outputs": [
    {
     "data": {
      "text/plain": "Index(['team', 'action', 'hit', 'goal'], dtype='object')"
     },
     "execution_count": 18,
     "metadata": {},
     "output_type": "execute_result"
    }
   ],
   "source": [
    "gamex.columns"
   ],
   "metadata": {
    "collapsed": false,
    "pycharm": {
     "name": "#%%\n"
    }
   }
  },
  {
   "cell_type": "code",
   "execution_count": 19,
   "outputs": [
    {
     "data": {
      "text/plain": "                  team                        action  hit  goal\n(90, 52)   Real Madrid            Удар перехваченный    1     0\n(95, 48)   Real Madrid            Удар в створ ворот    1     0\n(97, 28)   Real Madrid            Удар в створ ворот    1     0\n(92, 40)   Real Madrid                           Гол    0     1\n(89, 27)   Real Madrid            Удар перехваченный    1     0\n...                ...                           ...  ...   ...\n(101, 45)  Real Madrid  Удар отбитый полевым игроком    1     0\n(77, 39)   Real Madrid            Удар в створ ворот    1     0\n(95, 26)   Real Madrid            Удар перехваченный    1     0\n(75, 37)   Real Madrid            Удар перехваченный    1     0\n(74, 44)   Real Madrid            Удар в створ ворот    1     0\n\n[4464 rows x 4 columns]",
      "text/html": "<div>\n<style scoped>\n    .dataframe tbody tr th:only-of-type {\n        vertical-align: middle;\n    }\n\n    .dataframe tbody tr th {\n        vertical-align: top;\n    }\n\n    .dataframe thead th {\n        text-align: right;\n    }\n</style>\n<table border=\"1\" class=\"dataframe\">\n  <thead>\n    <tr style=\"text-align: right;\">\n      <th></th>\n      <th>team</th>\n      <th>action</th>\n      <th>hit</th>\n      <th>goal</th>\n    </tr>\n  </thead>\n  <tbody>\n    <tr>\n      <th>(90, 52)</th>\n      <td>Real Madrid</td>\n      <td>Удар перехваченный</td>\n      <td>1</td>\n      <td>0</td>\n    </tr>\n    <tr>\n      <th>(95, 48)</th>\n      <td>Real Madrid</td>\n      <td>Удар в створ ворот</td>\n      <td>1</td>\n      <td>0</td>\n    </tr>\n    <tr>\n      <th>(97, 28)</th>\n      <td>Real Madrid</td>\n      <td>Удар в створ ворот</td>\n      <td>1</td>\n      <td>0</td>\n    </tr>\n    <tr>\n      <th>(92, 40)</th>\n      <td>Real Madrid</td>\n      <td>Гол</td>\n      <td>0</td>\n      <td>1</td>\n    </tr>\n    <tr>\n      <th>(89, 27)</th>\n      <td>Real Madrid</td>\n      <td>Удар перехваченный</td>\n      <td>1</td>\n      <td>0</td>\n    </tr>\n    <tr>\n      <th>...</th>\n      <td>...</td>\n      <td>...</td>\n      <td>...</td>\n      <td>...</td>\n    </tr>\n    <tr>\n      <th>(101, 45)</th>\n      <td>Real Madrid</td>\n      <td>Удар отбитый полевым игроком</td>\n      <td>1</td>\n      <td>0</td>\n    </tr>\n    <tr>\n      <th>(77, 39)</th>\n      <td>Real Madrid</td>\n      <td>Удар в створ ворот</td>\n      <td>1</td>\n      <td>0</td>\n    </tr>\n    <tr>\n      <th>(95, 26)</th>\n      <td>Real Madrid</td>\n      <td>Удар перехваченный</td>\n      <td>1</td>\n      <td>0</td>\n    </tr>\n    <tr>\n      <th>(75, 37)</th>\n      <td>Real Madrid</td>\n      <td>Удар перехваченный</td>\n      <td>1</td>\n      <td>0</td>\n    </tr>\n    <tr>\n      <th>(74, 44)</th>\n      <td>Real Madrid</td>\n      <td>Удар в створ ворот</td>\n      <td>1</td>\n      <td>0</td>\n    </tr>\n  </tbody>\n</table>\n<p>4464 rows × 4 columns</p>\n</div>"
     },
     "execution_count": 19,
     "metadata": {},
     "output_type": "execute_result"
    }
   ],
   "source": [
    "gamex"
   ],
   "metadata": {
    "collapsed": false,
    "pycharm": {
     "name": "#%%\n"
    }
   }
  },
  {
   "cell_type": "code",
   "execution_count": 20,
   "outputs": [
    {
     "data": {
      "text/plain": "                 team              action  hit  goal\n(96, 24)  Real Madrid                 Гол    0     1\n(96, 24)  Real Madrid  Удар в створ ворот    1     0\n(96, 24)  Real Madrid  Удар в створ ворот    1     0\n(96, 24)  Real Madrid           Удар мимо    1     0\n(96, 24)  Real Madrid  Удар в створ ворот    1     0\n(96, 24)  Real Madrid           Удар мимо    1     0",
      "text/html": "<div>\n<style scoped>\n    .dataframe tbody tr th:only-of-type {\n        vertical-align: middle;\n    }\n\n    .dataframe tbody tr th {\n        vertical-align: top;\n    }\n\n    .dataframe thead th {\n        text-align: right;\n    }\n</style>\n<table border=\"1\" class=\"dataframe\">\n  <thead>\n    <tr style=\"text-align: right;\">\n      <th></th>\n      <th>team</th>\n      <th>action</th>\n      <th>hit</th>\n      <th>goal</th>\n    </tr>\n  </thead>\n  <tbody>\n    <tr>\n      <th>(96, 24)</th>\n      <td>Real Madrid</td>\n      <td>Гол</td>\n      <td>0</td>\n      <td>1</td>\n    </tr>\n    <tr>\n      <th>(96, 24)</th>\n      <td>Real Madrid</td>\n      <td>Удар в створ ворот</td>\n      <td>1</td>\n      <td>0</td>\n    </tr>\n    <tr>\n      <th>(96, 24)</th>\n      <td>Real Madrid</td>\n      <td>Удар в створ ворот</td>\n      <td>1</td>\n      <td>0</td>\n    </tr>\n    <tr>\n      <th>(96, 24)</th>\n      <td>Real Madrid</td>\n      <td>Удар мимо</td>\n      <td>1</td>\n      <td>0</td>\n    </tr>\n    <tr>\n      <th>(96, 24)</th>\n      <td>Real Madrid</td>\n      <td>Удар в створ ворот</td>\n      <td>1</td>\n      <td>0</td>\n    </tr>\n    <tr>\n      <th>(96, 24)</th>\n      <td>Real Madrid</td>\n      <td>Удар мимо</td>\n      <td>1</td>\n      <td>0</td>\n    </tr>\n  </tbody>\n</table>\n</div>"
     },
     "execution_count": 20,
     "metadata": {},
     "output_type": "execute_result"
    }
   ],
   "source": [
    "gamex.loc[[(96,24)]]"
   ],
   "metadata": {
    "collapsed": false,
    "pycharm": {
     "name": "#%%\n"
    }
   }
  },
  {
   "cell_type": "code",
   "execution_count": 26,
   "outputs": [],
   "source": [
    "field_percent = np.zeros(shape=(68,105), dtype=float)"
   ],
   "metadata": {
    "collapsed": false,
    "pycharm": {
     "name": "#%%\n"
    }
   }
  },
  {
   "cell_type": "code",
   "execution_count": 27,
   "outputs": [
    {
     "name": "stderr",
     "output_type": "stream",
     "text": [
      "<ipython-input-27-fa7a69b524b2>:3: RuntimeWarning: invalid value encountered in double_scalars\n",
      "  field_percent[i[1] - 1][i[0] - 1] = sum(gamex.goal.loc[[i]]) /   (field[i[1] - 2][i[0] - 1] + field[i[1] - 2][i[0]]\n",
      "<ipython-input-27-fa7a69b524b2>:3: RuntimeWarning: divide by zero encountered in double_scalars\n",
      "  field_percent[i[1] - 1][i[0] - 1] = sum(gamex.goal.loc[[i]]) /   (field[i[1] - 2][i[0] - 1] + field[i[1] - 2][i[0]]\n"
     ]
    }
   ],
   "source": [
    "#fill corner values of the field\n",
    "for i in gamex.index:\n",
    "    field_percent[i[1] - 1][i[0] - 1] = sum(gamex.goal.loc[[i]]) /   (field[i[1] - 2][i[0] - 1] + field[i[1] - 2][i[0]]\n",
    "                                                        + field[i[1] - 1][i[0]] + field[i[1]][i[0]]\n",
    "                                                        + field[i[1]][i[0] - 1] + field[i[1]][i[0] - 2]\n",
    "                                                        + field[i[1] - 1][i[0] - 2] + field[i[1] - 2][i[0] - 2])"
   ],
   "metadata": {
    "collapsed": false,
    "pycharm": {
     "name": "#%%\n"
    }
   }
  },
  {
   "cell_type": "code",
   "execution_count": 28,
   "outputs": [
    {
     "data": {
      "text/plain": "<Figure size 1512x979.2 with 1 Axes>",
      "image/png": "[encoded data removed]"
     },
     "metadata": {
      "needs_background": "light"
     },
     "output_type": "display_data"
    }
   ],
   "source": [
    "#plt.gcf().set_facecolor(\"green\")\n",
    "plt.figure(figsize=(21,13.6))\n",
    "plt.imshow(field_percent, cmap='binary', interpolation='nearest')\n",
    "plt.show()"
   ],
   "metadata": {
    "collapsed": false,
    "pycharm": {
     "name": "#%%\n"
    }
   }
  },
  {
   "cell_type": "code",
   "execution_count": 29,
   "outputs": [],
   "source": [
    "field_percent[np.isnan(field_percent)] = 0"
   ],
   "metadata": {
    "collapsed": false,
    "pycharm": {
     "name": "#%%\n"
    }
   }
  },
  {
   "cell_type": "code",
   "execution_count": 36,
   "outputs": [
    {
     "data": {
      "text/plain": "<Figure size 1512x979.2 with 1 Axes>",
      "image/png": "[encoded data removed]"
     },
     "metadata": {
      "needs_background": "light"
     },
     "output_type": "display_data"
    }
   ],
   "source": [
    "plt.figure(figsize=(21,13.6))\n",
    "plt.imshow(field_percent, cmap='gist_yarg', interpolation='nearest')\n",
    "plt.show()"
   ],
   "metadata": {
    "collapsed": false,
    "pycharm": {
     "name": "#%%\n"
    }
   }
  },
  {
   "cell_type": "code",
   "execution_count": 31,
   "outputs": [
    {
     "data": {
      "text/plain": "array([[0., 0., 0., ..., 0., 0., 0.],\n       [0., 0., 0., ..., 0., 0., 0.],\n       [0., 0., 0., ..., 0., 0., 0.],\n       ...,\n       [0., 0., 0., ..., 0., 0., 0.],\n       [0., 0., 0., ..., 0., 0., 0.],\n       [0., 0., 0., ..., 0., 0., 0.]])"
     },
     "execution_count": 31,
     "metadata": {},
     "output_type": "execute_result"
    }
   ],
   "source": [
    "field_percent"
   ],
   "metadata": {
    "collapsed": false,
    "pycharm": {
     "name": "#%%\n"
    }
   }
  },
  {
   "cell_type": "code",
   "execution_count": null,
   "outputs": [],
   "source": [],
   "metadata": {
    "collapsed": false,
    "pycharm": {
     "name": "#%%\n"
    }
   }
  }
 ],
 "metadata": {
  "kernelspec": {
   "display_name": "Python 3",
   "language": "python",
   "name": "python3"
  },
  "language_info": {
   "codemirror_mode": {
    "name": "ipython",
    "version": 2
   },
   "file_extension": ".py",
   "mimetype": "text/x-python",
   "name": "python",
   "nbconvert_exporter": "python",
   "pygments_lexer": "ipython2",
   "version": "2.7.6"
  }
 },
 "nbformat": 4,
 "nbformat_minor": 0
}